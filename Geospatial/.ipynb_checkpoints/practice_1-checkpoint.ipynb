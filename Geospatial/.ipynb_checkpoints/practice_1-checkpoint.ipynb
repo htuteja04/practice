{
 "cells": [
  {
   "cell_type": "code",
   "execution_count": 28,
   "id": "b28a2576",
   "metadata": {},
   "outputs": [],
   "source": [
    "import geopandas as gpd"
   ]
  },
  {
   "cell_type": "code",
   "execution_count": 39,
   "id": "bd037a7c",
   "metadata": {},
   "outputs": [],
   "source": [
    "d = gpd.read_file('Data/DEC_lands/DEC_lands.shp')"
   ]
  },
  {
   "cell_type": "code",
   "execution_count": 40,
   "id": "43a26f51",
   "metadata": {},
   "outputs": [
    {
     "data": {
      "text/html": [
       "<div>\n",
       "<style scoped>\n",
       "    .dataframe tbody tr th:only-of-type {\n",
       "        vertical-align: middle;\n",
       "    }\n",
       "\n",
       "    .dataframe tbody tr th {\n",
       "        vertical-align: top;\n",
       "    }\n",
       "\n",
       "    .dataframe thead th {\n",
       "        text-align: right;\n",
       "    }\n",
       "</style>\n",
       "<table border=\"1\" class=\"dataframe\">\n",
       "  <thead>\n",
       "    <tr style=\"text-align: right;\">\n",
       "      <th></th>\n",
       "      <th>OBJECTID</th>\n",
       "      <th>CATEGORY</th>\n",
       "      <th>UNIT</th>\n",
       "      <th>FACILITY</th>\n",
       "      <th>CLASS</th>\n",
       "      <th>UMP</th>\n",
       "      <th>DESCRIPTIO</th>\n",
       "      <th>REGION</th>\n",
       "      <th>COUNTY</th>\n",
       "      <th>URL</th>\n",
       "      <th>SOURCE</th>\n",
       "      <th>UPDATE_</th>\n",
       "      <th>OFFICE</th>\n",
       "      <th>ACRES</th>\n",
       "      <th>LANDS_UID</th>\n",
       "      <th>GREENCERT</th>\n",
       "      <th>SHAPE_AREA</th>\n",
       "      <th>SHAPE_LEN</th>\n",
       "      <th>geometry</th>\n",
       "    </tr>\n",
       "  </thead>\n",
       "  <tbody>\n",
       "    <tr>\n",
       "      <th>0</th>\n",
       "      <td>1</td>\n",
       "      <td>FOR PRES DET PAR</td>\n",
       "      <td>CFP</td>\n",
       "      <td>HANCOCK FP DETACHED PARCEL</td>\n",
       "      <td>WILD FOREST</td>\n",
       "      <td>None</td>\n",
       "      <td>DELAWARE COUNTY DETACHED PARCEL</td>\n",
       "      <td>4</td>\n",
       "      <td>DELAWARE</td>\n",
       "      <td>http://www.dec.ny.gov/</td>\n",
       "      <td>DELAWARE RPP</td>\n",
       "      <td>5/12</td>\n",
       "      <td>STAMFORD</td>\n",
       "      <td>738.620192</td>\n",
       "      <td>103</td>\n",
       "      <td>N</td>\n",
       "      <td>2.990365e+06</td>\n",
       "      <td>7927.662385</td>\n",
       "      <td>POLYGON ((486093.245 4635308.586, 486787.235 4...</td>\n",
       "    </tr>\n",
       "    <tr>\n",
       "      <th>1</th>\n",
       "      <td>2</td>\n",
       "      <td>FOR PRES DET PAR</td>\n",
       "      <td>CFP</td>\n",
       "      <td>HANCOCK FP DETACHED PARCEL</td>\n",
       "      <td>WILD FOREST</td>\n",
       "      <td>None</td>\n",
       "      <td>DELAWARE COUNTY DETACHED PARCEL</td>\n",
       "      <td>4</td>\n",
       "      <td>DELAWARE</td>\n",
       "      <td>http://www.dec.ny.gov/</td>\n",
       "      <td>DELAWARE RPP</td>\n",
       "      <td>5/12</td>\n",
       "      <td>STAMFORD</td>\n",
       "      <td>282.553140</td>\n",
       "      <td>1218</td>\n",
       "      <td>N</td>\n",
       "      <td>1.143940e+06</td>\n",
       "      <td>4776.375600</td>\n",
       "      <td>POLYGON ((491931.514 4637416.256, 491305.424 4...</td>\n",
       "    </tr>\n",
       "    <tr>\n",
       "      <th>2</th>\n",
       "      <td>3</td>\n",
       "      <td>FOR PRES DET PAR</td>\n",
       "      <td>CFP</td>\n",
       "      <td>HANCOCK FP DETACHED PARCEL</td>\n",
       "      <td>WILD FOREST</td>\n",
       "      <td>None</td>\n",
       "      <td>DELAWARE COUNTY DETACHED PARCEL</td>\n",
       "      <td>4</td>\n",
       "      <td>DELAWARE</td>\n",
       "      <td>http://www.dec.ny.gov/</td>\n",
       "      <td>DELAWARE RPP</td>\n",
       "      <td>5/12</td>\n",
       "      <td>STAMFORD</td>\n",
       "      <td>234.291262</td>\n",
       "      <td>1780</td>\n",
       "      <td>N</td>\n",
       "      <td>9.485476e+05</td>\n",
       "      <td>5783.070364</td>\n",
       "      <td>POLYGON ((486000.287 4635834.453, 485007.550 4...</td>\n",
       "    </tr>\n",
       "    <tr>\n",
       "      <th>3</th>\n",
       "      <td>4</td>\n",
       "      <td>FOR PRES DET PAR</td>\n",
       "      <td>CFP</td>\n",
       "      <td>GREENE COUNTY FP DETACHED PARCEL</td>\n",
       "      <td>WILD FOREST</td>\n",
       "      <td>None</td>\n",
       "      <td>None</td>\n",
       "      <td>4</td>\n",
       "      <td>GREENE</td>\n",
       "      <td>http://www.dec.ny.gov/</td>\n",
       "      <td>GREENE RPP</td>\n",
       "      <td>5/12</td>\n",
       "      <td>STAMFORD</td>\n",
       "      <td>450.106464</td>\n",
       "      <td>2060</td>\n",
       "      <td>N</td>\n",
       "      <td>1.822293e+06</td>\n",
       "      <td>7021.644833</td>\n",
       "      <td>POLYGON ((541716.775 4675243.268, 541217.579 4...</td>\n",
       "    </tr>\n",
       "    <tr>\n",
       "      <th>4</th>\n",
       "      <td>6</td>\n",
       "      <td>FOREST PRESERVE</td>\n",
       "      <td>AFP</td>\n",
       "      <td>SARANAC LAKES WILD FOREST</td>\n",
       "      <td>WILD FOREST</td>\n",
       "      <td>SARANAC LAKES</td>\n",
       "      <td>None</td>\n",
       "      <td>5</td>\n",
       "      <td>ESSEX</td>\n",
       "      <td>http://www.dec.ny.gov/lands/22593.html</td>\n",
       "      <td>DECRP, ESSEX RPP</td>\n",
       "      <td>12/96</td>\n",
       "      <td>RAY BROOK</td>\n",
       "      <td>69.702387</td>\n",
       "      <td>1517</td>\n",
       "      <td>N</td>\n",
       "      <td>2.821959e+05</td>\n",
       "      <td>2663.909932</td>\n",
       "      <td>POLYGON ((583896.043 4909643.187, 583891.200 4...</td>\n",
       "    </tr>\n",
       "  </tbody>\n",
       "</table>\n",
       "</div>"
      ],
      "text/plain": [
       "   OBJECTID          CATEGORY UNIT                          FACILITY  \\\n",
       "0         1  FOR PRES DET PAR  CFP        HANCOCK FP DETACHED PARCEL   \n",
       "1         2  FOR PRES DET PAR  CFP        HANCOCK FP DETACHED PARCEL   \n",
       "2         3  FOR PRES DET PAR  CFP        HANCOCK FP DETACHED PARCEL   \n",
       "3         4  FOR PRES DET PAR  CFP  GREENE COUNTY FP DETACHED PARCEL   \n",
       "4         6   FOREST PRESERVE  AFP         SARANAC LAKES WILD FOREST   \n",
       "\n",
       "         CLASS            UMP                       DESCRIPTIO  REGION  \\\n",
       "0  WILD FOREST           None  DELAWARE COUNTY DETACHED PARCEL       4   \n",
       "1  WILD FOREST           None  DELAWARE COUNTY DETACHED PARCEL       4   \n",
       "2  WILD FOREST           None  DELAWARE COUNTY DETACHED PARCEL       4   \n",
       "3  WILD FOREST           None                             None       4   \n",
       "4  WILD FOREST  SARANAC LAKES                             None       5   \n",
       "\n",
       "     COUNTY                                     URL            SOURCE UPDATE_  \\\n",
       "0  DELAWARE                  http://www.dec.ny.gov/      DELAWARE RPP    5/12   \n",
       "1  DELAWARE                  http://www.dec.ny.gov/      DELAWARE RPP    5/12   \n",
       "2  DELAWARE                  http://www.dec.ny.gov/      DELAWARE RPP    5/12   \n",
       "3    GREENE                  http://www.dec.ny.gov/        GREENE RPP    5/12   \n",
       "4     ESSEX  http://www.dec.ny.gov/lands/22593.html  DECRP, ESSEX RPP   12/96   \n",
       "\n",
       "      OFFICE       ACRES  LANDS_UID GREENCERT    SHAPE_AREA    SHAPE_LEN  \\\n",
       "0   STAMFORD  738.620192        103         N  2.990365e+06  7927.662385   \n",
       "1   STAMFORD  282.553140       1218         N  1.143940e+06  4776.375600   \n",
       "2   STAMFORD  234.291262       1780         N  9.485476e+05  5783.070364   \n",
       "3   STAMFORD  450.106464       2060         N  1.822293e+06  7021.644833   \n",
       "4  RAY BROOK   69.702387       1517         N  2.821959e+05  2663.909932   \n",
       "\n",
       "                                            geometry  \n",
       "0  POLYGON ((486093.245 4635308.586, 486787.235 4...  \n",
       "1  POLYGON ((491931.514 4637416.256, 491305.424 4...  \n",
       "2  POLYGON ((486000.287 4635834.453, 485007.550 4...  \n",
       "3  POLYGON ((541716.775 4675243.268, 541217.579 4...  \n",
       "4  POLYGON ((583896.043 4909643.187, 583891.200 4...  "
      ]
     },
     "execution_count": 40,
     "metadata": {},
     "output_type": "execute_result"
    }
   ],
   "source": [
    "d.head()"
   ]
  },
  {
   "cell_type": "code",
   "execution_count": 41,
   "id": "af55968c",
   "metadata": {},
   "outputs": [
    {
     "data": {
      "text/plain": [
       "Index(['OBJECTID', 'CATEGORY', 'UNIT', 'FACILITY', 'CLASS', 'UMP',\n",
       "       'DESCRIPTIO', 'REGION', 'COUNTY', 'URL', 'SOURCE', 'UPDATE_', 'OFFICE',\n",
       "       'ACRES', 'LANDS_UID', 'GREENCERT', 'SHAPE_AREA', 'SHAPE_LEN',\n",
       "       'geometry'],\n",
       "      dtype='object')"
      ]
     },
     "execution_count": 41,
     "metadata": {},
     "output_type": "execute_result"
    }
   ],
   "source": [
    "d.columns"
   ]
  },
  {
   "cell_type": "code",
   "execution_count": 42,
   "id": "53a44e07",
   "metadata": {},
   "outputs": [
    {
     "data": {
      "text/plain": [
       "OBJECTID         0\n",
       "CATEGORY         0\n",
       "UNIT           510\n",
       "FACILITY         7\n",
       "CLASS         1764\n",
       "UMP            636\n",
       "DESCRIPTIO    2503\n",
       "REGION           0\n",
       "COUNTY           0\n",
       "URL              0\n",
       "SOURCE           0\n",
       "UPDATE_         34\n",
       "OFFICE         172\n",
       "ACRES            0\n",
       "LANDS_UID        0\n",
       "GREENCERT        1\n",
       "SHAPE_AREA       0\n",
       "SHAPE_LEN        0\n",
       "geometry         0\n",
       "dtype: int64"
      ]
     },
     "execution_count": 42,
     "metadata": {},
     "output_type": "execute_result"
    }
   ],
   "source": [
    "d.isna().sum()"
   ]
  },
  {
   "cell_type": "code",
   "execution_count": 43,
   "id": "607a9f52",
   "metadata": {},
   "outputs": [
    {
     "data": {
      "text/plain": [
       "(2983, 19)"
      ]
     },
     "execution_count": 43,
     "metadata": {},
     "output_type": "execute_result"
    }
   ],
   "source": [
    "d.shape"
   ]
  },
  {
   "cell_type": "code",
   "execution_count": 44,
   "id": "c21ab902",
   "metadata": {},
   "outputs": [
    {
     "data": {
      "text/plain": [
       "array(['FOR PRES DET PAR', 'FOREST PRESERVE', 'STATE FOREST',\n",
       "       'WILDLIFE MANAGEMENT', 'FISHING ACCESS', 'UNIQUE AREA',\n",
       "       'UNCLASSIFIED', 'TIDAL WETLAND', 'MULTIPLE USE AREA',\n",
       "       'WATERWAY ACCESS', 'SHORELINE PROTECTION', 'NRA', 'ADMINISTRATIVE',\n",
       "       'SPECIAL USE', 'TRAILWAY', 'EDUCATIONAL', 'SCENIC RESOURCE',\n",
       "       'LEASED ACCESS', 'FRESHWATER WETLAND'], dtype=object)"
      ]
     },
     "execution_count": 44,
     "metadata": {},
     "output_type": "execute_result"
    }
   ],
   "source": [
    "d.CATEGORY.unique()"
   ]
  },
  {
   "cell_type": "code",
   "execution_count": 45,
   "id": "6b9f1836",
   "metadata": {},
   "outputs": [
    {
     "data": {
      "text/plain": [
       "(8, 19)"
      ]
     },
     "execution_count": 45,
     "metadata": {},
     "output_type": "execute_result"
    }
   ],
   "source": [
    "d[d['CATEGORY'] == 'EDUCATIONAL'].shape"
   ]
  },
  {
   "cell_type": "code",
   "execution_count": 46,
   "id": "0a91a79e",
   "metadata": {},
   "outputs": [
    {
     "data": {
      "text/plain": [
       "array(['WILD FOREST', None, 'INTENSIVE USE', 'HISTORIC', 'WILDERNESS',\n",
       "       'PRIMITIVE', 'UNCLASSIFIED', 'ADMINISTRATIVE',\n",
       "       'PRIMITIVE BICYCLE CORRIDOR', 'CANOE AREA'], dtype=object)"
      ]
     },
     "execution_count": 46,
     "metadata": {},
     "output_type": "execute_result"
    }
   ],
   "source": [
    "d.CLASS.unique()"
   ]
  },
  {
   "cell_type": "code",
   "execution_count": 48,
   "id": "757b3ce7",
   "metadata": {},
   "outputs": [
    {
     "data": {
      "image/png": "[encoded data removed]",
      "text/plain": [
       "<Figure size 432x288 with 1 Axes>"
      ]
     },
     "metadata": {
      "needs_background": "light"
     },
     "output_type": "display_data"
    }
   ],
   "source": [
    "d.plot();"
   ]
  },
  {
   "cell_type": "code",
   "execution_count": 49,
   "id": "890e2ae4",
   "metadata": {},
   "outputs": [
    {
     "data": {
      "text/plain": [
       "0       POLYGON ((486093.245 4635308.586, 486787.235 4...\n",
       "1       POLYGON ((491931.514 4637416.256, 491305.424 4...\n",
       "2       POLYGON ((486000.287 4635834.453, 485007.550 4...\n",
       "3       POLYGON ((541716.775 4675243.268, 541217.579 4...\n",
       "4       POLYGON ((583896.043 4909643.187, 583891.200 4...\n",
       "                              ...                        \n",
       "2978    POLYGON ((476797.577 4963760.373, 476813.252 4...\n",
       "2979    POLYGON ((474212.474 4961236.101, 474189.987 4...\n",
       "2980    POLYGON ((340844.385 4757499.092, 341048.855 4...\n",
       "2981    POLYGON ((553048.551 4715991.593, 553061.611 4...\n",
       "2982    POLYGON ((495150.066 4871132.485, 495156.318 4...\n",
       "Name: geometry, Length: 2983, dtype: geometry"
      ]
     },
     "execution_count": 49,
     "metadata": {},
     "output_type": "execute_result"
    }
   ],
   "source": [
    "d.geometry"
   ]
  },
  {
   "cell_type": "code",
   "execution_count": null,
   "id": "2bf13a52",
   "metadata": {},
   "outputs": [],
   "source": []
  }
 ],
 "metadata": {
  "kernelspec": {
   "display_name": "Python 3 (ipykernel)",
   "language": "python",
   "name": "python3"
  },
  "language_info": {
   "codemirror_mode": {
    "name": "ipython",
    "version": 3
   },
   "file_extension": ".py",
   "mimetype": "text/x-python",
   "name": "python",
   "nbconvert_exporter": "python",
   "pygments_lexer": "ipython3",
   "version": "3.10.5"
  }
 },
 "nbformat": 4,
 "nbformat_minor": 5
}
