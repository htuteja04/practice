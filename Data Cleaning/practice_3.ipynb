{
 "cells": [
  {
   "cell_type": "code",
   "execution_count": 91,
   "id": "a5cb7de0",
   "metadata": {},
   "outputs": [],
   "source": [
    "import pandas as pd\n",
    "from scipy import stats\n",
    "import seaborn as sns"
   ]
  },
  {
   "cell_type": "code",
   "execution_count": 92,
   "id": "e647a4a8",
   "metadata": {},
   "outputs": [],
   "source": [
    "import warnings\n",
    "warnings.filterwarnings('ignore')"
   ]
  },
  {
   "cell_type": "code",
   "execution_count": 93,
   "id": "b7d43ded",
   "metadata": {},
   "outputs": [],
   "source": [
    "ks = pd.read_csv('../../Data/ks.csv', index_col=0)"
   ]
  },
  {
   "cell_type": "code",
   "execution_count": 94,
   "id": "055f2374",
   "metadata": {},
   "outputs": [
    {
     "data": {
      "text/html": [
       "<div>\n",
       "<style scoped>\n",
       "    .dataframe tbody tr th:only-of-type {\n",
       "        vertical-align: middle;\n",
       "    }\n",
       "\n",
       "    .dataframe tbody tr th {\n",
       "        vertical-align: top;\n",
       "    }\n",
       "\n",
       "    .dataframe thead th {\n",
       "        text-align: right;\n",
       "    }\n",
       "</style>\n",
       "<table border=\"1\" class=\"dataframe\">\n",
       "  <thead>\n",
       "    <tr style=\"text-align: right;\">\n",
       "      <th></th>\n",
       "      <th>name</th>\n",
       "      <th>category</th>\n",
       "      <th>main_category</th>\n",
       "      <th>currency</th>\n",
       "      <th>deadline</th>\n",
       "      <th>goal</th>\n",
       "      <th>launched</th>\n",
       "      <th>pledged</th>\n",
       "      <th>state</th>\n",
       "      <th>backers</th>\n",
       "      <th>country</th>\n",
       "      <th>usd pledged</th>\n",
       "      <th>usd_pledged_real</th>\n",
       "      <th>usd_goal_real</th>\n",
       "    </tr>\n",
       "    <tr>\n",
       "      <th>ID</th>\n",
       "      <th></th>\n",
       "      <th></th>\n",
       "      <th></th>\n",
       "      <th></th>\n",
       "      <th></th>\n",
       "      <th></th>\n",
       "      <th></th>\n",
       "      <th></th>\n",
       "      <th></th>\n",
       "      <th></th>\n",
       "      <th></th>\n",
       "      <th></th>\n",
       "      <th></th>\n",
       "      <th></th>\n",
       "    </tr>\n",
       "  </thead>\n",
       "  <tbody>\n",
       "    <tr>\n",
       "      <th>1000002330</th>\n",
       "      <td>The Songs of Adelaide &amp; Abullah</td>\n",
       "      <td>Poetry</td>\n",
       "      <td>Publishing</td>\n",
       "      <td>GBP</td>\n",
       "      <td>2015-10-09</td>\n",
       "      <td>1000.0</td>\n",
       "      <td>2015-08-11 12:12:28</td>\n",
       "      <td>0.0</td>\n",
       "      <td>failed</td>\n",
       "      <td>0</td>\n",
       "      <td>GB</td>\n",
       "      <td>0.0</td>\n",
       "      <td>0.0</td>\n",
       "      <td>1533.95</td>\n",
       "    </tr>\n",
       "    <tr>\n",
       "      <th>1000003930</th>\n",
       "      <td>Greeting From Earth: ZGAC Arts Capsule For ET</td>\n",
       "      <td>Narrative Film</td>\n",
       "      <td>Film &amp; Video</td>\n",
       "      <td>USD</td>\n",
       "      <td>2017-11-01</td>\n",
       "      <td>30000.0</td>\n",
       "      <td>2017-09-02 04:43:57</td>\n",
       "      <td>2421.0</td>\n",
       "      <td>failed</td>\n",
       "      <td>15</td>\n",
       "      <td>US</td>\n",
       "      <td>100.0</td>\n",
       "      <td>2421.0</td>\n",
       "      <td>30000.00</td>\n",
       "    </tr>\n",
       "    <tr>\n",
       "      <th>1000004038</th>\n",
       "      <td>Where is Hank?</td>\n",
       "      <td>Narrative Film</td>\n",
       "      <td>Film &amp; Video</td>\n",
       "      <td>USD</td>\n",
       "      <td>2013-02-26</td>\n",
       "      <td>45000.0</td>\n",
       "      <td>2013-01-12 00:20:50</td>\n",
       "      <td>220.0</td>\n",
       "      <td>failed</td>\n",
       "      <td>3</td>\n",
       "      <td>US</td>\n",
       "      <td>220.0</td>\n",
       "      <td>220.0</td>\n",
       "      <td>45000.00</td>\n",
       "    </tr>\n",
       "    <tr>\n",
       "      <th>1000007540</th>\n",
       "      <td>ToshiCapital Rekordz Needs Help to Complete Album</td>\n",
       "      <td>Music</td>\n",
       "      <td>Music</td>\n",
       "      <td>USD</td>\n",
       "      <td>2012-04-16</td>\n",
       "      <td>5000.0</td>\n",
       "      <td>2012-03-17 03:24:11</td>\n",
       "      <td>1.0</td>\n",
       "      <td>failed</td>\n",
       "      <td>1</td>\n",
       "      <td>US</td>\n",
       "      <td>1.0</td>\n",
       "      <td>1.0</td>\n",
       "      <td>5000.00</td>\n",
       "    </tr>\n",
       "    <tr>\n",
       "      <th>1000011046</th>\n",
       "      <td>Community Film Project: The Art of Neighborhoo...</td>\n",
       "      <td>Film &amp; Video</td>\n",
       "      <td>Film &amp; Video</td>\n",
       "      <td>USD</td>\n",
       "      <td>2015-08-29</td>\n",
       "      <td>19500.0</td>\n",
       "      <td>2015-07-04 08:35:03</td>\n",
       "      <td>1283.0</td>\n",
       "      <td>canceled</td>\n",
       "      <td>14</td>\n",
       "      <td>US</td>\n",
       "      <td>1283.0</td>\n",
       "      <td>1283.0</td>\n",
       "      <td>19500.00</td>\n",
       "    </tr>\n",
       "    <tr>\n",
       "      <th>...</th>\n",
       "      <td>...</td>\n",
       "      <td>...</td>\n",
       "      <td>...</td>\n",
       "      <td>...</td>\n",
       "      <td>...</td>\n",
       "      <td>...</td>\n",
       "      <td>...</td>\n",
       "      <td>...</td>\n",
       "      <td>...</td>\n",
       "      <td>...</td>\n",
       "      <td>...</td>\n",
       "      <td>...</td>\n",
       "      <td>...</td>\n",
       "      <td>...</td>\n",
       "    </tr>\n",
       "    <tr>\n",
       "      <th>999976400</th>\n",
       "      <td>ChknTruk Nationwide Charity Drive 2014 (Canceled)</td>\n",
       "      <td>Documentary</td>\n",
       "      <td>Film &amp; Video</td>\n",
       "      <td>USD</td>\n",
       "      <td>2014-10-17</td>\n",
       "      <td>50000.0</td>\n",
       "      <td>2014-09-17 02:35:30</td>\n",
       "      <td>25.0</td>\n",
       "      <td>canceled</td>\n",
       "      <td>1</td>\n",
       "      <td>US</td>\n",
       "      <td>25.0</td>\n",
       "      <td>25.0</td>\n",
       "      <td>50000.00</td>\n",
       "    </tr>\n",
       "    <tr>\n",
       "      <th>999977640</th>\n",
       "      <td>The Tribe</td>\n",
       "      <td>Narrative Film</td>\n",
       "      <td>Film &amp; Video</td>\n",
       "      <td>USD</td>\n",
       "      <td>2011-07-19</td>\n",
       "      <td>1500.0</td>\n",
       "      <td>2011-06-22 03:35:14</td>\n",
       "      <td>155.0</td>\n",
       "      <td>failed</td>\n",
       "      <td>5</td>\n",
       "      <td>US</td>\n",
       "      <td>155.0</td>\n",
       "      <td>155.0</td>\n",
       "      <td>1500.00</td>\n",
       "    </tr>\n",
       "    <tr>\n",
       "      <th>999986353</th>\n",
       "      <td>Walls of Remedy- New lesbian Romantic Comedy f...</td>\n",
       "      <td>Narrative Film</td>\n",
       "      <td>Film &amp; Video</td>\n",
       "      <td>USD</td>\n",
       "      <td>2010-08-16</td>\n",
       "      <td>15000.0</td>\n",
       "      <td>2010-07-01 19:40:30</td>\n",
       "      <td>20.0</td>\n",
       "      <td>failed</td>\n",
       "      <td>1</td>\n",
       "      <td>US</td>\n",
       "      <td>20.0</td>\n",
       "      <td>20.0</td>\n",
       "      <td>15000.00</td>\n",
       "    </tr>\n",
       "    <tr>\n",
       "      <th>999987933</th>\n",
       "      <td>BioDefense Education Kit</td>\n",
       "      <td>Technology</td>\n",
       "      <td>Technology</td>\n",
       "      <td>USD</td>\n",
       "      <td>2016-02-13</td>\n",
       "      <td>15000.0</td>\n",
       "      <td>2016-01-13 18:13:53</td>\n",
       "      <td>200.0</td>\n",
       "      <td>failed</td>\n",
       "      <td>6</td>\n",
       "      <td>US</td>\n",
       "      <td>200.0</td>\n",
       "      <td>200.0</td>\n",
       "      <td>15000.00</td>\n",
       "    </tr>\n",
       "    <tr>\n",
       "      <th>999988282</th>\n",
       "      <td>Nou Renmen Ayiti!  We Love Haiti!</td>\n",
       "      <td>Performance Art</td>\n",
       "      <td>Art</td>\n",
       "      <td>USD</td>\n",
       "      <td>2011-08-16</td>\n",
       "      <td>2000.0</td>\n",
       "      <td>2011-07-19 09:07:47</td>\n",
       "      <td>524.0</td>\n",
       "      <td>failed</td>\n",
       "      <td>17</td>\n",
       "      <td>US</td>\n",
       "      <td>524.0</td>\n",
       "      <td>524.0</td>\n",
       "      <td>2000.00</td>\n",
       "    </tr>\n",
       "  </tbody>\n",
       "</table>\n",
       "<p>378661 rows × 14 columns</p>\n",
       "</div>"
      ],
      "text/plain": [
       "                                                         name  \\\n",
       "ID                                                              \n",
       "1000002330                    The Songs of Adelaide & Abullah   \n",
       "1000003930      Greeting From Earth: ZGAC Arts Capsule For ET   \n",
       "1000004038                                     Where is Hank?   \n",
       "1000007540  ToshiCapital Rekordz Needs Help to Complete Album   \n",
       "1000011046  Community Film Project: The Art of Neighborhoo...   \n",
       "...                                                       ...   \n",
       "999976400   ChknTruk Nationwide Charity Drive 2014 (Canceled)   \n",
       "999977640                                           The Tribe   \n",
       "999986353   Walls of Remedy- New lesbian Romantic Comedy f...   \n",
       "999987933                            BioDefense Education Kit   \n",
       "999988282                   Nou Renmen Ayiti!  We Love Haiti!   \n",
       "\n",
       "                   category main_category currency    deadline     goal  \\\n",
       "ID                                                                        \n",
       "1000002330           Poetry    Publishing      GBP  2015-10-09   1000.0   \n",
       "1000003930   Narrative Film  Film & Video      USD  2017-11-01  30000.0   \n",
       "1000004038   Narrative Film  Film & Video      USD  2013-02-26  45000.0   \n",
       "1000007540            Music         Music      USD  2012-04-16   5000.0   \n",
       "1000011046     Film & Video  Film & Video      USD  2015-08-29  19500.0   \n",
       "...                     ...           ...      ...         ...      ...   \n",
       "999976400       Documentary  Film & Video      USD  2014-10-17  50000.0   \n",
       "999977640    Narrative Film  Film & Video      USD  2011-07-19   1500.0   \n",
       "999986353    Narrative Film  Film & Video      USD  2010-08-16  15000.0   \n",
       "999987933        Technology    Technology      USD  2016-02-13  15000.0   \n",
       "999988282   Performance Art           Art      USD  2011-08-16   2000.0   \n",
       "\n",
       "                       launched  pledged     state  backers country  \\\n",
       "ID                                                                    \n",
       "1000002330  2015-08-11 12:12:28      0.0    failed        0      GB   \n",
       "1000003930  2017-09-02 04:43:57   2421.0    failed       15      US   \n",
       "1000004038  2013-01-12 00:20:50    220.0    failed        3      US   \n",
       "1000007540  2012-03-17 03:24:11      1.0    failed        1      US   \n",
       "1000011046  2015-07-04 08:35:03   1283.0  canceled       14      US   \n",
       "...                         ...      ...       ...      ...     ...   \n",
       "999976400   2014-09-17 02:35:30     25.0  canceled        1      US   \n",
       "999977640   2011-06-22 03:35:14    155.0    failed        5      US   \n",
       "999986353   2010-07-01 19:40:30     20.0    failed        1      US   \n",
       "999987933   2016-01-13 18:13:53    200.0    failed        6      US   \n",
       "999988282   2011-07-19 09:07:47    524.0    failed       17      US   \n",
       "\n",
       "            usd pledged  usd_pledged_real  usd_goal_real  \n",
       "ID                                                        \n",
       "1000002330          0.0               0.0        1533.95  \n",
       "1000003930        100.0            2421.0       30000.00  \n",
       "1000004038        220.0             220.0       45000.00  \n",
       "1000007540          1.0               1.0        5000.00  \n",
       "1000011046       1283.0            1283.0       19500.00  \n",
       "...                 ...               ...            ...  \n",
       "999976400          25.0              25.0       50000.00  \n",
       "999977640         155.0             155.0        1500.00  \n",
       "999986353          20.0              20.0       15000.00  \n",
       "999987933         200.0             200.0       15000.00  \n",
       "999988282         524.0             524.0        2000.00  \n",
       "\n",
       "[378661 rows x 14 columns]"
      ]
     },
     "execution_count": 94,
     "metadata": {},
     "output_type": "execute_result"
    }
   ],
   "source": [
    "ks"
   ]
  },
  {
   "cell_type": "code",
   "execution_count": 95,
   "id": "85e71bfe",
   "metadata": {},
   "outputs": [
    {
     "data": {
      "text/plain": [
       "Index(['name', 'category', 'main_category', 'currency', 'deadline', 'goal',\n",
       "       'launched', 'pledged', 'state', 'backers', 'country', 'usd pledged',\n",
       "       'usd_pledged_real', 'usd_goal_real'],\n",
       "      dtype='object')"
      ]
     },
     "execution_count": 95,
     "metadata": {},
     "output_type": "execute_result"
    }
   ],
   "source": [
    "ks.columns"
   ]
  },
  {
   "cell_type": "code",
   "execution_count": 96,
   "id": "9c9c893e",
   "metadata": {},
   "outputs": [],
   "source": [
    "idxs = ks.pledged > 0"
   ]
  },
  {
   "cell_type": "code",
   "execution_count": 97,
   "id": "72f7aa3d",
   "metadata": {},
   "outputs": [
    {
     "data": {
      "text/plain": [
       "ID\n",
       "1000002330    False\n",
       "1000003930     True\n",
       "1000004038     True\n",
       "1000007540     True\n",
       "1000011046     True\n",
       "              ...  \n",
       "999976400      True\n",
       "999977640      True\n",
       "999986353      True\n",
       "999987933      True\n",
       "999988282      True\n",
       "Name: pledged, Length: 378661, dtype: bool"
      ]
     },
     "execution_count": 97,
     "metadata": {},
     "output_type": "execute_result"
    }
   ],
   "source": [
    "idxs"
   ]
  },
  {
   "cell_type": "code",
   "execution_count": 98,
   "id": "0ba96aed",
   "metadata": {},
   "outputs": [],
   "source": [
    "positive_pledged = ks.pledged.loc[idxs]"
   ]
  },
  {
   "cell_type": "code",
   "execution_count": 99,
   "id": "3c980e09",
   "metadata": {},
   "outputs": [
    {
     "data": {
      "text/plain": [
       "ID\n",
       "1000003930     2421.0\n",
       "1000004038      220.0\n",
       "1000007540        1.0\n",
       "1000011046     1283.0\n",
       "1000014025    52375.0\n",
       "               ...   \n",
       "999976400        25.0\n",
       "999977640       155.0\n",
       "999986353        20.0\n",
       "999987933       200.0\n",
       "999988282       524.0\n",
       "Name: pledged, Length: 326134, dtype: float64"
      ]
     },
     "execution_count": 99,
     "metadata": {},
     "output_type": "execute_result"
    }
   ],
   "source": [
    "positive_pledged"
   ]
  },
  {
   "cell_type": "code",
   "execution_count": 100,
   "id": "7094508d",
   "metadata": {},
   "outputs": [
    {
     "data": {
      "text/plain": [
       "326134"
      ]
     },
     "execution_count": 100,
     "metadata": {},
     "output_type": "execute_result"
    }
   ],
   "source": [
    "len(positive_pledged.values)"
   ]
  },
  {
   "cell_type": "code",
   "execution_count": 101,
   "id": "031743eb",
   "metadata": {},
   "outputs": [],
   "source": [
    "normalized_pledged = pd.Series(stats.boxcox(positive_pledged)[0], index=positive_pledged.index, name='normalized_pledged')"
   ]
  },
  {
   "cell_type": "code",
   "execution_count": 102,
   "id": "da0a5fa0",
   "metadata": {},
   "outputs": [
    {
     "data": {
      "text/plain": [
       "ID\n",
       "1000003930    10.013887\n",
       "1000004038     6.403367\n",
       "1000007540     0.000000\n",
       "1000011046     9.005193\n",
       "1000014025    15.499596\n",
       "                ...    \n",
       "999976400      3.562025\n",
       "999977640      5.919593\n",
       "999986353      3.291544\n",
       "999987933      6.270664\n",
       "999988282      7.648440\n",
       "Name: normalized_pledged, Length: 326134, dtype: float64"
      ]
     },
     "execution_count": 102,
     "metadata": {},
     "output_type": "execute_result"
    }
   ],
   "source": [
    "normalized_pledged"
   ]
  },
  {
   "cell_type": "code",
   "execution_count": 103,
   "id": "9227eb1b",
   "metadata": {},
   "outputs": [
    {
     "data": {
      "image/png": "[encoded data removed]",
      "text/plain": [
       "<Figure size 432x288 with 1 Axes>"
      ]
     },
     "metadata": {
      "needs_background": "light"
     },
     "output_type": "display_data"
    }
   ],
   "source": [
    "sns.histplot(normalized_pledged);"
   ]
  },
  {
   "cell_type": "code",
   "execution_count": null,
   "id": "a6bfe7a6",
   "metadata": {},
   "outputs": [],
   "source": []
  },
  {
   "cell_type": "code",
   "execution_count": null,
   "id": "6610f6e7",
   "metadata": {},
   "outputs": [],
   "source": []
  }
 ],
 "metadata": {
  "kernelspec": {
   "display_name": "Python 3 (ipykernel)",
   "language": "python",
   "name": "python3"
  },
  "language_info": {
   "codemirror_mode": {
    "name": "ipython",
    "version": 3
   },
   "file_extension": ".py",
   "mimetype": "text/x-python",
   "name": "python",
   "nbconvert_exporter": "python",
   "pygments_lexer": "ipython3",
   "version": "3.10.5"
  }
 },
 "nbformat": 4,
 "nbformat_minor": 5
}
