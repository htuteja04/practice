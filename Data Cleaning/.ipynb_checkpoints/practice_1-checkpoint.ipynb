{
 "cells": [
  {
   "cell_type": "code",
   "execution_count": 1,
   "id": "6e946f9f",
   "metadata": {},
   "outputs": [],
   "source": [
    "import pandas as pd\n",
    "import numpy as np"
   ]
  },
  {
   "cell_type": "code",
   "execution_count": 2,
   "id": "dc8f09a6",
   "metadata": {},
   "outputs": [],
   "source": [
    "import warnings\n",
    "warnings.filterwarnings('ignore')"
   ]
  },
  {
   "cell_type": "markdown",
   "id": "7c59446e",
   "metadata": {},
   "source": [
    "[Data cleaning guide](https://towardsdatascience.com/the-ultimate-guide-to-data-cleaning-3969843991d4)"
   ]
  },
  {
   "cell_type": "markdown",
   "id": "c642da11",
   "metadata": {},
   "source": [
    "[Data cleaning techniques](https://monkeylearn.com/blog/data-cleaning-techniques/)"
   ]
  },
  {
   "cell_type": "code",
   "execution_count": 3,
   "id": "17a3cb56",
   "metadata": {},
   "outputs": [],
   "source": [
    "b = pd.read_csv('Datasets/Building.csv', low_memory=False)"
   ]
  },
  {
   "cell_type": "code",
   "execution_count": 4,
   "id": "5ef14d38",
   "metadata": {},
   "outputs": [
    {
     "data": {
      "text/plain": [
       "(198900, 43)"
      ]
     },
     "execution_count": 4,
     "metadata": {},
     "output_type": "execute_result"
    }
   ],
   "source": [
    "b.shape"
   ]
  },
  {
   "cell_type": "code",
   "execution_count": 5,
   "id": "0a4a224b",
   "metadata": {},
   "outputs": [
    {
     "data": {
      "text/plain": [
       "Permit Number                                  0\n",
       "Permit Type                                    0\n",
       "Permit Type Definition                         0\n",
       "Permit Creation Date                           0\n",
       "Block                                          0\n",
       "Lot                                            0\n",
       "Street Number                                  0\n",
       "Street Number Suffix                      196684\n",
       "Street Name                                    0\n",
       "Street Suffix                               2768\n",
       "Unit                                      169421\n",
       "Unit Suffix                               196939\n",
       "Description                                  290\n",
       "Current Status                                 0\n",
       "Current Status Date                            0\n",
       "Filed Date                                     0\n",
       "Issued Date                                14940\n",
       "Completed Date                            101709\n",
       "First Construction Document Date           14946\n",
       "Structural Notification                   191978\n",
       "Number of Existing Stories                 42784\n",
       "Number of Proposed Stories                 42868\n",
       "Voluntary Soft-Story Retrofit             198865\n",
       "Fire Only Permit                          180073\n",
       "Permit Expiration Date                     51880\n",
       "Estimated Cost                             38066\n",
       "Revised Cost                                6066\n",
       "Existing Use                               41114\n",
       "Existing Units                             51538\n",
       "Proposed Use                               42439\n",
       "Proposed Units                             50911\n",
       "Plansets                                   37309\n",
       "TIDF Compliance                           198898\n",
       "Existing Construction Type                 43366\n",
       "Existing Construction Type Description     43366\n",
       "Proposed Construction Type                 43162\n",
       "Proposed Construction Type Description     43162\n",
       "Site Permit                               193541\n",
       "Supervisor District                         1717\n",
       "Neighborhoods - Analysis Boundaries         1725\n",
       "Zipcode                                     1716\n",
       "Location                                    1700\n",
       "Record ID                                      0\n",
       "dtype: int64"
      ]
     },
     "execution_count": 5,
     "metadata": {},
     "output_type": "execute_result"
    }
   ],
   "source": [
    "b.isna().sum()"
   ]
  },
  {
   "cell_type": "code",
   "execution_count": 6,
   "id": "ce5c768a",
   "metadata": {},
   "outputs": [
    {
     "data": {
      "text/plain": [
       "0          NaN\n",
       "1          NaN\n",
       "2         39.0\n",
       "3          1.0\n",
       "4          NaN\n",
       "          ... \n",
       "198895     NaN\n",
       "198896     4.0\n",
       "198897     NaN\n",
       "198898     NaN\n",
       "198899     NaN\n",
       "Name: Proposed Units, Length: 198900, dtype: float64"
      ]
     },
     "execution_count": 6,
     "metadata": {},
     "output_type": "execute_result"
    }
   ],
   "source": [
    "b['Proposed Units']"
   ]
  },
  {
   "cell_type": "code",
   "execution_count": 7,
   "id": "7c16591f",
   "metadata": {},
   "outputs": [
    {
     "data": {
      "text/plain": [
       "Index(['Permit Number', 'Permit Type', 'Permit Type Definition',\n",
       "       'Permit Creation Date', 'Block', 'Lot', 'Street Number',\n",
       "       'Street Number Suffix', 'Street Name', 'Street Suffix', 'Unit',\n",
       "       'Unit Suffix', 'Description', 'Current Status', 'Current Status Date',\n",
       "       'Filed Date', 'Issued Date', 'Completed Date',\n",
       "       'First Construction Document Date', 'Structural Notification',\n",
       "       'Number of Existing Stories', 'Number of Proposed Stories',\n",
       "       'Voluntary Soft-Story Retrofit', 'Fire Only Permit',\n",
       "       'Permit Expiration Date', 'Estimated Cost', 'Revised Cost',\n",
       "       'Existing Use', 'Existing Units', 'Proposed Use', 'Proposed Units',\n",
       "       'Plansets', 'TIDF Compliance', 'Existing Construction Type',\n",
       "       'Existing Construction Type Description', 'Proposed Construction Type',\n",
       "       'Proposed Construction Type Description', 'Site Permit',\n",
       "       'Supervisor District', 'Neighborhoods - Analysis Boundaries', 'Zipcode',\n",
       "       'Location', 'Record ID'],\n",
       "      dtype='object')"
      ]
     },
     "execution_count": 7,
     "metadata": {},
     "output_type": "execute_result"
    }
   ],
   "source": [
    "b.columns"
   ]
  },
  {
   "cell_type": "code",
   "execution_count": 8,
   "id": "e9d64bdc",
   "metadata": {},
   "outputs": [],
   "source": [
    "m_cols = [col for col in b.columns if b[col].isna().sum() > 100000]"
   ]
  },
  {
   "cell_type": "code",
   "execution_count": 9,
   "id": "7086d377",
   "metadata": {},
   "outputs": [
    {
     "data": {
      "text/plain": [
       "['Street Number Suffix',\n",
       " 'Unit',\n",
       " 'Unit Suffix',\n",
       " 'Completed Date',\n",
       " 'Structural Notification',\n",
       " 'Voluntary Soft-Story Retrofit',\n",
       " 'Fire Only Permit',\n",
       " 'TIDF Compliance',\n",
       " 'Site Permit']"
      ]
     },
     "execution_count": 9,
     "metadata": {},
     "output_type": "execute_result"
    }
   ],
   "source": [
    "m_cols"
   ]
  },
  {
   "cell_type": "code",
   "execution_count": 10,
   "id": "3bb33f5f",
   "metadata": {},
   "outputs": [],
   "source": [
    "b.drop(m_cols, axis=1, inplace=True)"
   ]
  },
  {
   "cell_type": "code",
   "execution_count": 11,
   "id": "ce367114",
   "metadata": {},
   "outputs": [
    {
     "data": {
      "text/plain": [
       "Permit Number                                 0\n",
       "Permit Type                                   0\n",
       "Permit Type Definition                        0\n",
       "Permit Creation Date                          0\n",
       "Block                                         0\n",
       "Lot                                           0\n",
       "Street Number                                 0\n",
       "Street Name                                   0\n",
       "Street Suffix                              2768\n",
       "Description                                 290\n",
       "Current Status                                0\n",
       "Current Status Date                           0\n",
       "Filed Date                                    0\n",
       "Issued Date                               14940\n",
       "First Construction Document Date          14946\n",
       "Number of Existing Stories                42784\n",
       "Number of Proposed Stories                42868\n",
       "Permit Expiration Date                    51880\n",
       "Estimated Cost                            38066\n",
       "Revised Cost                               6066\n",
       "Existing Use                              41114\n",
       "Existing Units                            51538\n",
       "Proposed Use                              42439\n",
       "Proposed Units                            50911\n",
       "Plansets                                  37309\n",
       "Existing Construction Type                43366\n",
       "Existing Construction Type Description    43366\n",
       "Proposed Construction Type                43162\n",
       "Proposed Construction Type Description    43162\n",
       "Supervisor District                        1717\n",
       "Neighborhoods - Analysis Boundaries        1725\n",
       "Zipcode                                    1716\n",
       "Location                                   1700\n",
       "Record ID                                     0\n",
       "dtype: int64"
      ]
     },
     "execution_count": 11,
     "metadata": {},
     "output_type": "execute_result"
    }
   ],
   "source": [
    "b.isna().sum()"
   ]
  },
  {
   "cell_type": "code",
   "execution_count": 12,
   "id": "25368da5",
   "metadata": {},
   "outputs": [
    {
     "data": {
      "text/plain": [
       "0         ground fl facade: to erect illuminated, electr...\n",
       "1                   remove (e) awning and associated signs.\n",
       "2                           installation of separating wall\n",
       "3                  repair dryrot & stucco at front of bldg.\n",
       "4         demolish retail/office/commercial 3-story buil...\n",
       "                                ...                        \n",
       "198895                                         street space\n",
       "198896                  fire alarm upgrade ref 201704123852\n",
       "198897                                         street space\n",
       "198898                                  street space permit\n",
       "198899                                  street space permit\n",
       "Name: Description, Length: 198900, dtype: object"
      ]
     },
     "execution_count": 12,
     "metadata": {},
     "output_type": "execute_result"
    }
   ],
   "source": [
    "b.Description"
   ]
  },
  {
   "cell_type": "code",
   "execution_count": 13,
   "id": "4f2bee63",
   "metadata": {},
   "outputs": [],
   "source": [
    "b.Description.fillna('No description available', inplace=True)"
   ]
  },
  {
   "cell_type": "code",
   "execution_count": 14,
   "id": "7c043793",
   "metadata": {},
   "outputs": [
    {
     "data": {
      "text/plain": [
       "Permit Number                                 0\n",
       "Permit Type                                   0\n",
       "Permit Type Definition                        0\n",
       "Permit Creation Date                          0\n",
       "Block                                         0\n",
       "Lot                                           0\n",
       "Street Number                                 0\n",
       "Street Name                                   0\n",
       "Street Suffix                              2768\n",
       "Description                                   0\n",
       "Current Status                                0\n",
       "Current Status Date                           0\n",
       "Filed Date                                    0\n",
       "Issued Date                               14940\n",
       "First Construction Document Date          14946\n",
       "Number of Existing Stories                42784\n",
       "Number of Proposed Stories                42868\n",
       "Permit Expiration Date                    51880\n",
       "Estimated Cost                            38066\n",
       "Revised Cost                               6066\n",
       "Existing Use                              41114\n",
       "Existing Units                            51538\n",
       "Proposed Use                              42439\n",
       "Proposed Units                            50911\n",
       "Plansets                                  37309\n",
       "Existing Construction Type                43366\n",
       "Existing Construction Type Description    43366\n",
       "Proposed Construction Type                43162\n",
       "Proposed Construction Type Description    43162\n",
       "Supervisor District                        1717\n",
       "Neighborhoods - Analysis Boundaries        1725\n",
       "Zipcode                                    1716\n",
       "Location                                   1700\n",
       "Record ID                                     0\n",
       "dtype: int64"
      ]
     },
     "execution_count": 14,
     "metadata": {},
     "output_type": "execute_result"
    }
   ],
   "source": [
    "b.isna().sum()"
   ]
  },
  {
   "cell_type": "code",
   "execution_count": 15,
   "id": "0d780913",
   "metadata": {},
   "outputs": [],
   "source": [
    "b_sample = b"
   ]
  },
  {
   "cell_type": "code",
   "execution_count": 16,
   "id": "cea35dcd",
   "metadata": {},
   "outputs": [
    {
     "data": {
      "text/plain": [
       "(198900, 34)"
      ]
     },
     "execution_count": 16,
     "metadata": {},
     "output_type": "execute_result"
    }
   ],
   "source": [
    "b_sample.shape"
   ]
  },
  {
   "cell_type": "code",
   "execution_count": 17,
   "id": "c7323285",
   "metadata": {},
   "outputs": [
    {
     "data": {
      "text/html": [
       "<div>\n",
       "<style scoped>\n",
       "    .dataframe tbody tr th:only-of-type {\n",
       "        vertical-align: middle;\n",
       "    }\n",
       "\n",
       "    .dataframe tbody tr th {\n",
       "        vertical-align: top;\n",
       "    }\n",
       "\n",
       "    .dataframe thead th {\n",
       "        text-align: right;\n",
       "    }\n",
       "</style>\n",
       "<table border=\"1\" class=\"dataframe\">\n",
       "  <thead>\n",
       "    <tr style=\"text-align: right;\">\n",
       "      <th></th>\n",
       "      <th>Permit Number</th>\n",
       "      <th>Permit Type</th>\n",
       "      <th>Permit Type Definition</th>\n",
       "      <th>Permit Creation Date</th>\n",
       "      <th>Block</th>\n",
       "      <th>Lot</th>\n",
       "      <th>Street Number</th>\n",
       "      <th>Street Name</th>\n",
       "      <th>Street Suffix</th>\n",
       "      <th>Description</th>\n",
       "      <th>...</th>\n",
       "      <th>Plansets</th>\n",
       "      <th>Existing Construction Type</th>\n",
       "      <th>Existing Construction Type Description</th>\n",
       "      <th>Proposed Construction Type</th>\n",
       "      <th>Proposed Construction Type Description</th>\n",
       "      <th>Supervisor District</th>\n",
       "      <th>Neighborhoods - Analysis Boundaries</th>\n",
       "      <th>Zipcode</th>\n",
       "      <th>Location</th>\n",
       "      <th>Record ID</th>\n",
       "    </tr>\n",
       "  </thead>\n",
       "  <tbody>\n",
       "    <tr>\n",
       "      <th>0</th>\n",
       "      <td>201505065519</td>\n",
       "      <td>4</td>\n",
       "      <td>sign - erect</td>\n",
       "      <td>05/06/2015</td>\n",
       "      <td>0326</td>\n",
       "      <td>023</td>\n",
       "      <td>140</td>\n",
       "      <td>Ellis</td>\n",
       "      <td>St</td>\n",
       "      <td>ground fl facade: to erect illuminated, electr...</td>\n",
       "      <td>...</td>\n",
       "      <td>2.0</td>\n",
       "      <td>3.0</td>\n",
       "      <td>constr type 3</td>\n",
       "      <td>NaN</td>\n",
       "      <td>NaN</td>\n",
       "      <td>3.0</td>\n",
       "      <td>Tenderloin</td>\n",
       "      <td>94102.0</td>\n",
       "      <td>(37.785719256680785, -122.40852313194863)</td>\n",
       "      <td>1380611233945</td>\n",
       "    </tr>\n",
       "    <tr>\n",
       "      <th>1</th>\n",
       "      <td>201604195146</td>\n",
       "      <td>4</td>\n",
       "      <td>sign - erect</td>\n",
       "      <td>04/19/2016</td>\n",
       "      <td>0306</td>\n",
       "      <td>007</td>\n",
       "      <td>440</td>\n",
       "      <td>Geary</td>\n",
       "      <td>St</td>\n",
       "      <td>remove (e) awning and associated signs.</td>\n",
       "      <td>...</td>\n",
       "      <td>2.0</td>\n",
       "      <td>3.0</td>\n",
       "      <td>constr type 3</td>\n",
       "      <td>NaN</td>\n",
       "      <td>NaN</td>\n",
       "      <td>3.0</td>\n",
       "      <td>Tenderloin</td>\n",
       "      <td>94102.0</td>\n",
       "      <td>(37.78733980600732, -122.41063199757738)</td>\n",
       "      <td>1420164406718</td>\n",
       "    </tr>\n",
       "    <tr>\n",
       "      <th>2</th>\n",
       "      <td>201605278609</td>\n",
       "      <td>3</td>\n",
       "      <td>additions alterations or repairs</td>\n",
       "      <td>05/27/2016</td>\n",
       "      <td>0595</td>\n",
       "      <td>203</td>\n",
       "      <td>1647</td>\n",
       "      <td>Pacific</td>\n",
       "      <td>Av</td>\n",
       "      <td>installation of separating wall</td>\n",
       "      <td>...</td>\n",
       "      <td>2.0</td>\n",
       "      <td>1.0</td>\n",
       "      <td>constr type 1</td>\n",
       "      <td>1.0</td>\n",
       "      <td>constr type 1</td>\n",
       "      <td>3.0</td>\n",
       "      <td>Russian Hill</td>\n",
       "      <td>94109.0</td>\n",
       "      <td>(37.7946573324287, -122.42232562979227)</td>\n",
       "      <td>1424856504716</td>\n",
       "    </tr>\n",
       "    <tr>\n",
       "      <th>3</th>\n",
       "      <td>201611072166</td>\n",
       "      <td>8</td>\n",
       "      <td>otc alterations permit</td>\n",
       "      <td>11/07/2016</td>\n",
       "      <td>0156</td>\n",
       "      <td>011</td>\n",
       "      <td>1230</td>\n",
       "      <td>Pacific</td>\n",
       "      <td>Av</td>\n",
       "      <td>repair dryrot &amp; stucco at front of bldg.</td>\n",
       "      <td>...</td>\n",
       "      <td>2.0</td>\n",
       "      <td>5.0</td>\n",
       "      <td>wood frame (5)</td>\n",
       "      <td>5.0</td>\n",
       "      <td>wood frame (5)</td>\n",
       "      <td>3.0</td>\n",
       "      <td>Nob Hill</td>\n",
       "      <td>94109.0</td>\n",
       "      <td>(37.79595867909168, -122.41557405519474)</td>\n",
       "      <td>1443574295566</td>\n",
       "    </tr>\n",
       "    <tr>\n",
       "      <th>4</th>\n",
       "      <td>201611283529</td>\n",
       "      <td>6</td>\n",
       "      <td>demolitions</td>\n",
       "      <td>11/28/2016</td>\n",
       "      <td>0342</td>\n",
       "      <td>001</td>\n",
       "      <td>950</td>\n",
       "      <td>Market</td>\n",
       "      <td>St</td>\n",
       "      <td>demolish retail/office/commercial 3-story buil...</td>\n",
       "      <td>...</td>\n",
       "      <td>2.0</td>\n",
       "      <td>3.0</td>\n",
       "      <td>constr type 3</td>\n",
       "      <td>NaN</td>\n",
       "      <td>NaN</td>\n",
       "      <td>6.0</td>\n",
       "      <td>Tenderloin</td>\n",
       "      <td>94102.0</td>\n",
       "      <td>(37.78315261897309, -122.40950883997789)</td>\n",
       "      <td>144548169992</td>\n",
       "    </tr>\n",
       "  </tbody>\n",
       "</table>\n",
       "<p>5 rows × 34 columns</p>\n",
       "</div>"
      ],
      "text/plain": [
       "  Permit Number  Permit Type            Permit Type Definition  \\\n",
       "0  201505065519            4                      sign - erect   \n",
       "1  201604195146            4                      sign - erect   \n",
       "2  201605278609            3  additions alterations or repairs   \n",
       "3  201611072166            8            otc alterations permit   \n",
       "4  201611283529            6                       demolitions   \n",
       "\n",
       "  Permit Creation Date Block  Lot  Street Number Street Name Street Suffix  \\\n",
       "0           05/06/2015  0326  023            140       Ellis            St   \n",
       "1           04/19/2016  0306  007            440       Geary            St   \n",
       "2           05/27/2016  0595  203           1647     Pacific            Av   \n",
       "3           11/07/2016  0156  011           1230     Pacific            Av   \n",
       "4           11/28/2016  0342  001            950      Market            St   \n",
       "\n",
       "                                         Description  ... Plansets  \\\n",
       "0  ground fl facade: to erect illuminated, electr...  ...      2.0   \n",
       "1            remove (e) awning and associated signs.  ...      2.0   \n",
       "2                    installation of separating wall  ...      2.0   \n",
       "3           repair dryrot & stucco at front of bldg.  ...      2.0   \n",
       "4  demolish retail/office/commercial 3-story buil...  ...      2.0   \n",
       "\n",
       "  Existing Construction Type Existing Construction Type Description  \\\n",
       "0                        3.0                          constr type 3   \n",
       "1                        3.0                          constr type 3   \n",
       "2                        1.0                          constr type 1   \n",
       "3                        5.0                         wood frame (5)   \n",
       "4                        3.0                          constr type 3   \n",
       "\n",
       "  Proposed Construction Type Proposed Construction Type Description  \\\n",
       "0                        NaN                                    NaN   \n",
       "1                        NaN                                    NaN   \n",
       "2                        1.0                          constr type 1   \n",
       "3                        5.0                         wood frame (5)   \n",
       "4                        NaN                                    NaN   \n",
       "\n",
       "   Supervisor District  Neighborhoods - Analysis Boundaries  Zipcode  \\\n",
       "0                  3.0                           Tenderloin  94102.0   \n",
       "1                  3.0                           Tenderloin  94102.0   \n",
       "2                  3.0                         Russian Hill  94109.0   \n",
       "3                  3.0                             Nob Hill  94109.0   \n",
       "4                  6.0                           Tenderloin  94102.0   \n",
       "\n",
       "                                    Location      Record ID  \n",
       "0  (37.785719256680785, -122.40852313194863)  1380611233945  \n",
       "1   (37.78733980600732, -122.41063199757738)  1420164406718  \n",
       "2    (37.7946573324287, -122.42232562979227)  1424856504716  \n",
       "3   (37.79595867909168, -122.41557405519474)  1443574295566  \n",
       "4   (37.78315261897309, -122.40950883997789)   144548169992  \n",
       "\n",
       "[5 rows x 34 columns]"
      ]
     },
     "execution_count": 17,
     "metadata": {},
     "output_type": "execute_result"
    }
   ],
   "source": [
    "b_sample.head()"
   ]
  },
  {
   "cell_type": "code",
   "execution_count": 18,
   "id": "eb150db1",
   "metadata": {},
   "outputs": [
    {
     "data": {
      "text/plain": [
       "array(['St', 'Av', 'Tr', 'Ct', 'Bl', 'Wy', 'Dr', nan, 'Rd', 'Cr', 'Pl',\n",
       "       'Ln', 'Hy', 'Pk', 'Al', 'Pz', 'Wk', 'Rw', 'So', 'Sw', 'No', 'Hl'],\n",
       "      dtype=object)"
      ]
     },
     "execution_count": 18,
     "metadata": {},
     "output_type": "execute_result"
    }
   ],
   "source": [
    "b['Street Suffix'].unique()"
   ]
  },
  {
   "cell_type": "code",
   "execution_count": 19,
   "id": "f6a5a201",
   "metadata": {},
   "outputs": [
    {
     "data": {
      "text/plain": [
       "2768"
      ]
     },
     "execution_count": 19,
     "metadata": {},
     "output_type": "execute_result"
    }
   ],
   "source": [
    "b['Street Suffix'].isna().sum()"
   ]
  },
  {
   "cell_type": "code",
   "execution_count": 20,
   "id": "31c9f528",
   "metadata": {},
   "outputs": [],
   "source": [
    "b_sample = b_sample[b_sample['Street Suffix'].notna()]"
   ]
  },
  {
   "cell_type": "code",
   "execution_count": 21,
   "id": "8fb94ba7",
   "metadata": {},
   "outputs": [
    {
     "data": {
      "text/plain": [
       "(196132, 34)"
      ]
     },
     "execution_count": 21,
     "metadata": {},
     "output_type": "execute_result"
    }
   ],
   "source": [
    "b_sample.shape"
   ]
  },
  {
   "cell_type": "code",
   "execution_count": 22,
   "id": "e54b11fc",
   "metadata": {},
   "outputs": [
    {
     "data": {
      "text/plain": [
       "Permit Number                                 0\n",
       "Permit Type                                   0\n",
       "Permit Type Definition                        0\n",
       "Permit Creation Date                          0\n",
       "Block                                         0\n",
       "Lot                                           0\n",
       "Street Number                                 0\n",
       "Street Name                                   0\n",
       "Street Suffix                                 0\n",
       "Description                                   0\n",
       "Current Status                                0\n",
       "Current Status Date                           0\n",
       "Filed Date                                    0\n",
       "Issued Date                               14764\n",
       "First Construction Document Date          14771\n",
       "Number of Existing Stories                42234\n",
       "Number of Proposed Stories                42310\n",
       "Permit Expiration Date                    51227\n",
       "Estimated Cost                            37573\n",
       "Revised Cost                               6009\n",
       "Existing Use                              40592\n",
       "Existing Units                            50725\n",
       "Proposed Use                              41888\n",
       "Proposed Units                            50097\n",
       "Plansets                                  36823\n",
       "Existing Construction Type                42810\n",
       "Existing Construction Type Description    42810\n",
       "Proposed Construction Type                42599\n",
       "Proposed Construction Type Description    42599\n",
       "Supervisor District                        1674\n",
       "Neighborhoods - Analysis Boundaries        1682\n",
       "Zipcode                                    1673\n",
       "Location                                   1657\n",
       "Record ID                                     0\n",
       "dtype: int64"
      ]
     },
     "execution_count": 22,
     "metadata": {},
     "output_type": "execute_result"
    }
   ],
   "source": [
    "b_sample.isna().sum()"
   ]
  },
  {
   "cell_type": "code",
   "execution_count": 23,
   "id": "7a7a16fa",
   "metadata": {},
   "outputs": [
    {
     "data": {
      "text/plain": [
       "0         94102.0\n",
       "1         94102.0\n",
       "2         94109.0\n",
       "3         94109.0\n",
       "4         94102.0\n",
       "           ...   \n",
       "198895        NaN\n",
       "198896        NaN\n",
       "198897        NaN\n",
       "198898        NaN\n",
       "198899        NaN\n",
       "Name: Zipcode, Length: 196132, dtype: float64"
      ]
     },
     "execution_count": 23,
     "metadata": {},
     "output_type": "execute_result"
    }
   ],
   "source": [
    "b_sample.Zipcode"
   ]
  },
  {
   "cell_type": "code",
   "execution_count": 24,
   "id": "bcf87a1b",
   "metadata": {},
   "outputs": [
    {
     "data": {
      "text/html": [
       "<div>\n",
       "<style scoped>\n",
       "    .dataframe tbody tr th:only-of-type {\n",
       "        vertical-align: middle;\n",
       "    }\n",
       "\n",
       "    .dataframe tbody tr th {\n",
       "        vertical-align: top;\n",
       "    }\n",
       "\n",
       "    .dataframe thead th {\n",
       "        text-align: right;\n",
       "    }\n",
       "</style>\n",
       "<table border=\"1\" class=\"dataframe\">\n",
       "  <thead>\n",
       "    <tr style=\"text-align: right;\">\n",
       "      <th></th>\n",
       "      <th>Estimated Cost</th>\n",
       "      <th>Revised Cost</th>\n",
       "    </tr>\n",
       "  </thead>\n",
       "  <tbody>\n",
       "    <tr>\n",
       "      <th>0</th>\n",
       "      <td>4000.0</td>\n",
       "      <td>4000.0</td>\n",
       "    </tr>\n",
       "    <tr>\n",
       "      <th>1</th>\n",
       "      <td>1.0</td>\n",
       "      <td>500.0</td>\n",
       "    </tr>\n",
       "    <tr>\n",
       "      <th>2</th>\n",
       "      <td>20000.0</td>\n",
       "      <td>NaN</td>\n",
       "    </tr>\n",
       "    <tr>\n",
       "      <th>3</th>\n",
       "      <td>2000.0</td>\n",
       "      <td>2000.0</td>\n",
       "    </tr>\n",
       "    <tr>\n",
       "      <th>4</th>\n",
       "      <td>100000.0</td>\n",
       "      <td>100000.0</td>\n",
       "    </tr>\n",
       "    <tr>\n",
       "      <th>...</th>\n",
       "      <td>...</td>\n",
       "      <td>...</td>\n",
       "    </tr>\n",
       "    <tr>\n",
       "      <th>198895</th>\n",
       "      <td>NaN</td>\n",
       "      <td>1.0</td>\n",
       "    </tr>\n",
       "    <tr>\n",
       "      <th>198896</th>\n",
       "      <td>5000.0</td>\n",
       "      <td>5000.0</td>\n",
       "    </tr>\n",
       "    <tr>\n",
       "      <th>198897</th>\n",
       "      <td>NaN</td>\n",
       "      <td>1.0</td>\n",
       "    </tr>\n",
       "    <tr>\n",
       "      <th>198898</th>\n",
       "      <td>NaN</td>\n",
       "      <td>1.0</td>\n",
       "    </tr>\n",
       "    <tr>\n",
       "      <th>198899</th>\n",
       "      <td>NaN</td>\n",
       "      <td>1.0</td>\n",
       "    </tr>\n",
       "  </tbody>\n",
       "</table>\n",
       "<p>196132 rows × 2 columns</p>\n",
       "</div>"
      ],
      "text/plain": [
       "        Estimated Cost  Revised Cost\n",
       "0               4000.0        4000.0\n",
       "1                  1.0         500.0\n",
       "2              20000.0           NaN\n",
       "3               2000.0        2000.0\n",
       "4             100000.0      100000.0\n",
       "...                ...           ...\n",
       "198895             NaN           1.0\n",
       "198896          5000.0        5000.0\n",
       "198897             NaN           1.0\n",
       "198898             NaN           1.0\n",
       "198899             NaN           1.0\n",
       "\n",
       "[196132 rows x 2 columns]"
      ]
     },
     "execution_count": 24,
     "metadata": {},
     "output_type": "execute_result"
    }
   ],
   "source": [
    "b_sample[['Estimated Cost', 'Revised Cost']]"
   ]
  },
  {
   "cell_type": "code",
   "execution_count": 25,
   "id": "4bf3c188",
   "metadata": {},
   "outputs": [
    {
     "data": {
      "text/plain": [
       "8         NaN\n",
       "10        NaN\n",
       "11        NaN\n",
       "12        NaN\n",
       "14        NaN\n",
       "         ... \n",
       "198891    1.0\n",
       "198895    NaN\n",
       "198897    NaN\n",
       "198898    NaN\n",
       "198899    NaN\n",
       "Name: Estimated Cost, Length: 46573, dtype: float64"
      ]
     },
     "execution_count": 25,
     "metadata": {},
     "output_type": "execute_result"
    }
   ],
   "source": [
    "b_sample.loc[(b_sample['Revised Cost'] == 1)]['Estimated Cost']"
   ]
  },
  {
   "cell_type": "code",
   "execution_count": 26,
   "id": "3f3d8124",
   "metadata": {},
   "outputs": [
    {
     "data": {
      "text/plain": [
       "31733"
      ]
     },
     "execution_count": 26,
     "metadata": {},
     "output_type": "execute_result"
    }
   ],
   "source": [
    "b_sample.loc[(b_sample['Revised Cost'] == 1)]['Estimated Cost'].isna().sum()"
   ]
  },
  {
   "cell_type": "code",
   "execution_count": 27,
   "id": "a8340b33",
   "metadata": {},
   "outputs": [],
   "source": [
    "b_sample['Estimated Cost'] = b_sample['Estimated Cost'].fillna(b_sample['Estimated Cost'].median());"
   ]
  },
  {
   "cell_type": "code",
   "execution_count": 28,
   "id": "38d44ddb",
   "metadata": {},
   "outputs": [
    {
     "data": {
      "text/plain": [
       "Permit Number                                 0\n",
       "Permit Type                                   0\n",
       "Permit Type Definition                        0\n",
       "Permit Creation Date                          0\n",
       "Block                                         0\n",
       "Lot                                           0\n",
       "Street Number                                 0\n",
       "Street Name                                   0\n",
       "Street Suffix                                 0\n",
       "Description                                   0\n",
       "Current Status                                0\n",
       "Current Status Date                           0\n",
       "Filed Date                                    0\n",
       "Issued Date                               14764\n",
       "First Construction Document Date          14771\n",
       "Number of Existing Stories                42234\n",
       "Number of Proposed Stories                42310\n",
       "Permit Expiration Date                    51227\n",
       "Estimated Cost                                0\n",
       "Revised Cost                               6009\n",
       "Existing Use                              40592\n",
       "Existing Units                            50725\n",
       "Proposed Use                              41888\n",
       "Proposed Units                            50097\n",
       "Plansets                                  36823\n",
       "Existing Construction Type                42810\n",
       "Existing Construction Type Description    42810\n",
       "Proposed Construction Type                42599\n",
       "Proposed Construction Type Description    42599\n",
       "Supervisor District                        1674\n",
       "Neighborhoods - Analysis Boundaries        1682\n",
       "Zipcode                                    1673\n",
       "Location                                   1657\n",
       "Record ID                                     0\n",
       "dtype: int64"
      ]
     },
     "execution_count": 28,
     "metadata": {},
     "output_type": "execute_result"
    }
   ],
   "source": [
    "b_sample.isna().sum()"
   ]
  },
  {
   "cell_type": "code",
   "execution_count": 29,
   "id": "4368b0c6",
   "metadata": {},
   "outputs": [
    {
     "data": {
      "text/plain": [
       "(196132, 34)"
      ]
     },
     "execution_count": 29,
     "metadata": {},
     "output_type": "execute_result"
    }
   ],
   "source": [
    "b_sample.shape"
   ]
  },
  {
   "cell_type": "code",
   "execution_count": 30,
   "id": "f64509c0",
   "metadata": {},
   "outputs": [
    {
     "data": {
      "text/plain": [
       "0         2.0\n",
       "1         2.0\n",
       "2         2.0\n",
       "3         2.0\n",
       "4         2.0\n",
       "         ... \n",
       "198895    NaN\n",
       "198896    2.0\n",
       "198897    NaN\n",
       "198898    NaN\n",
       "198899    NaN\n",
       "Name: Plansets, Length: 196132, dtype: float64"
      ]
     },
     "execution_count": 30,
     "metadata": {},
     "output_type": "execute_result"
    }
   ],
   "source": [
    "b_sample['Plansets']"
   ]
  },
  {
   "cell_type": "code",
   "execution_count": 31,
   "id": "dd516f05",
   "metadata": {},
   "outputs": [],
   "source": [
    "b_sample = b_sample[b_sample['Revised Cost'].notna()]"
   ]
  },
  {
   "cell_type": "code",
   "execution_count": 32,
   "id": "bafa9a00",
   "metadata": {},
   "outputs": [
    {
     "data": {
      "text/plain": [
       "0         11/09/2015\n",
       "1         08/03/2017\n",
       "3         07/18/2017\n",
       "4         12/01/2017\n",
       "5         07/06/2017\n",
       "             ...    \n",
       "198895    12/05/2017\n",
       "198896    12/06/2017\n",
       "198897    12/06/2017\n",
       "198898    12/06/2017\n",
       "198899    12/07/2017\n",
       "Name: Issued Date, Length: 190123, dtype: object"
      ]
     },
     "execution_count": 32,
     "metadata": {},
     "output_type": "execute_result"
    }
   ],
   "source": [
    "b_sample['Issued Date']"
   ]
  },
  {
   "cell_type": "code",
   "execution_count": 33,
   "id": "65532b56",
   "metadata": {},
   "outputs": [],
   "source": [
    "obj_cols = [col for col in b.columns if b[col].dtype == 'object']"
   ]
  },
  {
   "cell_type": "code",
   "execution_count": 34,
   "id": "9532d192",
   "metadata": {},
   "outputs": [
    {
     "data": {
      "text/plain": [
       "20"
      ]
     },
     "execution_count": 34,
     "metadata": {},
     "output_type": "execute_result"
    }
   ],
   "source": [
    "len(obj_cols)"
   ]
  },
  {
   "cell_type": "code",
   "execution_count": 35,
   "id": "239f0ea1",
   "metadata": {},
   "outputs": [
    {
     "data": {
      "text/plain": [
       "(20,)"
      ]
     },
     "execution_count": 35,
     "metadata": {},
     "output_type": "execute_result"
    }
   ],
   "source": [
    "b.select_dtypes(include=['object']).columns.shape"
   ]
  },
  {
   "cell_type": "code",
   "execution_count": 36,
   "id": "4ce7ee7e",
   "metadata": {},
   "outputs": [
    {
     "data": {
      "text/plain": [
       "['Permit Number',\n",
       " 'Permit Type Definition',\n",
       " 'Permit Creation Date',\n",
       " 'Block',\n",
       " 'Lot',\n",
       " 'Street Name',\n",
       " 'Street Suffix',\n",
       " 'Description',\n",
       " 'Current Status',\n",
       " 'Current Status Date',\n",
       " 'Filed Date',\n",
       " 'Issued Date',\n",
       " 'First Construction Document Date',\n",
       " 'Permit Expiration Date',\n",
       " 'Existing Use',\n",
       " 'Proposed Use',\n",
       " 'Existing Construction Type Description',\n",
       " 'Proposed Construction Type Description',\n",
       " 'Neighborhoods - Analysis Boundaries',\n",
       " 'Location']"
      ]
     },
     "execution_count": 36,
     "metadata": {},
     "output_type": "execute_result"
    }
   ],
   "source": [
    "obj_cols"
   ]
  },
  {
   "cell_type": "code",
   "execution_count": 37,
   "id": "f34a44d6",
   "metadata": {},
   "outputs": [
    {
     "data": {
      "text/plain": [
       "Permit Number                                 0\n",
       "Permit Type Definition                        0\n",
       "Permit Creation Date                          0\n",
       "Block                                         0\n",
       "Lot                                           0\n",
       "Street Name                                   0\n",
       "Street Suffix                                 0\n",
       "Description                                   0\n",
       "Current Status                                0\n",
       "Current Status Date                           0\n",
       "Filed Date                                    0\n",
       "Issued Date                                8763\n",
       "First Construction Document Date           8770\n",
       "Permit Expiration Date                    45219\n",
       "Existing Use                              39360\n",
       "Proposed Use                              40558\n",
       "Existing Construction Type Description    41536\n",
       "Proposed Construction Type Description    41244\n",
       "Neighborhoods - Analysis Boundaries        1668\n",
       "Location                                   1644\n",
       "dtype: int64"
      ]
     },
     "execution_count": 37,
     "metadata": {},
     "output_type": "execute_result"
    }
   ],
   "source": [
    "b_sample[obj_cols].isna().sum()"
   ]
  },
  {
   "cell_type": "code",
   "execution_count": 38,
   "id": "d66d2a30",
   "metadata": {},
   "outputs": [],
   "source": [
    "b_sample = b_sample[b_sample['Location'].notna()]"
   ]
  },
  {
   "cell_type": "code",
   "execution_count": 39,
   "id": "5f063986",
   "metadata": {},
   "outputs": [
    {
     "data": {
      "text/plain": [
       "Permit Number                                 0\n",
       "Permit Type Definition                        0\n",
       "Permit Creation Date                          0\n",
       "Block                                         0\n",
       "Lot                                           0\n",
       "Street Name                                   0\n",
       "Street Suffix                                 0\n",
       "Description                                   0\n",
       "Current Status                                0\n",
       "Current Status Date                           0\n",
       "Filed Date                                    0\n",
       "Issued Date                                8717\n",
       "First Construction Document Date           8724\n",
       "Permit Expiration Date                    44596\n",
       "Existing Use                              38774\n",
       "Proposed Use                              39929\n",
       "Existing Construction Type Description    40946\n",
       "Proposed Construction Type Description    40615\n",
       "Neighborhoods - Analysis Boundaries          24\n",
       "Location                                      0\n",
       "dtype: int64"
      ]
     },
     "execution_count": 39,
     "metadata": {},
     "output_type": "execute_result"
    }
   ],
   "source": [
    "b_sample[obj_cols].isna().sum()"
   ]
  },
  {
   "cell_type": "code",
   "execution_count": 40,
   "id": "8ca44593",
   "metadata": {},
   "outputs": [],
   "source": [
    "b_sample = b_sample[b_sample['Neighborhoods - Analysis Boundaries'].notna()]"
   ]
  },
  {
   "cell_type": "code",
   "execution_count": 41,
   "id": "007543e9",
   "metadata": {},
   "outputs": [
    {
     "data": {
      "text/plain": [
       "Permit Number                                 0\n",
       "Permit Type Definition                        0\n",
       "Permit Creation Date                          0\n",
       "Block                                         0\n",
       "Lot                                           0\n",
       "Street Name                                   0\n",
       "Street Suffix                                 0\n",
       "Description                                   0\n",
       "Current Status                                0\n",
       "Current Status Date                           0\n",
       "Filed Date                                    0\n",
       "Issued Date                                8716\n",
       "First Construction Document Date           8723\n",
       "Permit Expiration Date                    44593\n",
       "Existing Use                              38772\n",
       "Proposed Use                              39927\n",
       "Existing Construction Type Description    40942\n",
       "Proposed Construction Type Description    40611\n",
       "Neighborhoods - Analysis Boundaries           0\n",
       "Location                                      0\n",
       "dtype: int64"
      ]
     },
     "execution_count": 41,
     "metadata": {},
     "output_type": "execute_result"
    }
   ],
   "source": [
    "b_sample[obj_cols].isna().sum()"
   ]
  },
  {
   "cell_type": "code",
   "execution_count": 42,
   "id": "b19058b1",
   "metadata": {},
   "outputs": [
    {
     "data": {
      "text/plain": [
       "4.624976784908864"
      ]
     },
     "execution_count": 42,
     "metadata": {},
     "output_type": "execute_result"
    }
   ],
   "source": [
    "b_sample['Issued Date'].isna().sum()/b_sample['Issued Date'].shape[0] * 100"
   ]
  },
  {
   "cell_type": "markdown",
   "id": "10375eff",
   "metadata": {},
   "source": [
    "7.5% of issued date values are missing"
   ]
  },
  {
   "cell_type": "code",
   "execution_count": 43,
   "id": "7b248a3a",
   "metadata": {},
   "outputs": [],
   "source": [
    "b_sample = b_sample[b_sample['Issued Date'].notna()]"
   ]
  },
  {
   "cell_type": "code",
   "execution_count": 44,
   "id": "6dd8abce",
   "metadata": {},
   "outputs": [
    {
     "data": {
      "text/plain": [
       "Permit Number                                 0\n",
       "Permit Type Definition                        0\n",
       "Permit Creation Date                          0\n",
       "Block                                         0\n",
       "Lot                                           0\n",
       "Street Name                                   0\n",
       "Street Suffix                                 0\n",
       "Description                                   0\n",
       "Current Status                                0\n",
       "Current Status Date                           0\n",
       "Filed Date                                    0\n",
       "Issued Date                                   0\n",
       "First Construction Document Date             32\n",
       "Permit Expiration Date                    35896\n",
       "Existing Use                              38094\n",
       "Proposed Use                              39247\n",
       "Existing Construction Type Description    40163\n",
       "Proposed Construction Type Description    39903\n",
       "Neighborhoods - Analysis Boundaries           0\n",
       "Location                                      0\n",
       "dtype: int64"
      ]
     },
     "execution_count": 44,
     "metadata": {},
     "output_type": "execute_result"
    }
   ],
   "source": [
    "b_sample[obj_cols].isna().sum()"
   ]
  },
  {
   "cell_type": "code",
   "execution_count": 45,
   "id": "2140bd9a",
   "metadata": {},
   "outputs": [],
   "source": [
    "b_sample = b_sample[b_sample['First Construction Document Date'].notna()]"
   ]
  },
  {
   "cell_type": "code",
   "execution_count": 46,
   "id": "8adb3099",
   "metadata": {},
   "outputs": [
    {
     "data": {
      "text/plain": [
       "Permit Number                                 0\n",
       "Permit Type Definition                        0\n",
       "Permit Creation Date                          0\n",
       "Block                                         0\n",
       "Lot                                           0\n",
       "Street Name                                   0\n",
       "Street Suffix                                 0\n",
       "Description                                   0\n",
       "Current Status                                0\n",
       "Current Status Date                           0\n",
       "Filed Date                                    0\n",
       "Issued Date                                   0\n",
       "First Construction Document Date              0\n",
       "Permit Expiration Date                    35893\n",
       "Existing Use                              38091\n",
       "Proposed Use                              39243\n",
       "Existing Construction Type Description    40160\n",
       "Proposed Construction Type Description    39899\n",
       "Neighborhoods - Analysis Boundaries           0\n",
       "Location                                      0\n",
       "dtype: int64"
      ]
     },
     "execution_count": 46,
     "metadata": {},
     "output_type": "execute_result"
    }
   ],
   "source": [
    "b_sample[obj_cols].isna().sum()"
   ]
  },
  {
   "cell_type": "code",
   "execution_count": 47,
   "id": "9340b093",
   "metadata": {},
   "outputs": [
    {
     "data": {
      "text/plain": [
       "Permit Number                                 0\n",
       "Permit Type                                   0\n",
       "Permit Type Definition                        0\n",
       "Permit Creation Date                          0\n",
       "Block                                         0\n",
       "Lot                                           0\n",
       "Street Number                                 0\n",
       "Street Name                                   0\n",
       "Street Suffix                                 0\n",
       "Description                                   0\n",
       "Current Status                                0\n",
       "Current Status Date                           0\n",
       "Filed Date                                    0\n",
       "Issued Date                                   0\n",
       "First Construction Document Date              0\n",
       "Number of Existing Stories                39632\n",
       "Number of Proposed Stories                39644\n",
       "Permit Expiration Date                    35893\n",
       "Estimated Cost                                0\n",
       "Revised Cost                                  0\n",
       "Existing Use                              38091\n",
       "Existing Units                            47198\n",
       "Proposed Use                              39243\n",
       "Proposed Units                            46680\n",
       "Plansets                                  35865\n",
       "Existing Construction Type                40160\n",
       "Existing Construction Type Description    40160\n",
       "Proposed Construction Type                39899\n",
       "Proposed Construction Type Description    39899\n",
       "Supervisor District                           0\n",
       "Neighborhoods - Analysis Boundaries           0\n",
       "Zipcode                                       1\n",
       "Location                                      0\n",
       "Record ID                                     0\n",
       "dtype: int64"
      ]
     },
     "execution_count": 47,
     "metadata": {},
     "output_type": "execute_result"
    }
   ],
   "source": [
    "b_sample.isna().sum()"
   ]
  },
  {
   "cell_type": "code",
   "execution_count": 48,
   "id": "edcad196",
   "metadata": {},
   "outputs": [
    {
     "data": {
      "text/plain": [
       "0         143.0\n",
       "1           NaN\n",
       "3           1.0\n",
       "4           NaN\n",
       "5         326.0\n",
       "          ...  \n",
       "198879      1.0\n",
       "198880      NaN\n",
       "198881      NaN\n",
       "198882      1.0\n",
       "198883      NaN\n",
       "Name: Existing Units, Length: 179707, dtype: float64"
      ]
     },
     "execution_count": 48,
     "metadata": {},
     "output_type": "execute_result"
    }
   ],
   "source": [
    "b_sample['Existing Units']"
   ]
  },
  {
   "cell_type": "code",
   "execution_count": 49,
   "id": "04076a66",
   "metadata": {},
   "outputs": [
    {
     "data": {
      "text/plain": [
       "(179707, 34)"
      ]
     },
     "execution_count": 49,
     "metadata": {},
     "output_type": "execute_result"
    }
   ],
   "source": [
    "b_sample.shape"
   ]
  },
  {
   "cell_type": "code",
   "execution_count": 50,
   "id": "021bb16f",
   "metadata": {},
   "outputs": [],
   "source": [
    "b_sample.Plansets.fillna(2.0, inplace=True)"
   ]
  },
  {
   "cell_type": "code",
   "execution_count": 51,
   "id": "f9546f62",
   "metadata": {},
   "outputs": [],
   "source": [
    "ect = b_sample['Existing Construction Type'].mode()[0]"
   ]
  },
  {
   "cell_type": "code",
   "execution_count": 52,
   "id": "d96df18a",
   "metadata": {},
   "outputs": [
    {
     "data": {
      "text/plain": [
       "Permit Number                                 0\n",
       "Permit Type                                   0\n",
       "Permit Type Definition                        0\n",
       "Permit Creation Date                          0\n",
       "Block                                         0\n",
       "Lot                                           0\n",
       "Street Number                                 0\n",
       "Street Name                                   0\n",
       "Street Suffix                                 0\n",
       "Description                                   0\n",
       "Current Status                                0\n",
       "Current Status Date                           0\n",
       "Filed Date                                    0\n",
       "Issued Date                                   0\n",
       "First Construction Document Date              0\n",
       "Number of Existing Stories                39632\n",
       "Number of Proposed Stories                39644\n",
       "Permit Expiration Date                    35893\n",
       "Estimated Cost                                0\n",
       "Revised Cost                                  0\n",
       "Existing Use                              38091\n",
       "Existing Units                            47198\n",
       "Proposed Use                              39243\n",
       "Proposed Units                            46680\n",
       "Plansets                                      0\n",
       "Existing Construction Type                40160\n",
       "Existing Construction Type Description    40160\n",
       "Proposed Construction Type                39899\n",
       "Proposed Construction Type Description    39899\n",
       "Supervisor District                           0\n",
       "Neighborhoods - Analysis Boundaries           0\n",
       "Zipcode                                       1\n",
       "Location                                      0\n",
       "Record ID                                     0\n",
       "dtype: int64"
      ]
     },
     "execution_count": 52,
     "metadata": {},
     "output_type": "execute_result"
    }
   ],
   "source": [
    "b_sample.isna().sum()"
   ]
  },
  {
   "cell_type": "code",
   "execution_count": 53,
   "id": "23a39818",
   "metadata": {},
   "outputs": [],
   "source": [
    "b_sample['Existing Construction Type'].fillna(ect, inplace=True)"
   ]
  },
  {
   "cell_type": "code",
   "execution_count": 54,
   "id": "80c48f31",
   "metadata": {},
   "outputs": [
    {
     "data": {
      "text/plain": [
       "Permit Number                                 0\n",
       "Permit Type                                   0\n",
       "Permit Type Definition                        0\n",
       "Permit Creation Date                          0\n",
       "Block                                         0\n",
       "Lot                                           0\n",
       "Street Number                                 0\n",
       "Street Name                                   0\n",
       "Street Suffix                                 0\n",
       "Description                                   0\n",
       "Current Status                                0\n",
       "Current Status Date                           0\n",
       "Filed Date                                    0\n",
       "Issued Date                                   0\n",
       "First Construction Document Date              0\n",
       "Number of Existing Stories                39632\n",
       "Number of Proposed Stories                39644\n",
       "Permit Expiration Date                    35893\n",
       "Estimated Cost                                0\n",
       "Revised Cost                                  0\n",
       "Existing Use                              38091\n",
       "Existing Units                            47198\n",
       "Proposed Use                              39243\n",
       "Proposed Units                            46680\n",
       "Plansets                                      0\n",
       "Existing Construction Type                    0\n",
       "Existing Construction Type Description    40160\n",
       "Proposed Construction Type                39899\n",
       "Proposed Construction Type Description    39899\n",
       "Supervisor District                           0\n",
       "Neighborhoods - Analysis Boundaries           0\n",
       "Zipcode                                       1\n",
       "Location                                      0\n",
       "Record ID                                     0\n",
       "dtype: int64"
      ]
     },
     "execution_count": 54,
     "metadata": {},
     "output_type": "execute_result"
    }
   ],
   "source": [
    "b_sample.isna().sum()"
   ]
  },
  {
   "cell_type": "code",
   "execution_count": 55,
   "id": "0b90637c",
   "metadata": {},
   "outputs": [
    {
     "data": {
      "text/plain": [
       "'Proposed Construction Type Description'"
      ]
     },
     "execution_count": 55,
     "metadata": {},
     "output_type": "execute_result"
    }
   ],
   "source": [
    "b_sample.columns[28]"
   ]
  },
  {
   "cell_type": "code",
   "execution_count": 56,
   "id": "86b8fc10",
   "metadata": {},
   "outputs": [],
   "source": [
    "c = b_sample.columns[[15, 16, 20, 21, 22, 23, 25, 26, 27, 28]]"
   ]
  },
  {
   "cell_type": "markdown",
   "id": "c7a7d418",
   "metadata": {},
   "source": [
    "filling missing values with most frequent values"
   ]
  },
  {
   "cell_type": "code",
   "execution_count": 57,
   "id": "bcce28c2",
   "metadata": {},
   "outputs": [],
   "source": [
    "for col in c:\n",
    "    b_sample[col].fillna(b_sample[col].mode()[0], inplace=True)"
   ]
  },
  {
   "cell_type": "code",
   "execution_count": 58,
   "id": "b59e4192",
   "metadata": {},
   "outputs": [
    {
     "data": {
      "text/plain": [
       "Permit Number                                 0\n",
       "Permit Type                                   0\n",
       "Permit Type Definition                        0\n",
       "Permit Creation Date                          0\n",
       "Block                                         0\n",
       "Lot                                           0\n",
       "Street Number                                 0\n",
       "Street Name                                   0\n",
       "Street Suffix                                 0\n",
       "Description                                   0\n",
       "Current Status                                0\n",
       "Current Status Date                           0\n",
       "Filed Date                                    0\n",
       "Issued Date                                   0\n",
       "First Construction Document Date              0\n",
       "Number of Existing Stories                    0\n",
       "Number of Proposed Stories                    0\n",
       "Permit Expiration Date                    35893\n",
       "Estimated Cost                                0\n",
       "Revised Cost                                  0\n",
       "Existing Use                                  0\n",
       "Existing Units                                0\n",
       "Proposed Use                                  0\n",
       "Proposed Units                                0\n",
       "Plansets                                      0\n",
       "Existing Construction Type                    0\n",
       "Existing Construction Type Description        0\n",
       "Proposed Construction Type                    0\n",
       "Proposed Construction Type Description        0\n",
       "Supervisor District                           0\n",
       "Neighborhoods - Analysis Boundaries           0\n",
       "Zipcode                                       1\n",
       "Location                                      0\n",
       "Record ID                                     0\n",
       "dtype: int64"
      ]
     },
     "execution_count": 58,
     "metadata": {},
     "output_type": "execute_result"
    }
   ],
   "source": [
    "b_sample.isna().sum()"
   ]
  },
  {
   "cell_type": "code",
   "execution_count": 59,
   "id": "51cadd07",
   "metadata": {},
   "outputs": [
    {
     "data": {
      "text/plain": [
       "(179707, 34)"
      ]
     },
     "execution_count": 59,
     "metadata": {},
     "output_type": "execute_result"
    }
   ],
   "source": [
    "b_sample.shape"
   ]
  },
  {
   "cell_type": "code",
   "execution_count": 60,
   "id": "59b6e103",
   "metadata": {},
   "outputs": [
    {
     "data": {
      "text/plain": [
       "0.19973067270612718"
      ]
     },
     "execution_count": 60,
     "metadata": {},
     "output_type": "execute_result"
    }
   ],
   "source": [
    "b_sample['Permit Expiration Date'].isna().sum()/b_sample.shape[0]"
   ]
  },
  {
   "cell_type": "code",
   "execution_count": 61,
   "id": "136963af",
   "metadata": {},
   "outputs": [],
   "source": [
    "import datetime"
   ]
  },
  {
   "cell_type": "code",
   "execution_count": 62,
   "id": "69510e55",
   "metadata": {},
   "outputs": [],
   "source": [
    "dates = pd.to_datetime(b_sample['Permit Expiration Date'])"
   ]
  },
  {
   "cell_type": "code",
   "execution_count": 63,
   "id": "91219258",
   "metadata": {},
   "outputs": [
    {
     "data": {
      "text/plain": [
       "0    2018.0\n",
       "Name: Permit Expiration Date, dtype: float64"
      ]
     },
     "execution_count": 63,
     "metadata": {},
     "output_type": "execute_result"
    }
   ],
   "source": [
    "dates.dt.year.mode()"
   ]
  },
  {
   "cell_type": "code",
   "execution_count": 64,
   "id": "001ebb41",
   "metadata": {},
   "outputs": [
    {
     "data": {
      "text/plain": [
       "0    5.0\n",
       "Name: Permit Expiration Date, dtype: float64"
      ]
     },
     "execution_count": 64,
     "metadata": {},
     "output_type": "execute_result"
    }
   ],
   "source": [
    "dates.dt.month.mode()"
   ]
  },
  {
   "cell_type": "code",
   "execution_count": 65,
   "id": "5db78cff",
   "metadata": {},
   "outputs": [
    {
     "data": {
      "text/plain": [
       "0    7.0\n",
       "Name: Permit Expiration Date, dtype: float64"
      ]
     },
     "execution_count": 65,
     "metadata": {},
     "output_type": "execute_result"
    }
   ],
   "source": [
    "dates.dt.day.mode()"
   ]
  },
  {
   "cell_type": "code",
   "execution_count": 66,
   "id": "3bb1a6b2",
   "metadata": {},
   "outputs": [],
   "source": [
    "dates = dates.fillna('2018-05-07')"
   ]
  },
  {
   "cell_type": "code",
   "execution_count": 67,
   "id": "55add2d6",
   "metadata": {},
   "outputs": [],
   "source": [
    "b_sample['Permit Expiration Date'] = dates"
   ]
  },
  {
   "cell_type": "code",
   "execution_count": 68,
   "id": "36653e95",
   "metadata": {},
   "outputs": [
    {
     "data": {
      "text/plain": [
       "0"
      ]
     },
     "execution_count": 68,
     "metadata": {},
     "output_type": "execute_result"
    }
   ],
   "source": [
    "dates.isna().sum()"
   ]
  },
  {
   "cell_type": "code",
   "execution_count": 69,
   "id": "aac241a1",
   "metadata": {},
   "outputs": [
    {
     "data": {
      "text/plain": [
       "Permit Number                             0\n",
       "Permit Type                               0\n",
       "Permit Type Definition                    0\n",
       "Permit Creation Date                      0\n",
       "Block                                     0\n",
       "Lot                                       0\n",
       "Street Number                             0\n",
       "Street Name                               0\n",
       "Street Suffix                             0\n",
       "Description                               0\n",
       "Current Status                            0\n",
       "Current Status Date                       0\n",
       "Filed Date                                0\n",
       "Issued Date                               0\n",
       "First Construction Document Date          0\n",
       "Number of Existing Stories                0\n",
       "Number of Proposed Stories                0\n",
       "Permit Expiration Date                    0\n",
       "Estimated Cost                            0\n",
       "Revised Cost                              0\n",
       "Existing Use                              0\n",
       "Existing Units                            0\n",
       "Proposed Use                              0\n",
       "Proposed Units                            0\n",
       "Plansets                                  0\n",
       "Existing Construction Type                0\n",
       "Existing Construction Type Description    0\n",
       "Proposed Construction Type                0\n",
       "Proposed Construction Type Description    0\n",
       "Supervisor District                       0\n",
       "Neighborhoods - Analysis Boundaries       0\n",
       "Zipcode                                   1\n",
       "Location                                  0\n",
       "Record ID                                 0\n",
       "dtype: int64"
      ]
     },
     "execution_count": 69,
     "metadata": {},
     "output_type": "execute_result"
    }
   ],
   "source": [
    "b_sample.isna().sum()"
   ]
  },
  {
   "cell_type": "markdown",
   "id": "373d588f",
   "metadata": {},
   "source": [
    "Normalization & scaling"
   ]
  },
  {
   "cell_type": "markdown",
   "id": "b40ca1bb",
   "metadata": {},
   "source": [
    "[Data normalization guide](https://towardsdatascience.com/data-normalization-with-pandas-and-scikit-learn-7c1cc6ed6475)"
   ]
  },
  {
   "cell_type": "code",
   "execution_count": 70,
   "id": "ff3db7d4",
   "metadata": {},
   "outputs": [],
   "source": [
    "ks = pd.read_csv('../../Data/ks.csv')"
   ]
  },
  {
   "cell_type": "code",
   "execution_count": 71,
   "id": "3eff5eec",
   "metadata": {},
   "outputs": [
    {
     "data": {
      "text/html": [
       "<div>\n",
       "<style scoped>\n",
       "    .dataframe tbody tr th:only-of-type {\n",
       "        vertical-align: middle;\n",
       "    }\n",
       "\n",
       "    .dataframe tbody tr th {\n",
       "        vertical-align: top;\n",
       "    }\n",
       "\n",
       "    .dataframe thead th {\n",
       "        text-align: right;\n",
       "    }\n",
       "</style>\n",
       "<table border=\"1\" class=\"dataframe\">\n",
       "  <thead>\n",
       "    <tr style=\"text-align: right;\">\n",
       "      <th></th>\n",
       "      <th>ID</th>\n",
       "      <th>name</th>\n",
       "      <th>category</th>\n",
       "      <th>main_category</th>\n",
       "      <th>currency</th>\n",
       "      <th>deadline</th>\n",
       "      <th>goal</th>\n",
       "      <th>launched</th>\n",
       "      <th>pledged</th>\n",
       "      <th>state</th>\n",
       "      <th>backers</th>\n",
       "      <th>country</th>\n",
       "      <th>usd pledged</th>\n",
       "      <th>usd_pledged_real</th>\n",
       "      <th>usd_goal_real</th>\n",
       "    </tr>\n",
       "  </thead>\n",
       "  <tbody>\n",
       "    <tr>\n",
       "      <th>0</th>\n",
       "      <td>1000002330</td>\n",
       "      <td>The Songs of Adelaide &amp; Abullah</td>\n",
       "      <td>Poetry</td>\n",
       "      <td>Publishing</td>\n",
       "      <td>GBP</td>\n",
       "      <td>2015-10-09</td>\n",
       "      <td>1000.0</td>\n",
       "      <td>2015-08-11 12:12:28</td>\n",
       "      <td>0.0</td>\n",
       "      <td>failed</td>\n",
       "      <td>0</td>\n",
       "      <td>GB</td>\n",
       "      <td>0.0</td>\n",
       "      <td>0.0</td>\n",
       "      <td>1533.95</td>\n",
       "    </tr>\n",
       "    <tr>\n",
       "      <th>1</th>\n",
       "      <td>1000003930</td>\n",
       "      <td>Greeting From Earth: ZGAC Arts Capsule For ET</td>\n",
       "      <td>Narrative Film</td>\n",
       "      <td>Film &amp; Video</td>\n",
       "      <td>USD</td>\n",
       "      <td>2017-11-01</td>\n",
       "      <td>30000.0</td>\n",
       "      <td>2017-09-02 04:43:57</td>\n",
       "      <td>2421.0</td>\n",
       "      <td>failed</td>\n",
       "      <td>15</td>\n",
       "      <td>US</td>\n",
       "      <td>100.0</td>\n",
       "      <td>2421.0</td>\n",
       "      <td>30000.00</td>\n",
       "    </tr>\n",
       "    <tr>\n",
       "      <th>2</th>\n",
       "      <td>1000004038</td>\n",
       "      <td>Where is Hank?</td>\n",
       "      <td>Narrative Film</td>\n",
       "      <td>Film &amp; Video</td>\n",
       "      <td>USD</td>\n",
       "      <td>2013-02-26</td>\n",
       "      <td>45000.0</td>\n",
       "      <td>2013-01-12 00:20:50</td>\n",
       "      <td>220.0</td>\n",
       "      <td>failed</td>\n",
       "      <td>3</td>\n",
       "      <td>US</td>\n",
       "      <td>220.0</td>\n",
       "      <td>220.0</td>\n",
       "      <td>45000.00</td>\n",
       "    </tr>\n",
       "    <tr>\n",
       "      <th>3</th>\n",
       "      <td>1000007540</td>\n",
       "      <td>ToshiCapital Rekordz Needs Help to Complete Album</td>\n",
       "      <td>Music</td>\n",
       "      <td>Music</td>\n",
       "      <td>USD</td>\n",
       "      <td>2012-04-16</td>\n",
       "      <td>5000.0</td>\n",
       "      <td>2012-03-17 03:24:11</td>\n",
       "      <td>1.0</td>\n",
       "      <td>failed</td>\n",
       "      <td>1</td>\n",
       "      <td>US</td>\n",
       "      <td>1.0</td>\n",
       "      <td>1.0</td>\n",
       "      <td>5000.00</td>\n",
       "    </tr>\n",
       "    <tr>\n",
       "      <th>4</th>\n",
       "      <td>1000011046</td>\n",
       "      <td>Community Film Project: The Art of Neighborhoo...</td>\n",
       "      <td>Film &amp; Video</td>\n",
       "      <td>Film &amp; Video</td>\n",
       "      <td>USD</td>\n",
       "      <td>2015-08-29</td>\n",
       "      <td>19500.0</td>\n",
       "      <td>2015-07-04 08:35:03</td>\n",
       "      <td>1283.0</td>\n",
       "      <td>canceled</td>\n",
       "      <td>14</td>\n",
       "      <td>US</td>\n",
       "      <td>1283.0</td>\n",
       "      <td>1283.0</td>\n",
       "      <td>19500.00</td>\n",
       "    </tr>\n",
       "    <tr>\n",
       "      <th>...</th>\n",
       "      <td>...</td>\n",
       "      <td>...</td>\n",
       "      <td>...</td>\n",
       "      <td>...</td>\n",
       "      <td>...</td>\n",
       "      <td>...</td>\n",
       "      <td>...</td>\n",
       "      <td>...</td>\n",
       "      <td>...</td>\n",
       "      <td>...</td>\n",
       "      <td>...</td>\n",
       "      <td>...</td>\n",
       "      <td>...</td>\n",
       "      <td>...</td>\n",
       "      <td>...</td>\n",
       "    </tr>\n",
       "    <tr>\n",
       "      <th>378656</th>\n",
       "      <td>999976400</td>\n",
       "      <td>ChknTruk Nationwide Charity Drive 2014 (Canceled)</td>\n",
       "      <td>Documentary</td>\n",
       "      <td>Film &amp; Video</td>\n",
       "      <td>USD</td>\n",
       "      <td>2014-10-17</td>\n",
       "      <td>50000.0</td>\n",
       "      <td>2014-09-17 02:35:30</td>\n",
       "      <td>25.0</td>\n",
       "      <td>canceled</td>\n",
       "      <td>1</td>\n",
       "      <td>US</td>\n",
       "      <td>25.0</td>\n",
       "      <td>25.0</td>\n",
       "      <td>50000.00</td>\n",
       "    </tr>\n",
       "    <tr>\n",
       "      <th>378657</th>\n",
       "      <td>999977640</td>\n",
       "      <td>The Tribe</td>\n",
       "      <td>Narrative Film</td>\n",
       "      <td>Film &amp; Video</td>\n",
       "      <td>USD</td>\n",
       "      <td>2011-07-19</td>\n",
       "      <td>1500.0</td>\n",
       "      <td>2011-06-22 03:35:14</td>\n",
       "      <td>155.0</td>\n",
       "      <td>failed</td>\n",
       "      <td>5</td>\n",
       "      <td>US</td>\n",
       "      <td>155.0</td>\n",
       "      <td>155.0</td>\n",
       "      <td>1500.00</td>\n",
       "    </tr>\n",
       "    <tr>\n",
       "      <th>378658</th>\n",
       "      <td>999986353</td>\n",
       "      <td>Walls of Remedy- New lesbian Romantic Comedy f...</td>\n",
       "      <td>Narrative Film</td>\n",
       "      <td>Film &amp; Video</td>\n",
       "      <td>USD</td>\n",
       "      <td>2010-08-16</td>\n",
       "      <td>15000.0</td>\n",
       "      <td>2010-07-01 19:40:30</td>\n",
       "      <td>20.0</td>\n",
       "      <td>failed</td>\n",
       "      <td>1</td>\n",
       "      <td>US</td>\n",
       "      <td>20.0</td>\n",
       "      <td>20.0</td>\n",
       "      <td>15000.00</td>\n",
       "    </tr>\n",
       "    <tr>\n",
       "      <th>378659</th>\n",
       "      <td>999987933</td>\n",
       "      <td>BioDefense Education Kit</td>\n",
       "      <td>Technology</td>\n",
       "      <td>Technology</td>\n",
       "      <td>USD</td>\n",
       "      <td>2016-02-13</td>\n",
       "      <td>15000.0</td>\n",
       "      <td>2016-01-13 18:13:53</td>\n",
       "      <td>200.0</td>\n",
       "      <td>failed</td>\n",
       "      <td>6</td>\n",
       "      <td>US</td>\n",
       "      <td>200.0</td>\n",
       "      <td>200.0</td>\n",
       "      <td>15000.00</td>\n",
       "    </tr>\n",
       "    <tr>\n",
       "      <th>378660</th>\n",
       "      <td>999988282</td>\n",
       "      <td>Nou Renmen Ayiti!  We Love Haiti!</td>\n",
       "      <td>Performance Art</td>\n",
       "      <td>Art</td>\n",
       "      <td>USD</td>\n",
       "      <td>2011-08-16</td>\n",
       "      <td>2000.0</td>\n",
       "      <td>2011-07-19 09:07:47</td>\n",
       "      <td>524.0</td>\n",
       "      <td>failed</td>\n",
       "      <td>17</td>\n",
       "      <td>US</td>\n",
       "      <td>524.0</td>\n",
       "      <td>524.0</td>\n",
       "      <td>2000.00</td>\n",
       "    </tr>\n",
       "  </tbody>\n",
       "</table>\n",
       "<p>378661 rows × 15 columns</p>\n",
       "</div>"
      ],
      "text/plain": [
       "                ID                                               name  \\\n",
       "0       1000002330                    The Songs of Adelaide & Abullah   \n",
       "1       1000003930      Greeting From Earth: ZGAC Arts Capsule For ET   \n",
       "2       1000004038                                     Where is Hank?   \n",
       "3       1000007540  ToshiCapital Rekordz Needs Help to Complete Album   \n",
       "4       1000011046  Community Film Project: The Art of Neighborhoo...   \n",
       "...            ...                                                ...   \n",
       "378656   999976400  ChknTruk Nationwide Charity Drive 2014 (Canceled)   \n",
       "378657   999977640                                          The Tribe   \n",
       "378658   999986353  Walls of Remedy- New lesbian Romantic Comedy f...   \n",
       "378659   999987933                           BioDefense Education Kit   \n",
       "378660   999988282                  Nou Renmen Ayiti!  We Love Haiti!   \n",
       "\n",
       "               category main_category currency    deadline     goal  \\\n",
       "0                Poetry    Publishing      GBP  2015-10-09   1000.0   \n",
       "1        Narrative Film  Film & Video      USD  2017-11-01  30000.0   \n",
       "2        Narrative Film  Film & Video      USD  2013-02-26  45000.0   \n",
       "3                 Music         Music      USD  2012-04-16   5000.0   \n",
       "4          Film & Video  Film & Video      USD  2015-08-29  19500.0   \n",
       "...                 ...           ...      ...         ...      ...   \n",
       "378656      Documentary  Film & Video      USD  2014-10-17  50000.0   \n",
       "378657   Narrative Film  Film & Video      USD  2011-07-19   1500.0   \n",
       "378658   Narrative Film  Film & Video      USD  2010-08-16  15000.0   \n",
       "378659       Technology    Technology      USD  2016-02-13  15000.0   \n",
       "378660  Performance Art           Art      USD  2011-08-16   2000.0   \n",
       "\n",
       "                   launched  pledged     state  backers country  usd pledged  \\\n",
       "0       2015-08-11 12:12:28      0.0    failed        0      GB          0.0   \n",
       "1       2017-09-02 04:43:57   2421.0    failed       15      US        100.0   \n",
       "2       2013-01-12 00:20:50    220.0    failed        3      US        220.0   \n",
       "3       2012-03-17 03:24:11      1.0    failed        1      US          1.0   \n",
       "4       2015-07-04 08:35:03   1283.0  canceled       14      US       1283.0   \n",
       "...                     ...      ...       ...      ...     ...          ...   \n",
       "378656  2014-09-17 02:35:30     25.0  canceled        1      US         25.0   \n",
       "378657  2011-06-22 03:35:14    155.0    failed        5      US        155.0   \n",
       "378658  2010-07-01 19:40:30     20.0    failed        1      US         20.0   \n",
       "378659  2016-01-13 18:13:53    200.0    failed        6      US        200.0   \n",
       "378660  2011-07-19 09:07:47    524.0    failed       17      US        524.0   \n",
       "\n",
       "        usd_pledged_real  usd_goal_real  \n",
       "0                    0.0        1533.95  \n",
       "1                 2421.0       30000.00  \n",
       "2                  220.0       45000.00  \n",
       "3                    1.0        5000.00  \n",
       "4                 1283.0       19500.00  \n",
       "...                  ...            ...  \n",
       "378656              25.0       50000.00  \n",
       "378657             155.0        1500.00  \n",
       "378658              20.0       15000.00  \n",
       "378659             200.0       15000.00  \n",
       "378660             524.0        2000.00  \n",
       "\n",
       "[378661 rows x 15 columns]"
      ]
     },
     "execution_count": 71,
     "metadata": {},
     "output_type": "execute_result"
    }
   ],
   "source": [
    "ks"
   ]
  },
  {
   "cell_type": "code",
   "execution_count": 72,
   "id": "439b9491",
   "metadata": {},
   "outputs": [
    {
     "data": {
      "text/plain": [
       "0          1000.0\n",
       "1         30000.0\n",
       "2         45000.0\n",
       "3          5000.0\n",
       "4         19500.0\n",
       "           ...   \n",
       "378656    50000.0\n",
       "378657     1500.0\n",
       "378658    15000.0\n",
       "378659    15000.0\n",
       "378660     2000.0\n",
       "Name: goal, Length: 378661, dtype: float64"
      ]
     },
     "execution_count": 72,
     "metadata": {},
     "output_type": "execute_result"
    }
   ],
   "source": [
    "ks['goal']"
   ]
  },
  {
   "cell_type": "code",
   "execution_count": 73,
   "id": "de2f2e81",
   "metadata": {},
   "outputs": [],
   "source": [
    "from sklearn.preprocessing import MinMaxScaler"
   ]
  },
  {
   "cell_type": "code",
   "execution_count": 74,
   "id": "ad05fbf1",
   "metadata": {},
   "outputs": [],
   "source": [
    "scaler = MinMaxScaler()"
   ]
  },
  {
   "cell_type": "code",
   "execution_count": 75,
   "id": "3ee0b298",
   "metadata": {},
   "outputs": [
    {
     "data": {
      "text/html": [
       "<div>\n",
       "<style scoped>\n",
       "    .dataframe tbody tr th:only-of-type {\n",
       "        vertical-align: middle;\n",
       "    }\n",
       "\n",
       "    .dataframe tbody tr th {\n",
       "        vertical-align: top;\n",
       "    }\n",
       "\n",
       "    .dataframe thead th {\n",
       "        text-align: right;\n",
       "    }\n",
       "</style>\n",
       "<table border=\"1\" class=\"dataframe\">\n",
       "  <thead>\n",
       "    <tr style=\"text-align: right;\">\n",
       "      <th></th>\n",
       "      <th>goal</th>\n",
       "      <th>usd_goal_real</th>\n",
       "    </tr>\n",
       "  </thead>\n",
       "  <tbody>\n",
       "    <tr>\n",
       "      <th>0</th>\n",
       "      <td>1000.0</td>\n",
       "      <td>1533.95</td>\n",
       "    </tr>\n",
       "    <tr>\n",
       "      <th>1</th>\n",
       "      <td>30000.0</td>\n",
       "      <td>30000.00</td>\n",
       "    </tr>\n",
       "    <tr>\n",
       "      <th>2</th>\n",
       "      <td>45000.0</td>\n",
       "      <td>45000.00</td>\n",
       "    </tr>\n",
       "    <tr>\n",
       "      <th>3</th>\n",
       "      <td>5000.0</td>\n",
       "      <td>5000.00</td>\n",
       "    </tr>\n",
       "    <tr>\n",
       "      <th>4</th>\n",
       "      <td>19500.0</td>\n",
       "      <td>19500.00</td>\n",
       "    </tr>\n",
       "    <tr>\n",
       "      <th>...</th>\n",
       "      <td>...</td>\n",
       "      <td>...</td>\n",
       "    </tr>\n",
       "    <tr>\n",
       "      <th>378656</th>\n",
       "      <td>50000.0</td>\n",
       "      <td>50000.00</td>\n",
       "    </tr>\n",
       "    <tr>\n",
       "      <th>378657</th>\n",
       "      <td>1500.0</td>\n",
       "      <td>1500.00</td>\n",
       "    </tr>\n",
       "    <tr>\n",
       "      <th>378658</th>\n",
       "      <td>15000.0</td>\n",
       "      <td>15000.00</td>\n",
       "    </tr>\n",
       "    <tr>\n",
       "      <th>378659</th>\n",
       "      <td>15000.0</td>\n",
       "      <td>15000.00</td>\n",
       "    </tr>\n",
       "    <tr>\n",
       "      <th>378660</th>\n",
       "      <td>2000.0</td>\n",
       "      <td>2000.00</td>\n",
       "    </tr>\n",
       "  </tbody>\n",
       "</table>\n",
       "<p>378661 rows × 2 columns</p>\n",
       "</div>"
      ],
      "text/plain": [
       "           goal  usd_goal_real\n",
       "0        1000.0        1533.95\n",
       "1       30000.0       30000.00\n",
       "2       45000.0       45000.00\n",
       "3        5000.0        5000.00\n",
       "4       19500.0       19500.00\n",
       "...         ...            ...\n",
       "378656  50000.0       50000.00\n",
       "378657   1500.0        1500.00\n",
       "378658  15000.0       15000.00\n",
       "378659  15000.0       15000.00\n",
       "378660   2000.0        2000.00\n",
       "\n",
       "[378661 rows x 2 columns]"
      ]
     },
     "execution_count": 75,
     "metadata": {},
     "output_type": "execute_result"
    }
   ],
   "source": [
    "ks[['goal', 'usd_goal_real']]"
   ]
  },
  {
   "cell_type": "code",
   "execution_count": 76,
   "id": "342f9fc8",
   "metadata": {},
   "outputs": [],
   "source": [
    "scaled_goals = pd.DataFrame(scaler.fit_transform(ks[['goal', 'usd_goal_real']]),columns = ['scaled_goal', 'scaled_usd_real_goal'])"
   ]
  },
  {
   "cell_type": "code",
   "execution_count": 87,
   "id": "dbd0fc37",
   "metadata": {},
   "outputs": [
    {
     "data": {
      "text/html": [
       "<div>\n",
       "<style scoped>\n",
       "    .dataframe tbody tr th:only-of-type {\n",
       "        vertical-align: middle;\n",
       "    }\n",
       "\n",
       "    .dataframe tbody tr th {\n",
       "        vertical-align: top;\n",
       "    }\n",
       "\n",
       "    .dataframe thead th {\n",
       "        text-align: right;\n",
       "    }\n",
       "</style>\n",
       "<table border=\"1\" class=\"dataframe\">\n",
       "  <thead>\n",
       "    <tr style=\"text-align: right;\">\n",
       "      <th></th>\n",
       "      <th>scaled_goal</th>\n",
       "      <th>scaled_usd_real_goal</th>\n",
       "    </tr>\n",
       "  </thead>\n",
       "  <tbody>\n",
       "    <tr>\n",
       "      <th>0</th>\n",
       "      <td>0.000010</td>\n",
       "      <td>0.000009</td>\n",
       "    </tr>\n",
       "    <tr>\n",
       "      <th>1</th>\n",
       "      <td>0.000300</td>\n",
       "      <td>0.000180</td>\n",
       "    </tr>\n",
       "    <tr>\n",
       "      <th>2</th>\n",
       "      <td>0.000450</td>\n",
       "      <td>0.000270</td>\n",
       "    </tr>\n",
       "    <tr>\n",
       "      <th>3</th>\n",
       "      <td>0.000050</td>\n",
       "      <td>0.000030</td>\n",
       "    </tr>\n",
       "    <tr>\n",
       "      <th>4</th>\n",
       "      <td>0.000195</td>\n",
       "      <td>0.000117</td>\n",
       "    </tr>\n",
       "    <tr>\n",
       "      <th>...</th>\n",
       "      <td>...</td>\n",
       "      <td>...</td>\n",
       "    </tr>\n",
       "    <tr>\n",
       "      <th>378656</th>\n",
       "      <td>0.000500</td>\n",
       "      <td>0.000301</td>\n",
       "    </tr>\n",
       "    <tr>\n",
       "      <th>378657</th>\n",
       "      <td>0.000015</td>\n",
       "      <td>0.000009</td>\n",
       "    </tr>\n",
       "    <tr>\n",
       "      <th>378658</th>\n",
       "      <td>0.000150</td>\n",
       "      <td>0.000090</td>\n",
       "    </tr>\n",
       "    <tr>\n",
       "      <th>378659</th>\n",
       "      <td>0.000150</td>\n",
       "      <td>0.000090</td>\n",
       "    </tr>\n",
       "    <tr>\n",
       "      <th>378660</th>\n",
       "      <td>0.000020</td>\n",
       "      <td>0.000012</td>\n",
       "    </tr>\n",
       "  </tbody>\n",
       "</table>\n",
       "<p>378661 rows × 2 columns</p>\n",
       "</div>"
      ],
      "text/plain": [
       "        scaled_goal  scaled_usd_real_goal\n",
       "0          0.000010              0.000009\n",
       "1          0.000300              0.000180\n",
       "2          0.000450              0.000270\n",
       "3          0.000050              0.000030\n",
       "4          0.000195              0.000117\n",
       "...             ...                   ...\n",
       "378656     0.000500              0.000301\n",
       "378657     0.000015              0.000009\n",
       "378658     0.000150              0.000090\n",
       "378659     0.000150              0.000090\n",
       "378660     0.000020              0.000012\n",
       "\n",
       "[378661 rows x 2 columns]"
      ]
     },
     "execution_count": 87,
     "metadata": {},
     "output_type": "execute_result"
    }
   ],
   "source": [
    "scaled_goals"
   ]
  },
  {
   "cell_type": "code",
   "execution_count": 119,
   "id": "3b6d037f",
   "metadata": {},
   "outputs": [],
   "source": [
    "from scipy import stats"
   ]
  },
  {
   "cell_type": "code",
   "execution_count": 120,
   "id": "a4d82af2",
   "metadata": {},
   "outputs": [],
   "source": [
    "idxs = ks.pledged > 0"
   ]
  },
  {
   "cell_type": "code",
   "execution_count": 121,
   "id": "e1a513eb",
   "metadata": {},
   "outputs": [],
   "source": [
    "p_pledged = ks.pledged.loc[idxs]"
   ]
  },
  {
   "cell_type": "code",
   "execution_count": 128,
   "id": "88669454",
   "metadata": {},
   "outputs": [],
   "source": [
    "norm_pledged = pd.Series(stats.boxcox(p_pledged)[0], index=p_pledged.index, name='normalized pledged')"
   ]
  },
  {
   "cell_type": "code",
   "execution_count": 129,
   "id": "97a33580",
   "metadata": {},
   "outputs": [
    {
     "data": {
      "text/plain": [
       "1         10.013887\n",
       "2          6.403367\n",
       "3          0.000000\n",
       "4          9.005193\n",
       "5         15.499596\n",
       "            ...    \n",
       "378656     3.562025\n",
       "378657     5.919593\n",
       "378658     3.291544\n",
       "378659     6.270664\n",
       "378660     7.648440\n",
       "Name: normalized pledged, Length: 326134, dtype: float64"
      ]
     },
     "execution_count": 129,
     "metadata": {},
     "output_type": "execute_result"
    }
   ],
   "source": [
    "norm_pledged"
   ]
  },
  {
   "cell_type": "code",
   "execution_count": 130,
   "id": "714b3f57",
   "metadata": {},
   "outputs": [
    {
     "data": {
      "text/plain": [
       "1          2421.0\n",
       "2           220.0\n",
       "3             1.0\n",
       "4          1283.0\n",
       "5         52375.0\n",
       "           ...   \n",
       "378656       25.0\n",
       "378657      155.0\n",
       "378658       20.0\n",
       "378659      200.0\n",
       "378660      524.0\n",
       "Name: pledged, Length: 326134, dtype: float64"
      ]
     },
     "execution_count": 130,
     "metadata": {},
     "output_type": "execute_result"
    }
   ],
   "source": [
    "p_pledged"
   ]
  },
  {
   "cell_type": "code",
   "execution_count": 131,
   "id": "e4c203bc",
   "metadata": {},
   "outputs": [
    {
     "data": {
      "image/png": "[encoded data removed]",
      "text/plain": [
       "<Figure size 432x288 with 1 Axes>"
      ]
     },
     "metadata": {
      "needs_background": "light"
     },
     "output_type": "display_data"
    }
   ],
   "source": [
    "sns.histplot(norm_pledged);"
   ]
  },
  {
   "cell_type": "code",
   "execution_count": null,
   "id": "7587ef58",
   "metadata": {},
   "outputs": [],
   "source": []
  }
 ],
 "metadata": {
  "kernelspec": {
   "display_name": "Python 3 (ipykernel)",
   "language": "python",
   "name": "python3"
  },
  "language_info": {
   "codemirror_mode": {
    "name": "ipython",
    "version": 3
   },
   "file_extension": ".py",
   "mimetype": "text/x-python",
   "name": "python",
   "nbconvert_exporter": "python",
   "pygments_lexer": "ipython3",
   "version": "3.10.5"
  }
 },
 "nbformat": 4,
 "nbformat_minor": 5
}
