{
 "cells": [
  {
   "cell_type": "code",
   "execution_count": 165,
   "id": "6e946f9f",
   "metadata": {},
   "outputs": [],
   "source": [
    "import pandas as pd\n",
    "import numpy as np"
   ]
  },
  {
   "cell_type": "code",
   "execution_count": 166,
   "id": "dc8f09a6",
   "metadata": {},
   "outputs": [],
   "source": [
    "import warnings\n",
    "warnings.filterwarnings('ignore')"
   ]
  },
  {
   "cell_type": "markdown",
   "id": "7c59446e",
   "metadata": {},
   "source": [
    "[Data cleaning guide](https://towardsdatascience.com/the-ultimate-guide-to-data-cleaning-3969843991d4)"
   ]
  },
  {
   "cell_type": "markdown",
   "id": "103424f3",
   "metadata": {},
   "source": [
    "[Data cleaning techniques](https://monkeylearn.com/blog/data-cleaning-techniques/)"
   ]
  },
  {
   "cell_type": "code",
   "execution_count": 167,
   "id": "17a3cb56",
   "metadata": {},
   "outputs": [],
   "source": [
    "b = pd.read_csv('Datasets/Building.csv', low_memory=False)"
   ]
  },
  {
   "cell_type": "code",
   "execution_count": 168,
   "id": "5ef14d38",
   "metadata": {},
   "outputs": [
    {
     "data": {
      "text/plain": [
       "(198900, 43)"
      ]
     },
     "execution_count": 168,
     "metadata": {},
     "output_type": "execute_result"
    }
   ],
   "source": [
    "b.shape"
   ]
  },
  {
   "cell_type": "code",
   "execution_count": 169,
   "id": "0a4a224b",
   "metadata": {},
   "outputs": [
    {
     "data": {
      "text/plain": [
       "Permit Number                                  0\n",
       "Permit Type                                    0\n",
       "Permit Type Definition                         0\n",
       "Permit Creation Date                           0\n",
       "Block                                          0\n",
       "Lot                                            0\n",
       "Street Number                                  0\n",
       "Street Number Suffix                      196684\n",
       "Street Name                                    0\n",
       "Street Suffix                               2768\n",
       "Unit                                      169421\n",
       "Unit Suffix                               196939\n",
       "Description                                  290\n",
       "Current Status                                 0\n",
       "Current Status Date                            0\n",
       "Filed Date                                     0\n",
       "Issued Date                                14940\n",
       "Completed Date                            101709\n",
       "First Construction Document Date           14946\n",
       "Structural Notification                   191978\n",
       "Number of Existing Stories                 42784\n",
       "Number of Proposed Stories                 42868\n",
       "Voluntary Soft-Story Retrofit             198865\n",
       "Fire Only Permit                          180073\n",
       "Permit Expiration Date                     51880\n",
       "Estimated Cost                             38066\n",
       "Revised Cost                                6066\n",
       "Existing Use                               41114\n",
       "Existing Units                             51538\n",
       "Proposed Use                               42439\n",
       "Proposed Units                             50911\n",
       "Plansets                                   37309\n",
       "TIDF Compliance                           198898\n",
       "Existing Construction Type                 43366\n",
       "Existing Construction Type Description     43366\n",
       "Proposed Construction Type                 43162\n",
       "Proposed Construction Type Description     43162\n",
       "Site Permit                               193541\n",
       "Supervisor District                         1717\n",
       "Neighborhoods - Analysis Boundaries         1725\n",
       "Zipcode                                     1716\n",
       "Location                                    1700\n",
       "Record ID                                      0\n",
       "dtype: int64"
      ]
     },
     "execution_count": 169,
     "metadata": {},
     "output_type": "execute_result"
    }
   ],
   "source": [
    "b.isna().sum()"
   ]
  },
  {
   "cell_type": "code",
   "execution_count": 170,
   "id": "ce5c768a",
   "metadata": {},
   "outputs": [
    {
     "data": {
      "text/plain": [
       "0          NaN\n",
       "1          NaN\n",
       "2         39.0\n",
       "3          1.0\n",
       "4          NaN\n",
       "          ... \n",
       "198895     NaN\n",
       "198896     4.0\n",
       "198897     NaN\n",
       "198898     NaN\n",
       "198899     NaN\n",
       "Name: Proposed Units, Length: 198900, dtype: float64"
      ]
     },
     "execution_count": 170,
     "metadata": {},
     "output_type": "execute_result"
    }
   ],
   "source": [
    "b['Proposed Units']"
   ]
  },
  {
   "cell_type": "code",
   "execution_count": 171,
   "id": "7c16591f",
   "metadata": {},
   "outputs": [
    {
     "data": {
      "text/plain": [
       "Index(['Permit Number', 'Permit Type', 'Permit Type Definition',\n",
       "       'Permit Creation Date', 'Block', 'Lot', 'Street Number',\n",
       "       'Street Number Suffix', 'Street Name', 'Street Suffix', 'Unit',\n",
       "       'Unit Suffix', 'Description', 'Current Status', 'Current Status Date',\n",
       "       'Filed Date', 'Issued Date', 'Completed Date',\n",
       "       'First Construction Document Date', 'Structural Notification',\n",
       "       'Number of Existing Stories', 'Number of Proposed Stories',\n",
       "       'Voluntary Soft-Story Retrofit', 'Fire Only Permit',\n",
       "       'Permit Expiration Date', 'Estimated Cost', 'Revised Cost',\n",
       "       'Existing Use', 'Existing Units', 'Proposed Use', 'Proposed Units',\n",
       "       'Plansets', 'TIDF Compliance', 'Existing Construction Type',\n",
       "       'Existing Construction Type Description', 'Proposed Construction Type',\n",
       "       'Proposed Construction Type Description', 'Site Permit',\n",
       "       'Supervisor District', 'Neighborhoods - Analysis Boundaries', 'Zipcode',\n",
       "       'Location', 'Record ID'],\n",
       "      dtype='object')"
      ]
     },
     "execution_count": 171,
     "metadata": {},
     "output_type": "execute_result"
    }
   ],
   "source": [
    "b.columns"
   ]
  },
  {
   "cell_type": "code",
   "execution_count": 172,
   "id": "e9d64bdc",
   "metadata": {},
   "outputs": [],
   "source": [
    "m_cols = [col for col in b.columns if b[col].isna().sum() > 100000]"
   ]
  },
  {
   "cell_type": "code",
   "execution_count": 173,
   "id": "7086d377",
   "metadata": {},
   "outputs": [
    {
     "data": {
      "text/plain": [
       "['Street Number Suffix',\n",
       " 'Unit',\n",
       " 'Unit Suffix',\n",
       " 'Completed Date',\n",
       " 'Structural Notification',\n",
       " 'Voluntary Soft-Story Retrofit',\n",
       " 'Fire Only Permit',\n",
       " 'TIDF Compliance',\n",
       " 'Site Permit']"
      ]
     },
     "execution_count": 173,
     "metadata": {},
     "output_type": "execute_result"
    }
   ],
   "source": [
    "m_cols"
   ]
  },
  {
   "cell_type": "code",
   "execution_count": 174,
   "id": "3bb33f5f",
   "metadata": {},
   "outputs": [],
   "source": [
    "b.drop(m_cols, axis=1, inplace=True)"
   ]
  },
  {
   "cell_type": "code",
   "execution_count": 175,
   "id": "ce367114",
   "metadata": {},
   "outputs": [
    {
     "data": {
      "text/plain": [
       "Permit Number                                 0\n",
       "Permit Type                                   0\n",
       "Permit Type Definition                        0\n",
       "Permit Creation Date                          0\n",
       "Block                                         0\n",
       "Lot                                           0\n",
       "Street Number                                 0\n",
       "Street Name                                   0\n",
       "Street Suffix                              2768\n",
       "Description                                 290\n",
       "Current Status                                0\n",
       "Current Status Date                           0\n",
       "Filed Date                                    0\n",
       "Issued Date                               14940\n",
       "First Construction Document Date          14946\n",
       "Number of Existing Stories                42784\n",
       "Number of Proposed Stories                42868\n",
       "Permit Expiration Date                    51880\n",
       "Estimated Cost                            38066\n",
       "Revised Cost                               6066\n",
       "Existing Use                              41114\n",
       "Existing Units                            51538\n",
       "Proposed Use                              42439\n",
       "Proposed Units                            50911\n",
       "Plansets                                  37309\n",
       "Existing Construction Type                43366\n",
       "Existing Construction Type Description    43366\n",
       "Proposed Construction Type                43162\n",
       "Proposed Construction Type Description    43162\n",
       "Supervisor District                        1717\n",
       "Neighborhoods - Analysis Boundaries        1725\n",
       "Zipcode                                    1716\n",
       "Location                                   1700\n",
       "Record ID                                     0\n",
       "dtype: int64"
      ]
     },
     "execution_count": 175,
     "metadata": {},
     "output_type": "execute_result"
    }
   ],
   "source": [
    "b.isna().sum()"
   ]
  },
  {
   "cell_type": "code",
   "execution_count": 176,
   "id": "25368da5",
   "metadata": {},
   "outputs": [
    {
     "data": {
      "text/plain": [
       "0         ground fl facade: to erect illuminated, electr...\n",
       "1                   remove (e) awning and associated signs.\n",
       "2                           installation of separating wall\n",
       "3                  repair dryrot & stucco at front of bldg.\n",
       "4         demolish retail/office/commercial 3-story buil...\n",
       "                                ...                        \n",
       "198895                                         street space\n",
       "198896                  fire alarm upgrade ref 201704123852\n",
       "198897                                         street space\n",
       "198898                                  street space permit\n",
       "198899                                  street space permit\n",
       "Name: Description, Length: 198900, dtype: object"
      ]
     },
     "execution_count": 176,
     "metadata": {},
     "output_type": "execute_result"
    }
   ],
   "source": [
    "b.Description"
   ]
  },
  {
   "cell_type": "code",
   "execution_count": 177,
   "id": "4f2bee63",
   "metadata": {},
   "outputs": [],
   "source": [
    "b.Description.fillna('No description available', inplace=True)"
   ]
  },
  {
   "cell_type": "code",
   "execution_count": 178,
   "id": "7c043793",
   "metadata": {},
   "outputs": [
    {
     "data": {
      "text/plain": [
       "Permit Number                                 0\n",
       "Permit Type                                   0\n",
       "Permit Type Definition                        0\n",
       "Permit Creation Date                          0\n",
       "Block                                         0\n",
       "Lot                                           0\n",
       "Street Number                                 0\n",
       "Street Name                                   0\n",
       "Street Suffix                              2768\n",
       "Description                                   0\n",
       "Current Status                                0\n",
       "Current Status Date                           0\n",
       "Filed Date                                    0\n",
       "Issued Date                               14940\n",
       "First Construction Document Date          14946\n",
       "Number of Existing Stories                42784\n",
       "Number of Proposed Stories                42868\n",
       "Permit Expiration Date                    51880\n",
       "Estimated Cost                            38066\n",
       "Revised Cost                               6066\n",
       "Existing Use                              41114\n",
       "Existing Units                            51538\n",
       "Proposed Use                              42439\n",
       "Proposed Units                            50911\n",
       "Plansets                                  37309\n",
       "Existing Construction Type                43366\n",
       "Existing Construction Type Description    43366\n",
       "Proposed Construction Type                43162\n",
       "Proposed Construction Type Description    43162\n",
       "Supervisor District                        1717\n",
       "Neighborhoods - Analysis Boundaries        1725\n",
       "Zipcode                                    1716\n",
       "Location                                   1700\n",
       "Record ID                                     0\n",
       "dtype: int64"
      ]
     },
     "execution_count": 178,
     "metadata": {},
     "output_type": "execute_result"
    }
   ],
   "source": [
    "b.isna().sum()"
   ]
  },
  {
   "cell_type": "code",
   "execution_count": 179,
   "id": "0d780913",
   "metadata": {},
   "outputs": [],
   "source": [
    "b_sample = b"
   ]
  },
  {
   "cell_type": "code",
   "execution_count": 180,
   "id": "cea35dcd",
   "metadata": {},
   "outputs": [
    {
     "data": {
      "text/plain": [
       "(198900, 34)"
      ]
     },
     "execution_count": 180,
     "metadata": {},
     "output_type": "execute_result"
    }
   ],
   "source": [
    "b_sample.shape"
   ]
  },
  {
   "cell_type": "code",
   "execution_count": 181,
   "id": "c7323285",
   "metadata": {},
   "outputs": [
    {
     "data": {
      "text/html": [
       "<div>\n",
       "<style scoped>\n",
       "    .dataframe tbody tr th:only-of-type {\n",
       "        vertical-align: middle;\n",
       "    }\n",
       "\n",
       "    .dataframe tbody tr th {\n",
       "        vertical-align: top;\n",
       "    }\n",
       "\n",
       "    .dataframe thead th {\n",
       "        text-align: right;\n",
       "    }\n",
       "</style>\n",
       "<table border=\"1\" class=\"dataframe\">\n",
       "  <thead>\n",
       "    <tr style=\"text-align: right;\">\n",
       "      <th></th>\n",
       "      <th>Permit Number</th>\n",
       "      <th>Permit Type</th>\n",
       "      <th>Permit Type Definition</th>\n",
       "      <th>Permit Creation Date</th>\n",
       "      <th>Block</th>\n",
       "      <th>Lot</th>\n",
       "      <th>Street Number</th>\n",
       "      <th>Street Name</th>\n",
       "      <th>Street Suffix</th>\n",
       "      <th>Description</th>\n",
       "      <th>...</th>\n",
       "      <th>Plansets</th>\n",
       "      <th>Existing Construction Type</th>\n",
       "      <th>Existing Construction Type Description</th>\n",
       "      <th>Proposed Construction Type</th>\n",
       "      <th>Proposed Construction Type Description</th>\n",
       "      <th>Supervisor District</th>\n",
       "      <th>Neighborhoods - Analysis Boundaries</th>\n",
       "      <th>Zipcode</th>\n",
       "      <th>Location</th>\n",
       "      <th>Record ID</th>\n",
       "    </tr>\n",
       "  </thead>\n",
       "  <tbody>\n",
       "    <tr>\n",
       "      <th>0</th>\n",
       "      <td>201505065519</td>\n",
       "      <td>4</td>\n",
       "      <td>sign - erect</td>\n",
       "      <td>05/06/2015</td>\n",
       "      <td>0326</td>\n",
       "      <td>023</td>\n",
       "      <td>140</td>\n",
       "      <td>Ellis</td>\n",
       "      <td>St</td>\n",
       "      <td>ground fl facade: to erect illuminated, electr...</td>\n",
       "      <td>...</td>\n",
       "      <td>2.0</td>\n",
       "      <td>3.0</td>\n",
       "      <td>constr type 3</td>\n",
       "      <td>NaN</td>\n",
       "      <td>NaN</td>\n",
       "      <td>3.0</td>\n",
       "      <td>Tenderloin</td>\n",
       "      <td>94102.0</td>\n",
       "      <td>(37.785719256680785, -122.40852313194863)</td>\n",
       "      <td>1380611233945</td>\n",
       "    </tr>\n",
       "    <tr>\n",
       "      <th>1</th>\n",
       "      <td>201604195146</td>\n",
       "      <td>4</td>\n",
       "      <td>sign - erect</td>\n",
       "      <td>04/19/2016</td>\n",
       "      <td>0306</td>\n",
       "      <td>007</td>\n",
       "      <td>440</td>\n",
       "      <td>Geary</td>\n",
       "      <td>St</td>\n",
       "      <td>remove (e) awning and associated signs.</td>\n",
       "      <td>...</td>\n",
       "      <td>2.0</td>\n",
       "      <td>3.0</td>\n",
       "      <td>constr type 3</td>\n",
       "      <td>NaN</td>\n",
       "      <td>NaN</td>\n",
       "      <td>3.0</td>\n",
       "      <td>Tenderloin</td>\n",
       "      <td>94102.0</td>\n",
       "      <td>(37.78733980600732, -122.41063199757738)</td>\n",
       "      <td>1420164406718</td>\n",
       "    </tr>\n",
       "    <tr>\n",
       "      <th>2</th>\n",
       "      <td>201605278609</td>\n",
       "      <td>3</td>\n",
       "      <td>additions alterations or repairs</td>\n",
       "      <td>05/27/2016</td>\n",
       "      <td>0595</td>\n",
       "      <td>203</td>\n",
       "      <td>1647</td>\n",
       "      <td>Pacific</td>\n",
       "      <td>Av</td>\n",
       "      <td>installation of separating wall</td>\n",
       "      <td>...</td>\n",
       "      <td>2.0</td>\n",
       "      <td>1.0</td>\n",
       "      <td>constr type 1</td>\n",
       "      <td>1.0</td>\n",
       "      <td>constr type 1</td>\n",
       "      <td>3.0</td>\n",
       "      <td>Russian Hill</td>\n",
       "      <td>94109.0</td>\n",
       "      <td>(37.7946573324287, -122.42232562979227)</td>\n",
       "      <td>1424856504716</td>\n",
       "    </tr>\n",
       "    <tr>\n",
       "      <th>3</th>\n",
       "      <td>201611072166</td>\n",
       "      <td>8</td>\n",
       "      <td>otc alterations permit</td>\n",
       "      <td>11/07/2016</td>\n",
       "      <td>0156</td>\n",
       "      <td>011</td>\n",
       "      <td>1230</td>\n",
       "      <td>Pacific</td>\n",
       "      <td>Av</td>\n",
       "      <td>repair dryrot &amp; stucco at front of bldg.</td>\n",
       "      <td>...</td>\n",
       "      <td>2.0</td>\n",
       "      <td>5.0</td>\n",
       "      <td>wood frame (5)</td>\n",
       "      <td>5.0</td>\n",
       "      <td>wood frame (5)</td>\n",
       "      <td>3.0</td>\n",
       "      <td>Nob Hill</td>\n",
       "      <td>94109.0</td>\n",
       "      <td>(37.79595867909168, -122.41557405519474)</td>\n",
       "      <td>1443574295566</td>\n",
       "    </tr>\n",
       "    <tr>\n",
       "      <th>4</th>\n",
       "      <td>201611283529</td>\n",
       "      <td>6</td>\n",
       "      <td>demolitions</td>\n",
       "      <td>11/28/2016</td>\n",
       "      <td>0342</td>\n",
       "      <td>001</td>\n",
       "      <td>950</td>\n",
       "      <td>Market</td>\n",
       "      <td>St</td>\n",
       "      <td>demolish retail/office/commercial 3-story buil...</td>\n",
       "      <td>...</td>\n",
       "      <td>2.0</td>\n",
       "      <td>3.0</td>\n",
       "      <td>constr type 3</td>\n",
       "      <td>NaN</td>\n",
       "      <td>NaN</td>\n",
       "      <td>6.0</td>\n",
       "      <td>Tenderloin</td>\n",
       "      <td>94102.0</td>\n",
       "      <td>(37.78315261897309, -122.40950883997789)</td>\n",
       "      <td>144548169992</td>\n",
       "    </tr>\n",
       "  </tbody>\n",
       "</table>\n",
       "<p>5 rows × 34 columns</p>\n",
       "</div>"
      ],
      "text/plain": [
       "  Permit Number  Permit Type            Permit Type Definition  \\\n",
       "0  201505065519            4                      sign - erect   \n",
       "1  201604195146            4                      sign - erect   \n",
       "2  201605278609            3  additions alterations or repairs   \n",
       "3  201611072166            8            otc alterations permit   \n",
       "4  201611283529            6                       demolitions   \n",
       "\n",
       "  Permit Creation Date Block  Lot  Street Number Street Name Street Suffix  \\\n",
       "0           05/06/2015  0326  023            140       Ellis            St   \n",
       "1           04/19/2016  0306  007            440       Geary            St   \n",
       "2           05/27/2016  0595  203           1647     Pacific            Av   \n",
       "3           11/07/2016  0156  011           1230     Pacific            Av   \n",
       "4           11/28/2016  0342  001            950      Market            St   \n",
       "\n",
       "                                         Description  ... Plansets  \\\n",
       "0  ground fl facade: to erect illuminated, electr...  ...      2.0   \n",
       "1            remove (e) awning and associated signs.  ...      2.0   \n",
       "2                    installation of separating wall  ...      2.0   \n",
       "3           repair dryrot & stucco at front of bldg.  ...      2.0   \n",
       "4  demolish retail/office/commercial 3-story buil...  ...      2.0   \n",
       "\n",
       "  Existing Construction Type Existing Construction Type Description  \\\n",
       "0                        3.0                          constr type 3   \n",
       "1                        3.0                          constr type 3   \n",
       "2                        1.0                          constr type 1   \n",
       "3                        5.0                         wood frame (5)   \n",
       "4                        3.0                          constr type 3   \n",
       "\n",
       "  Proposed Construction Type Proposed Construction Type Description  \\\n",
       "0                        NaN                                    NaN   \n",
       "1                        NaN                                    NaN   \n",
       "2                        1.0                          constr type 1   \n",
       "3                        5.0                         wood frame (5)   \n",
       "4                        NaN                                    NaN   \n",
       "\n",
       "   Supervisor District  Neighborhoods - Analysis Boundaries  Zipcode  \\\n",
       "0                  3.0                           Tenderloin  94102.0   \n",
       "1                  3.0                           Tenderloin  94102.0   \n",
       "2                  3.0                         Russian Hill  94109.0   \n",
       "3                  3.0                             Nob Hill  94109.0   \n",
       "4                  6.0                           Tenderloin  94102.0   \n",
       "\n",
       "                                    Location      Record ID  \n",
       "0  (37.785719256680785, -122.40852313194863)  1380611233945  \n",
       "1   (37.78733980600732, -122.41063199757738)  1420164406718  \n",
       "2    (37.7946573324287, -122.42232562979227)  1424856504716  \n",
       "3   (37.79595867909168, -122.41557405519474)  1443574295566  \n",
       "4   (37.78315261897309, -122.40950883997789)   144548169992  \n",
       "\n",
       "[5 rows x 34 columns]"
      ]
     },
     "execution_count": 181,
     "metadata": {},
     "output_type": "execute_result"
    }
   ],
   "source": [
    "b_sample.head()"
   ]
  },
  {
   "cell_type": "code",
   "execution_count": 182,
   "id": "eb150db1",
   "metadata": {},
   "outputs": [
    {
     "data": {
      "text/plain": [
       "array(['St', 'Av', 'Tr', 'Ct', 'Bl', 'Wy', 'Dr', nan, 'Rd', 'Cr', 'Pl',\n",
       "       'Ln', 'Hy', 'Pk', 'Al', 'Pz', 'Wk', 'Rw', 'So', 'Sw', 'No', 'Hl'],\n",
       "      dtype=object)"
      ]
     },
     "execution_count": 182,
     "metadata": {},
     "output_type": "execute_result"
    }
   ],
   "source": [
    "b['Street Suffix'].unique()"
   ]
  },
  {
   "cell_type": "code",
   "execution_count": 183,
   "id": "f6a5a201",
   "metadata": {},
   "outputs": [
    {
     "data": {
      "text/plain": [
       "2768"
      ]
     },
     "execution_count": 183,
     "metadata": {},
     "output_type": "execute_result"
    }
   ],
   "source": [
    "b['Street Suffix'].isna().sum()"
   ]
  },
  {
   "cell_type": "code",
   "execution_count": 184,
   "id": "31c9f528",
   "metadata": {},
   "outputs": [],
   "source": [
    "b_sample = b_sample[b_sample['Street Suffix'].notna()]"
   ]
  },
  {
   "cell_type": "code",
   "execution_count": 185,
   "id": "8fb94ba7",
   "metadata": {},
   "outputs": [
    {
     "data": {
      "text/plain": [
       "(196132, 34)"
      ]
     },
     "execution_count": 185,
     "metadata": {},
     "output_type": "execute_result"
    }
   ],
   "source": [
    "b_sample.shape"
   ]
  },
  {
   "cell_type": "code",
   "execution_count": 186,
   "id": "e54b11fc",
   "metadata": {},
   "outputs": [
    {
     "data": {
      "text/plain": [
       "Permit Number                                 0\n",
       "Permit Type                                   0\n",
       "Permit Type Definition                        0\n",
       "Permit Creation Date                          0\n",
       "Block                                         0\n",
       "Lot                                           0\n",
       "Street Number                                 0\n",
       "Street Name                                   0\n",
       "Street Suffix                                 0\n",
       "Description                                   0\n",
       "Current Status                                0\n",
       "Current Status Date                           0\n",
       "Filed Date                                    0\n",
       "Issued Date                               14764\n",
       "First Construction Document Date          14771\n",
       "Number of Existing Stories                42234\n",
       "Number of Proposed Stories                42310\n",
       "Permit Expiration Date                    51227\n",
       "Estimated Cost                            37573\n",
       "Revised Cost                               6009\n",
       "Existing Use                              40592\n",
       "Existing Units                            50725\n",
       "Proposed Use                              41888\n",
       "Proposed Units                            50097\n",
       "Plansets                                  36823\n",
       "Existing Construction Type                42810\n",
       "Existing Construction Type Description    42810\n",
       "Proposed Construction Type                42599\n",
       "Proposed Construction Type Description    42599\n",
       "Supervisor District                        1674\n",
       "Neighborhoods - Analysis Boundaries        1682\n",
       "Zipcode                                    1673\n",
       "Location                                   1657\n",
       "Record ID                                     0\n",
       "dtype: int64"
      ]
     },
     "execution_count": 186,
     "metadata": {},
     "output_type": "execute_result"
    }
   ],
   "source": [
    "b_sample.isna().sum()"
   ]
  },
  {
   "cell_type": "code",
   "execution_count": 187,
   "id": "7a7a16fa",
   "metadata": {},
   "outputs": [
    {
     "data": {
      "text/plain": [
       "0         94102.0\n",
       "1         94102.0\n",
       "2         94109.0\n",
       "3         94109.0\n",
       "4         94102.0\n",
       "           ...   \n",
       "198895        NaN\n",
       "198896        NaN\n",
       "198897        NaN\n",
       "198898        NaN\n",
       "198899        NaN\n",
       "Name: Zipcode, Length: 196132, dtype: float64"
      ]
     },
     "execution_count": 187,
     "metadata": {},
     "output_type": "execute_result"
    }
   ],
   "source": [
    "b_sample.Zipcode"
   ]
  },
  {
   "cell_type": "code",
   "execution_count": 188,
   "id": "bcf87a1b",
   "metadata": {},
   "outputs": [
    {
     "data": {
      "text/html": [
       "<div>\n",
       "<style scoped>\n",
       "    .dataframe tbody tr th:only-of-type {\n",
       "        vertical-align: middle;\n",
       "    }\n",
       "\n",
       "    .dataframe tbody tr th {\n",
       "        vertical-align: top;\n",
       "    }\n",
       "\n",
       "    .dataframe thead th {\n",
       "        text-align: right;\n",
       "    }\n",
       "</style>\n",
       "<table border=\"1\" class=\"dataframe\">\n",
       "  <thead>\n",
       "    <tr style=\"text-align: right;\">\n",
       "      <th></th>\n",
       "      <th>Estimated Cost</th>\n",
       "      <th>Revised Cost</th>\n",
       "    </tr>\n",
       "  </thead>\n",
       "  <tbody>\n",
       "    <tr>\n",
       "      <th>0</th>\n",
       "      <td>4000.0</td>\n",
       "      <td>4000.0</td>\n",
       "    </tr>\n",
       "    <tr>\n",
       "      <th>1</th>\n",
       "      <td>1.0</td>\n",
       "      <td>500.0</td>\n",
       "    </tr>\n",
       "    <tr>\n",
       "      <th>2</th>\n",
       "      <td>20000.0</td>\n",
       "      <td>NaN</td>\n",
       "    </tr>\n",
       "    <tr>\n",
       "      <th>3</th>\n",
       "      <td>2000.0</td>\n",
       "      <td>2000.0</td>\n",
       "    </tr>\n",
       "    <tr>\n",
       "      <th>4</th>\n",
       "      <td>100000.0</td>\n",
       "      <td>100000.0</td>\n",
       "    </tr>\n",
       "    <tr>\n",
       "      <th>...</th>\n",
       "      <td>...</td>\n",
       "      <td>...</td>\n",
       "    </tr>\n",
       "    <tr>\n",
       "      <th>198895</th>\n",
       "      <td>NaN</td>\n",
       "      <td>1.0</td>\n",
       "    </tr>\n",
       "    <tr>\n",
       "      <th>198896</th>\n",
       "      <td>5000.0</td>\n",
       "      <td>5000.0</td>\n",
       "    </tr>\n",
       "    <tr>\n",
       "      <th>198897</th>\n",
       "      <td>NaN</td>\n",
       "      <td>1.0</td>\n",
       "    </tr>\n",
       "    <tr>\n",
       "      <th>198898</th>\n",
       "      <td>NaN</td>\n",
       "      <td>1.0</td>\n",
       "    </tr>\n",
       "    <tr>\n",
       "      <th>198899</th>\n",
       "      <td>NaN</td>\n",
       "      <td>1.0</td>\n",
       "    </tr>\n",
       "  </tbody>\n",
       "</table>\n",
       "<p>196132 rows × 2 columns</p>\n",
       "</div>"
      ],
      "text/plain": [
       "        Estimated Cost  Revised Cost\n",
       "0               4000.0        4000.0\n",
       "1                  1.0         500.0\n",
       "2              20000.0           NaN\n",
       "3               2000.0        2000.0\n",
       "4             100000.0      100000.0\n",
       "...                ...           ...\n",
       "198895             NaN           1.0\n",
       "198896          5000.0        5000.0\n",
       "198897             NaN           1.0\n",
       "198898             NaN           1.0\n",
       "198899             NaN           1.0\n",
       "\n",
       "[196132 rows x 2 columns]"
      ]
     },
     "execution_count": 188,
     "metadata": {},
     "output_type": "execute_result"
    }
   ],
   "source": [
    "b_sample[['Estimated Cost', 'Revised Cost']]"
   ]
  },
  {
   "cell_type": "code",
   "execution_count": 189,
   "id": "4bf3c188",
   "metadata": {},
   "outputs": [
    {
     "data": {
      "text/plain": [
       "8         NaN\n",
       "10        NaN\n",
       "11        NaN\n",
       "12        NaN\n",
       "14        NaN\n",
       "         ... \n",
       "198891    1.0\n",
       "198895    NaN\n",
       "198897    NaN\n",
       "198898    NaN\n",
       "198899    NaN\n",
       "Name: Estimated Cost, Length: 46573, dtype: float64"
      ]
     },
     "execution_count": 189,
     "metadata": {},
     "output_type": "execute_result"
    }
   ],
   "source": [
    "b_sample.loc[(b_sample['Revised Cost'] == 1)]['Estimated Cost']"
   ]
  },
  {
   "cell_type": "code",
   "execution_count": 190,
   "id": "3f3d8124",
   "metadata": {},
   "outputs": [
    {
     "data": {
      "text/plain": [
       "31733"
      ]
     },
     "execution_count": 190,
     "metadata": {},
     "output_type": "execute_result"
    }
   ],
   "source": [
    "b_sample.loc[(b_sample['Revised Cost'] == 1)]['Estimated Cost'].isna().sum()"
   ]
  },
  {
   "cell_type": "code",
   "execution_count": 191,
   "id": "a8340b33",
   "metadata": {},
   "outputs": [],
   "source": [
    "b_sample['Estimated Cost'] = b_sample['Estimated Cost'].fillna(b_sample['Estimated Cost'].median());"
   ]
  },
  {
   "cell_type": "code",
   "execution_count": 192,
   "id": "38d44ddb",
   "metadata": {},
   "outputs": [
    {
     "data": {
      "text/plain": [
       "Permit Number                                 0\n",
       "Permit Type                                   0\n",
       "Permit Type Definition                        0\n",
       "Permit Creation Date                          0\n",
       "Block                                         0\n",
       "Lot                                           0\n",
       "Street Number                                 0\n",
       "Street Name                                   0\n",
       "Street Suffix                                 0\n",
       "Description                                   0\n",
       "Current Status                                0\n",
       "Current Status Date                           0\n",
       "Filed Date                                    0\n",
       "Issued Date                               14764\n",
       "First Construction Document Date          14771\n",
       "Number of Existing Stories                42234\n",
       "Number of Proposed Stories                42310\n",
       "Permit Expiration Date                    51227\n",
       "Estimated Cost                                0\n",
       "Revised Cost                               6009\n",
       "Existing Use                              40592\n",
       "Existing Units                            50725\n",
       "Proposed Use                              41888\n",
       "Proposed Units                            50097\n",
       "Plansets                                  36823\n",
       "Existing Construction Type                42810\n",
       "Existing Construction Type Description    42810\n",
       "Proposed Construction Type                42599\n",
       "Proposed Construction Type Description    42599\n",
       "Supervisor District                        1674\n",
       "Neighborhoods - Analysis Boundaries        1682\n",
       "Zipcode                                    1673\n",
       "Location                                   1657\n",
       "Record ID                                     0\n",
       "dtype: int64"
      ]
     },
     "execution_count": 192,
     "metadata": {},
     "output_type": "execute_result"
    }
   ],
   "source": [
    "b_sample.isna().sum()"
   ]
  },
  {
   "cell_type": "code",
   "execution_count": 193,
   "id": "4368b0c6",
   "metadata": {},
   "outputs": [
    {
     "data": {
      "text/plain": [
       "(196132, 34)"
      ]
     },
     "execution_count": 193,
     "metadata": {},
     "output_type": "execute_result"
    }
   ],
   "source": [
    "b_sample.shape"
   ]
  },
  {
   "cell_type": "code",
   "execution_count": 194,
   "id": "f64509c0",
   "metadata": {},
   "outputs": [
    {
     "data": {
      "text/plain": [
       "0         2.0\n",
       "1         2.0\n",
       "2         2.0\n",
       "3         2.0\n",
       "4         2.0\n",
       "         ... \n",
       "198895    NaN\n",
       "198896    2.0\n",
       "198897    NaN\n",
       "198898    NaN\n",
       "198899    NaN\n",
       "Name: Plansets, Length: 196132, dtype: float64"
      ]
     },
     "execution_count": 194,
     "metadata": {},
     "output_type": "execute_result"
    }
   ],
   "source": [
    "b_sample['Plansets']"
   ]
  },
  {
   "cell_type": "code",
   "execution_count": 263,
   "id": "482de17e",
   "metadata": {},
   "outputs": [],
   "source": [
    "b_sample = b_sample[b_sample['Revised Cost'].notna()]"
   ]
  },
  {
   "cell_type": "code",
   "execution_count": 264,
   "id": "bafa9a00",
   "metadata": {},
   "outputs": [
    {
     "data": {
      "text/plain": [
       "0         11/09/2015\n",
       "1         08/03/2017\n",
       "3         07/18/2017\n",
       "4         12/01/2017\n",
       "5         07/06/2017\n",
       "             ...    \n",
       "198879    02/23/2018\n",
       "198880    02/23/2018\n",
       "198881    02/23/2018\n",
       "198882    02/23/2018\n",
       "198883    02/23/2018\n",
       "Name: Issued Date, Length: 179706, dtype: object"
      ]
     },
     "execution_count": 264,
     "metadata": {},
     "output_type": "execute_result"
    }
   ],
   "source": [
    "b_sample['Issued Date']"
   ]
  },
  {
   "cell_type": "code",
   "execution_count": 265,
   "id": "65532b56",
   "metadata": {},
   "outputs": [],
   "source": [
    "obj_cols = [col for col in b.columns if b[col].dtype == 'object']"
   ]
  },
  {
   "cell_type": "code",
   "execution_count": 266,
   "id": "9532d192",
   "metadata": {},
   "outputs": [
    {
     "data": {
      "text/plain": [
       "20"
      ]
     },
     "execution_count": 266,
     "metadata": {},
     "output_type": "execute_result"
    }
   ],
   "source": [
    "len(obj_cols)"
   ]
  },
  {
   "cell_type": "code",
   "execution_count": 267,
   "id": "239f0ea1",
   "metadata": {},
   "outputs": [
    {
     "data": {
      "text/plain": [
       "(20,)"
      ]
     },
     "execution_count": 267,
     "metadata": {},
     "output_type": "execute_result"
    }
   ],
   "source": [
    "b.select_dtypes(include=['object']).columns.shape"
   ]
  },
  {
   "cell_type": "code",
   "execution_count": 268,
   "id": "4ce7ee7e",
   "metadata": {},
   "outputs": [
    {
     "data": {
      "text/plain": [
       "['Permit Number',\n",
       " 'Permit Type Definition',\n",
       " 'Permit Creation Date',\n",
       " 'Block',\n",
       " 'Lot',\n",
       " 'Street Name',\n",
       " 'Street Suffix',\n",
       " 'Description',\n",
       " 'Current Status',\n",
       " 'Current Status Date',\n",
       " 'Filed Date',\n",
       " 'Issued Date',\n",
       " 'First Construction Document Date',\n",
       " 'Permit Expiration Date',\n",
       " 'Existing Use',\n",
       " 'Proposed Use',\n",
       " 'Existing Construction Type Description',\n",
       " 'Proposed Construction Type Description',\n",
       " 'Neighborhoods - Analysis Boundaries',\n",
       " 'Location']"
      ]
     },
     "execution_count": 268,
     "metadata": {},
     "output_type": "execute_result"
    }
   ],
   "source": [
    "obj_cols"
   ]
  },
  {
   "cell_type": "code",
   "execution_count": 269,
   "id": "f34a44d6",
   "metadata": {},
   "outputs": [
    {
     "data": {
      "text/plain": [
       "Permit Number                             0\n",
       "Permit Type Definition                    0\n",
       "Permit Creation Date                      0\n",
       "Block                                     0\n",
       "Lot                                       0\n",
       "Street Name                               0\n",
       "Street Suffix                             0\n",
       "Description                               0\n",
       "Current Status                            0\n",
       "Current Status Date                       0\n",
       "Filed Date                                0\n",
       "Issued Date                               0\n",
       "First Construction Document Date          0\n",
       "Permit Expiration Date                    0\n",
       "Existing Use                              0\n",
       "Proposed Use                              0\n",
       "Existing Construction Type Description    0\n",
       "Proposed Construction Type Description    0\n",
       "Neighborhoods - Analysis Boundaries       0\n",
       "Location                                  0\n",
       "dtype: int64"
      ]
     },
     "execution_count": 269,
     "metadata": {},
     "output_type": "execute_result"
    }
   ],
   "source": [
    "b_sample[obj_cols].isna().sum()"
   ]
  },
  {
   "cell_type": "code",
   "execution_count": 270,
   "id": "d66d2a30",
   "metadata": {},
   "outputs": [],
   "source": [
    "b_sample = b_sample[b_sample['Location'].notna()]"
   ]
  },
  {
   "cell_type": "code",
   "execution_count": 271,
   "id": "5f063986",
   "metadata": {},
   "outputs": [
    {
     "data": {
      "text/plain": [
       "Permit Number                             0\n",
       "Permit Type Definition                    0\n",
       "Permit Creation Date                      0\n",
       "Block                                     0\n",
       "Lot                                       0\n",
       "Street Name                               0\n",
       "Street Suffix                             0\n",
       "Description                               0\n",
       "Current Status                            0\n",
       "Current Status Date                       0\n",
       "Filed Date                                0\n",
       "Issued Date                               0\n",
       "First Construction Document Date          0\n",
       "Permit Expiration Date                    0\n",
       "Existing Use                              0\n",
       "Proposed Use                              0\n",
       "Existing Construction Type Description    0\n",
       "Proposed Construction Type Description    0\n",
       "Neighborhoods - Analysis Boundaries       0\n",
       "Location                                  0\n",
       "dtype: int64"
      ]
     },
     "execution_count": 271,
     "metadata": {},
     "output_type": "execute_result"
    }
   ],
   "source": [
    "b_sample[obj_cols].isna().sum()"
   ]
  },
  {
   "cell_type": "code",
   "execution_count": 272,
   "id": "8ca44593",
   "metadata": {},
   "outputs": [],
   "source": [
    "b_sample = b_sample[b_sample['Neighborhoods - Analysis Boundaries'].notna()]"
   ]
  },
  {
   "cell_type": "code",
   "execution_count": 273,
   "id": "007543e9",
   "metadata": {},
   "outputs": [
    {
     "data": {
      "text/plain": [
       "Permit Number                             0\n",
       "Permit Type Definition                    0\n",
       "Permit Creation Date                      0\n",
       "Block                                     0\n",
       "Lot                                       0\n",
       "Street Name                               0\n",
       "Street Suffix                             0\n",
       "Description                               0\n",
       "Current Status                            0\n",
       "Current Status Date                       0\n",
       "Filed Date                                0\n",
       "Issued Date                               0\n",
       "First Construction Document Date          0\n",
       "Permit Expiration Date                    0\n",
       "Existing Use                              0\n",
       "Proposed Use                              0\n",
       "Existing Construction Type Description    0\n",
       "Proposed Construction Type Description    0\n",
       "Neighborhoods - Analysis Boundaries       0\n",
       "Location                                  0\n",
       "dtype: int64"
      ]
     },
     "execution_count": 273,
     "metadata": {},
     "output_type": "execute_result"
    }
   ],
   "source": [
    "b_sample[obj_cols].isna().sum()"
   ]
  },
  {
   "cell_type": "code",
   "execution_count": 274,
   "id": "b19058b1",
   "metadata": {},
   "outputs": [
    {
     "data": {
      "text/plain": [
       "0.0"
      ]
     },
     "execution_count": 274,
     "metadata": {},
     "output_type": "execute_result"
    }
   ],
   "source": [
    "b_sample['Issued Date'].isna().sum()/b_sample['Issued Date'].shape[0] * 100"
   ]
  },
  {
   "cell_type": "markdown",
   "id": "10375eff",
   "metadata": {},
   "source": [
    "7.5% of issued date values are missing"
   ]
  },
  {
   "cell_type": "code",
   "execution_count": 275,
   "id": "7b248a3a",
   "metadata": {},
   "outputs": [],
   "source": [
    "b_sample = b_sample[b_sample['Issued Date'].notna()]"
   ]
  },
  {
   "cell_type": "code",
   "execution_count": 276,
   "id": "6dd8abce",
   "metadata": {},
   "outputs": [
    {
     "data": {
      "text/plain": [
       "Permit Number                             0\n",
       "Permit Type Definition                    0\n",
       "Permit Creation Date                      0\n",
       "Block                                     0\n",
       "Lot                                       0\n",
       "Street Name                               0\n",
       "Street Suffix                             0\n",
       "Description                               0\n",
       "Current Status                            0\n",
       "Current Status Date                       0\n",
       "Filed Date                                0\n",
       "Issued Date                               0\n",
       "First Construction Document Date          0\n",
       "Permit Expiration Date                    0\n",
       "Existing Use                              0\n",
       "Proposed Use                              0\n",
       "Existing Construction Type Description    0\n",
       "Proposed Construction Type Description    0\n",
       "Neighborhoods - Analysis Boundaries       0\n",
       "Location                                  0\n",
       "dtype: int64"
      ]
     },
     "execution_count": 276,
     "metadata": {},
     "output_type": "execute_result"
    }
   ],
   "source": [
    "b_sample[obj_cols].isna().sum()"
   ]
  },
  {
   "cell_type": "code",
   "execution_count": 277,
   "id": "2140bd9a",
   "metadata": {},
   "outputs": [],
   "source": [
    "b_sample = b_sample[b_sample['First Construction Document Date'].notna()]"
   ]
  },
  {
   "cell_type": "code",
   "execution_count": 278,
   "id": "8adb3099",
   "metadata": {},
   "outputs": [
    {
     "data": {
      "text/plain": [
       "Permit Number                             0\n",
       "Permit Type Definition                    0\n",
       "Permit Creation Date                      0\n",
       "Block                                     0\n",
       "Lot                                       0\n",
       "Street Name                               0\n",
       "Street Suffix                             0\n",
       "Description                               0\n",
       "Current Status                            0\n",
       "Current Status Date                       0\n",
       "Filed Date                                0\n",
       "Issued Date                               0\n",
       "First Construction Document Date          0\n",
       "Permit Expiration Date                    0\n",
       "Existing Use                              0\n",
       "Proposed Use                              0\n",
       "Existing Construction Type Description    0\n",
       "Proposed Construction Type Description    0\n",
       "Neighborhoods - Analysis Boundaries       0\n",
       "Location                                  0\n",
       "dtype: int64"
      ]
     },
     "execution_count": 278,
     "metadata": {},
     "output_type": "execute_result"
    }
   ],
   "source": [
    "b_sample[obj_cols].isna().sum()"
   ]
  },
  {
   "cell_type": "code",
   "execution_count": 279,
   "id": "9340b093",
   "metadata": {},
   "outputs": [
    {
     "data": {
      "text/plain": [
       "Permit Number                             0\n",
       "Permit Type                               0\n",
       "Permit Type Definition                    0\n",
       "Permit Creation Date                      0\n",
       "Block                                     0\n",
       "Lot                                       0\n",
       "Street Number                             0\n",
       "Street Name                               0\n",
       "Street Suffix                             0\n",
       "Description                               0\n",
       "Current Status                            0\n",
       "Current Status Date                       0\n",
       "Filed Date                                0\n",
       "Issued Date                               0\n",
       "First Construction Document Date          0\n",
       "Number of Existing Stories                0\n",
       "Number of Proposed Stories                0\n",
       "Permit Expiration Date                    0\n",
       "Estimated Cost                            0\n",
       "Revised Cost                              0\n",
       "Existing Use                              0\n",
       "Existing Units                            0\n",
       "Proposed Use                              0\n",
       "Proposed Units                            0\n",
       "Plansets                                  0\n",
       "Existing Construction Type                0\n",
       "Existing Construction Type Description    0\n",
       "Proposed Construction Type                0\n",
       "Proposed Construction Type Description    0\n",
       "Supervisor District                       0\n",
       "Neighborhoods - Analysis Boundaries       0\n",
       "Zipcode                                   0\n",
       "Location                                  0\n",
       "Record ID                                 0\n",
       "dtype: int64"
      ]
     },
     "execution_count": 279,
     "metadata": {},
     "output_type": "execute_result"
    }
   ],
   "source": [
    "b_sample.isna().sum()"
   ]
  },
  {
   "cell_type": "code",
   "execution_count": 280,
   "id": "edcad196",
   "metadata": {},
   "outputs": [
    {
     "data": {
      "text/plain": [
       "0         143.0\n",
       "1           1.0\n",
       "3           1.0\n",
       "4           1.0\n",
       "5         326.0\n",
       "          ...  \n",
       "198879      1.0\n",
       "198880      1.0\n",
       "198881      1.0\n",
       "198882      1.0\n",
       "198883      1.0\n",
       "Name: Existing Units, Length: 179706, dtype: float64"
      ]
     },
     "execution_count": 280,
     "metadata": {},
     "output_type": "execute_result"
    }
   ],
   "source": [
    "b_sample['Existing Units']"
   ]
  },
  {
   "cell_type": "code",
   "execution_count": 281,
   "id": "04076a66",
   "metadata": {},
   "outputs": [
    {
     "data": {
      "text/plain": [
       "(179706, 34)"
      ]
     },
     "execution_count": 281,
     "metadata": {},
     "output_type": "execute_result"
    }
   ],
   "source": [
    "b_sample.shape"
   ]
  },
  {
   "cell_type": "code",
   "execution_count": 282,
   "id": "021bb16f",
   "metadata": {},
   "outputs": [],
   "source": [
    "b_sample.Plansets.fillna(2.0, inplace=True)"
   ]
  },
  {
   "cell_type": "code",
   "execution_count": 283,
   "id": "f9546f62",
   "metadata": {},
   "outputs": [],
   "source": [
    "ect = b_sample['Existing Construction Type'].mode()[0]"
   ]
  },
  {
   "cell_type": "code",
   "execution_count": 284,
   "id": "d96df18a",
   "metadata": {},
   "outputs": [
    {
     "data": {
      "text/plain": [
       "Permit Number                             0\n",
       "Permit Type                               0\n",
       "Permit Type Definition                    0\n",
       "Permit Creation Date                      0\n",
       "Block                                     0\n",
       "Lot                                       0\n",
       "Street Number                             0\n",
       "Street Name                               0\n",
       "Street Suffix                             0\n",
       "Description                               0\n",
       "Current Status                            0\n",
       "Current Status Date                       0\n",
       "Filed Date                                0\n",
       "Issued Date                               0\n",
       "First Construction Document Date          0\n",
       "Number of Existing Stories                0\n",
       "Number of Proposed Stories                0\n",
       "Permit Expiration Date                    0\n",
       "Estimated Cost                            0\n",
       "Revised Cost                              0\n",
       "Existing Use                              0\n",
       "Existing Units                            0\n",
       "Proposed Use                              0\n",
       "Proposed Units                            0\n",
       "Plansets                                  0\n",
       "Existing Construction Type                0\n",
       "Existing Construction Type Description    0\n",
       "Proposed Construction Type                0\n",
       "Proposed Construction Type Description    0\n",
       "Supervisor District                       0\n",
       "Neighborhoods - Analysis Boundaries       0\n",
       "Zipcode                                   0\n",
       "Location                                  0\n",
       "Record ID                                 0\n",
       "dtype: int64"
      ]
     },
     "execution_count": 284,
     "metadata": {},
     "output_type": "execute_result"
    }
   ],
   "source": [
    "b_sample.isna().sum()"
   ]
  },
  {
   "cell_type": "code",
   "execution_count": 285,
   "id": "23a39818",
   "metadata": {},
   "outputs": [],
   "source": [
    "b_sample['Existing Construction Type'].fillna(ect, inplace=True)"
   ]
  },
  {
   "cell_type": "code",
   "execution_count": 286,
   "id": "80c48f31",
   "metadata": {},
   "outputs": [
    {
     "data": {
      "text/plain": [
       "Permit Number                             0\n",
       "Permit Type                               0\n",
       "Permit Type Definition                    0\n",
       "Permit Creation Date                      0\n",
       "Block                                     0\n",
       "Lot                                       0\n",
       "Street Number                             0\n",
       "Street Name                               0\n",
       "Street Suffix                             0\n",
       "Description                               0\n",
       "Current Status                            0\n",
       "Current Status Date                       0\n",
       "Filed Date                                0\n",
       "Issued Date                               0\n",
       "First Construction Document Date          0\n",
       "Number of Existing Stories                0\n",
       "Number of Proposed Stories                0\n",
       "Permit Expiration Date                    0\n",
       "Estimated Cost                            0\n",
       "Revised Cost                              0\n",
       "Existing Use                              0\n",
       "Existing Units                            0\n",
       "Proposed Use                              0\n",
       "Proposed Units                            0\n",
       "Plansets                                  0\n",
       "Existing Construction Type                0\n",
       "Existing Construction Type Description    0\n",
       "Proposed Construction Type                0\n",
       "Proposed Construction Type Description    0\n",
       "Supervisor District                       0\n",
       "Neighborhoods - Analysis Boundaries       0\n",
       "Zipcode                                   0\n",
       "Location                                  0\n",
       "Record ID                                 0\n",
       "dtype: int64"
      ]
     },
     "execution_count": 286,
     "metadata": {},
     "output_type": "execute_result"
    }
   ],
   "source": [
    "b_sample.isna().sum()"
   ]
  },
  {
   "cell_type": "code",
   "execution_count": 287,
   "id": "0b90637c",
   "metadata": {},
   "outputs": [
    {
     "data": {
      "text/plain": [
       "'Proposed Construction Type Description'"
      ]
     },
     "execution_count": 287,
     "metadata": {},
     "output_type": "execute_result"
    }
   ],
   "source": [
    "b_sample.columns[28]"
   ]
  },
  {
   "cell_type": "code",
   "execution_count": 288,
   "id": "86b8fc10",
   "metadata": {},
   "outputs": [],
   "source": [
    "c = b_sample.columns[[15, 16, 20, 21, 22, 23, 25, 26, 27, 28]]"
   ]
  },
  {
   "cell_type": "markdown",
   "id": "c7a7d418",
   "metadata": {},
   "source": [
    "filling missing values with most frequent values"
   ]
  },
  {
   "cell_type": "code",
   "execution_count": 289,
   "id": "bcce28c2",
   "metadata": {},
   "outputs": [],
   "source": [
    "for col in c:\n",
    "    b_sample[col].fillna(b_sample[col].mode()[0], inplace=True)"
   ]
  },
  {
   "cell_type": "code",
   "execution_count": 290,
   "id": "b59e4192",
   "metadata": {},
   "outputs": [
    {
     "data": {
      "text/plain": [
       "Permit Number                             0\n",
       "Permit Type                               0\n",
       "Permit Type Definition                    0\n",
       "Permit Creation Date                      0\n",
       "Block                                     0\n",
       "Lot                                       0\n",
       "Street Number                             0\n",
       "Street Name                               0\n",
       "Street Suffix                             0\n",
       "Description                               0\n",
       "Current Status                            0\n",
       "Current Status Date                       0\n",
       "Filed Date                                0\n",
       "Issued Date                               0\n",
       "First Construction Document Date          0\n",
       "Number of Existing Stories                0\n",
       "Number of Proposed Stories                0\n",
       "Permit Expiration Date                    0\n",
       "Estimated Cost                            0\n",
       "Revised Cost                              0\n",
       "Existing Use                              0\n",
       "Existing Units                            0\n",
       "Proposed Use                              0\n",
       "Proposed Units                            0\n",
       "Plansets                                  0\n",
       "Existing Construction Type                0\n",
       "Existing Construction Type Description    0\n",
       "Proposed Construction Type                0\n",
       "Proposed Construction Type Description    0\n",
       "Supervisor District                       0\n",
       "Neighborhoods - Analysis Boundaries       0\n",
       "Zipcode                                   0\n",
       "Location                                  0\n",
       "Record ID                                 0\n",
       "dtype: int64"
      ]
     },
     "execution_count": 290,
     "metadata": {},
     "output_type": "execute_result"
    }
   ],
   "source": [
    "b_sample.isna().sum()"
   ]
  },
  {
   "cell_type": "code",
   "execution_count": 291,
   "id": "51cadd07",
   "metadata": {},
   "outputs": [
    {
     "data": {
      "text/plain": [
       "(179706, 34)"
      ]
     },
     "execution_count": 291,
     "metadata": {},
     "output_type": "execute_result"
    }
   ],
   "source": [
    "b_sample.shape"
   ]
  },
  {
   "cell_type": "code",
   "execution_count": 292,
   "id": "2b84707c",
   "metadata": {},
   "outputs": [
    {
     "data": {
      "text/plain": [
       "0.0"
      ]
     },
     "execution_count": 292,
     "metadata": {},
     "output_type": "execute_result"
    }
   ],
   "source": [
    "b_sample['Permit Expiration Date'].isna().sum()/b_sample.shape[0]"
   ]
  },
  {
   "cell_type": "code",
   "execution_count": 293,
   "id": "c09f4487",
   "metadata": {},
   "outputs": [],
   "source": [
    "import datetime"
   ]
  },
  {
   "cell_type": "code",
   "execution_count": 294,
   "id": "c569dae5",
   "metadata": {},
   "outputs": [],
   "source": [
    "dates = pd.to_datetime(b_sample['Permit Expiration Date'])"
   ]
  },
  {
   "cell_type": "code",
   "execution_count": 295,
   "id": "2732eea5",
   "metadata": {},
   "outputs": [
    {
     "data": {
      "text/plain": [
       "0    2018\n",
       "Name: Permit Expiration Date, dtype: int64"
      ]
     },
     "execution_count": 295,
     "metadata": {},
     "output_type": "execute_result"
    }
   ],
   "source": [
    "dates.dt.year.mode()"
   ]
  },
  {
   "cell_type": "code",
   "execution_count": 296,
   "id": "5802bd9e",
   "metadata": {},
   "outputs": [
    {
     "data": {
      "text/plain": [
       "0    5\n",
       "Name: Permit Expiration Date, dtype: int64"
      ]
     },
     "execution_count": 296,
     "metadata": {},
     "output_type": "execute_result"
    }
   ],
   "source": [
    "dates.dt.month.mode()"
   ]
  },
  {
   "cell_type": "code",
   "execution_count": 297,
   "id": "f33d9a5f",
   "metadata": {},
   "outputs": [
    {
     "data": {
      "text/plain": [
       "0    7\n",
       "Name: Permit Expiration Date, dtype: int64"
      ]
     },
     "execution_count": 297,
     "metadata": {},
     "output_type": "execute_result"
    }
   ],
   "source": [
    "dates.dt.day.mode()"
   ]
  },
  {
   "cell_type": "code",
   "execution_count": 298,
   "id": "dfd48702",
   "metadata": {},
   "outputs": [],
   "source": [
    "dates = dates.fillna('2018-05-07')"
   ]
  },
  {
   "cell_type": "code",
   "execution_count": 299,
   "id": "53450796",
   "metadata": {},
   "outputs": [],
   "source": [
    "b_sample['Permit Expiration Date'] = dates"
   ]
  },
  {
   "cell_type": "code",
   "execution_count": 300,
   "id": "6a448c34",
   "metadata": {},
   "outputs": [
    {
     "data": {
      "text/plain": [
       "0"
      ]
     },
     "execution_count": 300,
     "metadata": {},
     "output_type": "execute_result"
    }
   ],
   "source": [
    "dates.isna().sum()"
   ]
  },
  {
   "cell_type": "code",
   "execution_count": 301,
   "id": "430f9f70",
   "metadata": {},
   "outputs": [
    {
     "data": {
      "text/plain": [
       "Permit Number                             0\n",
       "Permit Type                               0\n",
       "Permit Type Definition                    0\n",
       "Permit Creation Date                      0\n",
       "Block                                     0\n",
       "Lot                                       0\n",
       "Street Number                             0\n",
       "Street Name                               0\n",
       "Street Suffix                             0\n",
       "Description                               0\n",
       "Current Status                            0\n",
       "Current Status Date                       0\n",
       "Filed Date                                0\n",
       "Issued Date                               0\n",
       "First Construction Document Date          0\n",
       "Number of Existing Stories                0\n",
       "Number of Proposed Stories                0\n",
       "Permit Expiration Date                    0\n",
       "Estimated Cost                            0\n",
       "Revised Cost                              0\n",
       "Existing Use                              0\n",
       "Existing Units                            0\n",
       "Proposed Use                              0\n",
       "Proposed Units                            0\n",
       "Plansets                                  0\n",
       "Existing Construction Type                0\n",
       "Existing Construction Type Description    0\n",
       "Proposed Construction Type                0\n",
       "Proposed Construction Type Description    0\n",
       "Supervisor District                       0\n",
       "Neighborhoods - Analysis Boundaries       0\n",
       "Zipcode                                   0\n",
       "Location                                  0\n",
       "Record ID                                 0\n",
       "dtype: int64"
      ]
     },
     "execution_count": 301,
     "metadata": {},
     "output_type": "execute_result"
    }
   ],
   "source": [
    "b_sample.isna().sum()"
   ]
  },
  {
   "cell_type": "markdown",
   "id": "12570140",
   "metadata": {},
   "source": [
    "Normalization"
   ]
  },
  {
   "cell_type": "markdown",
   "id": "35f555cf",
   "metadata": {},
   "source": [
    "[Data normalization guide](https://towardsdatascience.com/data-normalization-with-pandas-and-scikit-learn-7c1cc6ed6475)"
   ]
  },
  {
   "cell_type": "code",
   "execution_count": null,
   "id": "3f17d857",
   "metadata": {},
   "outputs": [],
   "source": []
  }
 ],
 "metadata": {
  "kernelspec": {
   "display_name": "Python 3 (ipykernel)",
   "language": "python",
   "name": "python3"
  },
  "language_info": {
   "codemirror_mode": {
    "name": "ipython",
    "version": 3
   },
   "file_extension": ".py",
   "mimetype": "text/x-python",
   "name": "python",
   "nbconvert_exporter": "python",
   "pygments_lexer": "ipython3",
   "version": "3.10.5"
  }
 },
 "nbformat": 4,
 "nbformat_minor": 5
}
