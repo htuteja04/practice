{
 "cells": [
  {
   "cell_type": "code",
   "execution_count": 1,
   "id": "65d39f31",
   "metadata": {},
   "outputs": [],
   "source": [
    "import pandas as pd\n",
    "import numpmi"
   ]
  },
  {
   "cell_type": "markdown",
   "id": "85fbd898",
   "metadata": {},
   "source": [
    "Objective \n",
    "\n",
    "1. missing data\n",
    "2. scaling & normalization\n",
    "3. inconsistent data entry\n",
    "4. character encoding"
   ]
  },
  {
   "cell_type": "markdown",
   "id": "430d31b6",
   "metadata": {},
   "source": [
    "[Data cleaning guide](https://towardsdatascience.com/the-ultimate-guide-to-data-cleaning-3969843991d4)"
   ]
  },
  {
   "cell_type": "code",
   "execution_count": null,
   "id": "16f0d2e9",
   "metadata": {},
   "outputs": [],
   "source": []
  }
 ],
 "metadata": {
  "kernelspec": {
   "display_name": "Python 3 (ipykernel)",
   "language": "python",
   "name": "python3"
  },
  "language_info": {
   "codemirror_mode": {
    "name": "ipython",
    "version": 3
   },
   "file_extension": ".py",
   "mimetype": "text/x-python",
   "name": "python",
   "nbconvert_exporter": "python",
   "pygments_lexer": "ipython3",
   "version": "3.9.12"
  }
 },
 "nbformat": 4,
 "nbformat_minor": 5
}
