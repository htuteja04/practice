{
 "cells": [
  {
   "cell_type": "code",
   "execution_count": 49,
   "id": "955ed4b3",
   "metadata": {},
   "outputs": [],
   "source": [
    "import numpy as np\n",
    "import pandas as pd\n",
    "import seaborn as sns"
   ]
  },
  {
   "cell_type": "code",
   "execution_count": 50,
   "id": "f930d77e",
   "metadata": {},
   "outputs": [],
   "source": [
    "import warnings\n",
    "warnings.filterwarnings(\"ignore\")"
   ]
  },
  {
   "cell_type": "code",
   "execution_count": 51,
   "id": "0771139e",
   "metadata": {},
   "outputs": [],
   "source": [
    "nyc = pd.read_csv('Datasets/NYCAIRBNB.csv')"
   ]
  },
  {
   "cell_type": "code",
   "execution_count": 52,
   "id": "9cb72fe1",
   "metadata": {},
   "outputs": [
    {
     "data": {
      "text/html": [
       "<div>\n",
       "<style scoped>\n",
       "    .dataframe tbody tr th:only-of-type {\n",
       "        vertical-align: middle;\n",
       "    }\n",
       "\n",
       "    .dataframe tbody tr th {\n",
       "        vertical-align: top;\n",
       "    }\n",
       "\n",
       "    .dataframe thead th {\n",
       "        text-align: right;\n",
       "    }\n",
       "</style>\n",
       "<table border=\"1\" class=\"dataframe\">\n",
       "  <thead>\n",
       "    <tr style=\"text-align: right;\">\n",
       "      <th></th>\n",
       "      <th>id</th>\n",
       "      <th>name</th>\n",
       "      <th>host_id</th>\n",
       "      <th>host_name</th>\n",
       "      <th>neighbourhood_group</th>\n",
       "      <th>neighbourhood</th>\n",
       "      <th>latitude</th>\n",
       "      <th>longitude</th>\n",
       "      <th>room_type</th>\n",
       "      <th>price</th>\n",
       "      <th>minimum_nights</th>\n",
       "      <th>number_of_reviews</th>\n",
       "      <th>last_review</th>\n",
       "      <th>reviews_per_month</th>\n",
       "      <th>calculated_host_listings_count</th>\n",
       "      <th>availability_365</th>\n",
       "    </tr>\n",
       "  </thead>\n",
       "  <tbody>\n",
       "    <tr>\n",
       "      <th>0</th>\n",
       "      <td>2539</td>\n",
       "      <td>Clean &amp; quiet apt home by the park</td>\n",
       "      <td>2787</td>\n",
       "      <td>John</td>\n",
       "      <td>Brooklyn</td>\n",
       "      <td>Kensington</td>\n",
       "      <td>40.64749</td>\n",
       "      <td>-73.97237</td>\n",
       "      <td>Private room</td>\n",
       "      <td>149</td>\n",
       "      <td>1</td>\n",
       "      <td>9</td>\n",
       "      <td>2018-10-19</td>\n",
       "      <td>0.21</td>\n",
       "      <td>6</td>\n",
       "      <td>365</td>\n",
       "    </tr>\n",
       "    <tr>\n",
       "      <th>1</th>\n",
       "      <td>2595</td>\n",
       "      <td>Skylit Midtown Castle</td>\n",
       "      <td>2845</td>\n",
       "      <td>Jennifer</td>\n",
       "      <td>Manhattan</td>\n",
       "      <td>Midtown</td>\n",
       "      <td>40.75362</td>\n",
       "      <td>-73.98377</td>\n",
       "      <td>Entire home/apt</td>\n",
       "      <td>225</td>\n",
       "      <td>1</td>\n",
       "      <td>45</td>\n",
       "      <td>2019-05-21</td>\n",
       "      <td>0.38</td>\n",
       "      <td>2</td>\n",
       "      <td>355</td>\n",
       "    </tr>\n",
       "    <tr>\n",
       "      <th>2</th>\n",
       "      <td>3647</td>\n",
       "      <td>THE VILLAGE OF HARLEM....NEW YORK !</td>\n",
       "      <td>4632</td>\n",
       "      <td>Elisabeth</td>\n",
       "      <td>Manhattan</td>\n",
       "      <td>Harlem</td>\n",
       "      <td>40.80902</td>\n",
       "      <td>-73.94190</td>\n",
       "      <td>Private room</td>\n",
       "      <td>150</td>\n",
       "      <td>3</td>\n",
       "      <td>0</td>\n",
       "      <td>NaN</td>\n",
       "      <td>NaN</td>\n",
       "      <td>1</td>\n",
       "      <td>365</td>\n",
       "    </tr>\n",
       "    <tr>\n",
       "      <th>3</th>\n",
       "      <td>3831</td>\n",
       "      <td>Cozy Entire Floor of Brownstone</td>\n",
       "      <td>4869</td>\n",
       "      <td>LisaRoxanne</td>\n",
       "      <td>Brooklyn</td>\n",
       "      <td>Clinton Hill</td>\n",
       "      <td>40.68514</td>\n",
       "      <td>-73.95976</td>\n",
       "      <td>Entire home/apt</td>\n",
       "      <td>89</td>\n",
       "      <td>1</td>\n",
       "      <td>270</td>\n",
       "      <td>2019-07-05</td>\n",
       "      <td>4.64</td>\n",
       "      <td>1</td>\n",
       "      <td>194</td>\n",
       "    </tr>\n",
       "    <tr>\n",
       "      <th>4</th>\n",
       "      <td>5022</td>\n",
       "      <td>Entire Apt: Spacious Studio/Loft by central park</td>\n",
       "      <td>7192</td>\n",
       "      <td>Laura</td>\n",
       "      <td>Manhattan</td>\n",
       "      <td>East Harlem</td>\n",
       "      <td>40.79851</td>\n",
       "      <td>-73.94399</td>\n",
       "      <td>Entire home/apt</td>\n",
       "      <td>80</td>\n",
       "      <td>10</td>\n",
       "      <td>9</td>\n",
       "      <td>2018-11-19</td>\n",
       "      <td>0.10</td>\n",
       "      <td>1</td>\n",
       "      <td>0</td>\n",
       "    </tr>\n",
       "    <tr>\n",
       "      <th>...</th>\n",
       "      <td>...</td>\n",
       "      <td>...</td>\n",
       "      <td>...</td>\n",
       "      <td>...</td>\n",
       "      <td>...</td>\n",
       "      <td>...</td>\n",
       "      <td>...</td>\n",
       "      <td>...</td>\n",
       "      <td>...</td>\n",
       "      <td>...</td>\n",
       "      <td>...</td>\n",
       "      <td>...</td>\n",
       "      <td>...</td>\n",
       "      <td>...</td>\n",
       "      <td>...</td>\n",
       "      <td>...</td>\n",
       "    </tr>\n",
       "    <tr>\n",
       "      <th>48890</th>\n",
       "      <td>36484665</td>\n",
       "      <td>Charming one bedroom - newly renovated rowhouse</td>\n",
       "      <td>8232441</td>\n",
       "      <td>Sabrina</td>\n",
       "      <td>Brooklyn</td>\n",
       "      <td>Bedford-Stuyvesant</td>\n",
       "      <td>40.67853</td>\n",
       "      <td>-73.94995</td>\n",
       "      <td>Private room</td>\n",
       "      <td>70</td>\n",
       "      <td>2</td>\n",
       "      <td>0</td>\n",
       "      <td>NaN</td>\n",
       "      <td>NaN</td>\n",
       "      <td>2</td>\n",
       "      <td>9</td>\n",
       "    </tr>\n",
       "    <tr>\n",
       "      <th>48891</th>\n",
       "      <td>36485057</td>\n",
       "      <td>Affordable room in Bushwick/East Williamsburg</td>\n",
       "      <td>6570630</td>\n",
       "      <td>Marisol</td>\n",
       "      <td>Brooklyn</td>\n",
       "      <td>Bushwick</td>\n",
       "      <td>40.70184</td>\n",
       "      <td>-73.93317</td>\n",
       "      <td>Private room</td>\n",
       "      <td>40</td>\n",
       "      <td>4</td>\n",
       "      <td>0</td>\n",
       "      <td>NaN</td>\n",
       "      <td>NaN</td>\n",
       "      <td>2</td>\n",
       "      <td>36</td>\n",
       "    </tr>\n",
       "    <tr>\n",
       "      <th>48892</th>\n",
       "      <td>36485431</td>\n",
       "      <td>Sunny Studio at Historical Neighborhood</td>\n",
       "      <td>23492952</td>\n",
       "      <td>Ilgar &amp; Aysel</td>\n",
       "      <td>Manhattan</td>\n",
       "      <td>Harlem</td>\n",
       "      <td>40.81475</td>\n",
       "      <td>-73.94867</td>\n",
       "      <td>Entire home/apt</td>\n",
       "      <td>115</td>\n",
       "      <td>10</td>\n",
       "      <td>0</td>\n",
       "      <td>NaN</td>\n",
       "      <td>NaN</td>\n",
       "      <td>1</td>\n",
       "      <td>27</td>\n",
       "    </tr>\n",
       "    <tr>\n",
       "      <th>48893</th>\n",
       "      <td>36485609</td>\n",
       "      <td>43rd St. Time Square-cozy single bed</td>\n",
       "      <td>30985759</td>\n",
       "      <td>Taz</td>\n",
       "      <td>Manhattan</td>\n",
       "      <td>Hell's Kitchen</td>\n",
       "      <td>40.75751</td>\n",
       "      <td>-73.99112</td>\n",
       "      <td>Shared room</td>\n",
       "      <td>55</td>\n",
       "      <td>1</td>\n",
       "      <td>0</td>\n",
       "      <td>NaN</td>\n",
       "      <td>NaN</td>\n",
       "      <td>6</td>\n",
       "      <td>2</td>\n",
       "    </tr>\n",
       "    <tr>\n",
       "      <th>48894</th>\n",
       "      <td>36487245</td>\n",
       "      <td>Trendy duplex in the very heart of Hell's Kitchen</td>\n",
       "      <td>68119814</td>\n",
       "      <td>Christophe</td>\n",
       "      <td>Manhattan</td>\n",
       "      <td>Hell's Kitchen</td>\n",
       "      <td>40.76404</td>\n",
       "      <td>-73.98933</td>\n",
       "      <td>Private room</td>\n",
       "      <td>90</td>\n",
       "      <td>7</td>\n",
       "      <td>0</td>\n",
       "      <td>NaN</td>\n",
       "      <td>NaN</td>\n",
       "      <td>1</td>\n",
       "      <td>23</td>\n",
       "    </tr>\n",
       "  </tbody>\n",
       "</table>\n",
       "<p>48895 rows × 16 columns</p>\n",
       "</div>"
      ],
      "text/plain": [
       "             id                                               name   host_id  \\\n",
       "0          2539                 Clean & quiet apt home by the park      2787   \n",
       "1          2595                              Skylit Midtown Castle      2845   \n",
       "2          3647                THE VILLAGE OF HARLEM....NEW YORK !      4632   \n",
       "3          3831                    Cozy Entire Floor of Brownstone      4869   \n",
       "4          5022   Entire Apt: Spacious Studio/Loft by central park      7192   \n",
       "...         ...                                                ...       ...   \n",
       "48890  36484665    Charming one bedroom - newly renovated rowhouse   8232441   \n",
       "48891  36485057      Affordable room in Bushwick/East Williamsburg   6570630   \n",
       "48892  36485431            Sunny Studio at Historical Neighborhood  23492952   \n",
       "48893  36485609               43rd St. Time Square-cozy single bed  30985759   \n",
       "48894  36487245  Trendy duplex in the very heart of Hell's Kitchen  68119814   \n",
       "\n",
       "           host_name neighbourhood_group       neighbourhood  latitude  \\\n",
       "0               John            Brooklyn          Kensington  40.64749   \n",
       "1           Jennifer           Manhattan             Midtown  40.75362   \n",
       "2          Elisabeth           Manhattan              Harlem  40.80902   \n",
       "3        LisaRoxanne            Brooklyn        Clinton Hill  40.68514   \n",
       "4              Laura           Manhattan         East Harlem  40.79851   \n",
       "...              ...                 ...                 ...       ...   \n",
       "48890        Sabrina            Brooklyn  Bedford-Stuyvesant  40.67853   \n",
       "48891        Marisol            Brooklyn            Bushwick  40.70184   \n",
       "48892  Ilgar & Aysel           Manhattan              Harlem  40.81475   \n",
       "48893            Taz           Manhattan      Hell's Kitchen  40.75751   \n",
       "48894     Christophe           Manhattan      Hell's Kitchen  40.76404   \n",
       "\n",
       "       longitude        room_type  price  minimum_nights  number_of_reviews  \\\n",
       "0      -73.97237     Private room    149               1                  9   \n",
       "1      -73.98377  Entire home/apt    225               1                 45   \n",
       "2      -73.94190     Private room    150               3                  0   \n",
       "3      -73.95976  Entire home/apt     89               1                270   \n",
       "4      -73.94399  Entire home/apt     80              10                  9   \n",
       "...          ...              ...    ...             ...                ...   \n",
       "48890  -73.94995     Private room     70               2                  0   \n",
       "48891  -73.93317     Private room     40               4                  0   \n",
       "48892  -73.94867  Entire home/apt    115              10                  0   \n",
       "48893  -73.99112      Shared room     55               1                  0   \n",
       "48894  -73.98933     Private room     90               7                  0   \n",
       "\n",
       "      last_review  reviews_per_month  calculated_host_listings_count  \\\n",
       "0      2018-10-19               0.21                               6   \n",
       "1      2019-05-21               0.38                               2   \n",
       "2             NaN                NaN                               1   \n",
       "3      2019-07-05               4.64                               1   \n",
       "4      2018-11-19               0.10                               1   \n",
       "...           ...                ...                             ...   \n",
       "48890         NaN                NaN                               2   \n",
       "48891         NaN                NaN                               2   \n",
       "48892         NaN                NaN                               1   \n",
       "48893         NaN                NaN                               6   \n",
       "48894         NaN                NaN                               1   \n",
       "\n",
       "       availability_365  \n",
       "0                   365  \n",
       "1                   355  \n",
       "2                   365  \n",
       "3                   194  \n",
       "4                     0  \n",
       "...                 ...  \n",
       "48890                 9  \n",
       "48891                36  \n",
       "48892                27  \n",
       "48893                 2  \n",
       "48894                23  \n",
       "\n",
       "[48895 rows x 16 columns]"
      ]
     },
     "execution_count": 52,
     "metadata": {},
     "output_type": "execute_result"
    }
   ],
   "source": [
    "nyc"
   ]
  },
  {
   "cell_type": "code",
   "execution_count": 53,
   "id": "9cdf8fd5",
   "metadata": {},
   "outputs": [
    {
     "data": {
      "text/plain": [
       "Index(['id', 'name', 'host_id', 'host_name', 'neighbourhood_group',\n",
       "       'neighbourhood', 'latitude', 'longitude', 'room_type', 'price',\n",
       "       'minimum_nights', 'number_of_reviews', 'last_review',\n",
       "       'reviews_per_month', 'calculated_host_listings_count',\n",
       "       'availability_365'],\n",
       "      dtype='object')"
      ]
     },
     "execution_count": 53,
     "metadata": {},
     "output_type": "execute_result"
    }
   ],
   "source": [
    "nyc.columns"
   ]
  },
  {
   "cell_type": "code",
   "execution_count": 54,
   "id": "5533accc",
   "metadata": {},
   "outputs": [
    {
     "data": {
      "text/plain": [
       "id                                    0\n",
       "name                                 16\n",
       "host_id                               0\n",
       "host_name                            21\n",
       "neighbourhood_group                   0\n",
       "neighbourhood                         0\n",
       "latitude                              0\n",
       "longitude                             0\n",
       "room_type                             0\n",
       "price                                 0\n",
       "minimum_nights                        0\n",
       "number_of_reviews                     0\n",
       "last_review                       10052\n",
       "reviews_per_month                 10052\n",
       "calculated_host_listings_count        0\n",
       "availability_365                      0\n",
       "dtype: int64"
      ]
     },
     "execution_count": 54,
     "metadata": {},
     "output_type": "execute_result"
    }
   ],
   "source": [
    "nyc.isna().sum()"
   ]
  },
  {
   "cell_type": "code",
   "execution_count": 55,
   "id": "299213b7",
   "metadata": {},
   "outputs": [],
   "source": [
    "nyc = nyc[nyc['host_name'].notna()]\n",
    "nyc = nyc[nyc['name'].notna()]"
   ]
  },
  {
   "cell_type": "code",
   "execution_count": 56,
   "id": "87029fe4",
   "metadata": {},
   "outputs": [
    {
     "data": {
      "text/plain": [
       "id                                    0\n",
       "name                                  0\n",
       "host_id                               0\n",
       "host_name                             0\n",
       "neighbourhood_group                   0\n",
       "neighbourhood                         0\n",
       "latitude                              0\n",
       "longitude                             0\n",
       "room_type                             0\n",
       "price                                 0\n",
       "minimum_nights                        0\n",
       "number_of_reviews                     0\n",
       "last_review                       10037\n",
       "reviews_per_month                 10037\n",
       "calculated_host_listings_count        0\n",
       "availability_365                      0\n",
       "dtype: int64"
      ]
     },
     "execution_count": 56,
     "metadata": {},
     "output_type": "execute_result"
    }
   ],
   "source": [
    "nyc.isna().sum()"
   ]
  },
  {
   "cell_type": "code",
   "execution_count": 57,
   "id": "4d87c02f",
   "metadata": {},
   "outputs": [],
   "source": [
    "nyc['reviews_per_month'].fillna(nyc['reviews_per_month'].mean(), inplace=True)"
   ]
  },
  {
   "cell_type": "code",
   "execution_count": 58,
   "id": "b9df5cc0",
   "metadata": {},
   "outputs": [
    {
     "data": {
      "text/plain": [
       "id                                    0\n",
       "name                                  0\n",
       "host_id                               0\n",
       "host_name                             0\n",
       "neighbourhood_group                   0\n",
       "neighbourhood                         0\n",
       "latitude                              0\n",
       "longitude                             0\n",
       "room_type                             0\n",
       "price                                 0\n",
       "minimum_nights                        0\n",
       "number_of_reviews                     0\n",
       "last_review                       10037\n",
       "reviews_per_month                     0\n",
       "calculated_host_listings_count        0\n",
       "availability_365                      0\n",
       "dtype: int64"
      ]
     },
     "execution_count": 58,
     "metadata": {},
     "output_type": "execute_result"
    }
   ],
   "source": [
    "nyc.isna().sum()"
   ]
  },
  {
   "cell_type": "markdown",
   "id": "eb080ffe",
   "metadata": {},
   "source": [
    "[Data cleaning techniques](https://monkeylearn.com/blog/data-cleaning-techniques/)"
   ]
  },
  {
   "cell_type": "code",
   "execution_count": 59,
   "id": "6e549c1a",
   "metadata": {},
   "outputs": [],
   "source": [
    "ms = pd.read_csv('Datasets/MS_USA.csv', parse_dates=True)"
   ]
  },
  {
   "cell_type": "code",
   "execution_count": 60,
   "id": "3bbf22cb",
   "metadata": {},
   "outputs": [
    {
     "data": {
      "text/html": [
       "<div>\n",
       "<style scoped>\n",
       "    .dataframe tbody tr th:only-of-type {\n",
       "        vertical-align: middle;\n",
       "    }\n",
       "\n",
       "    .dataframe tbody tr th {\n",
       "        vertical-align: top;\n",
       "    }\n",
       "\n",
       "    .dataframe thead th {\n",
       "        text-align: right;\n",
       "    }\n",
       "</style>\n",
       "<table border=\"1\" class=\"dataframe\">\n",
       "  <thead>\n",
       "    <tr style=\"text-align: right;\">\n",
       "      <th></th>\n",
       "      <th>Date</th>\n",
       "      <th>City</th>\n",
       "      <th>State</th>\n",
       "      <th>Dead</th>\n",
       "      <th>Injured</th>\n",
       "      <th>Total</th>\n",
       "      <th>Description</th>\n",
       "    </tr>\n",
       "  </thead>\n",
       "  <tbody>\n",
       "    <tr>\n",
       "      <th>0</th>\n",
       "      <td>2022-07-07</td>\n",
       "      <td>Chicago</td>\n",
       "      <td>Illinois</td>\n",
       "      <td>0</td>\n",
       "      <td>4</td>\n",
       "      <td>4</td>\n",
       "      <td>Four people were wounded in a drive-by shootin...</td>\n",
       "    </tr>\n",
       "    <tr>\n",
       "      <th>1</th>\n",
       "      <td>2022-07-06</td>\n",
       "      <td>Tampa</td>\n",
       "      <td>Florida</td>\n",
       "      <td>0</td>\n",
       "      <td>4</td>\n",
       "      <td>4</td>\n",
       "      <td>Four people were shot at an intersection in th...</td>\n",
       "    </tr>\n",
       "    <tr>\n",
       "      <th>2</th>\n",
       "      <td>2022-07-06</td>\n",
       "      <td>Chicago</td>\n",
       "      <td>Illinois</td>\n",
       "      <td>0</td>\n",
       "      <td>4</td>\n",
       "      <td>4</td>\n",
       "      <td>Four people were shot after three men got out ...</td>\n",
       "    </tr>\n",
       "    <tr>\n",
       "      <th>3</th>\n",
       "      <td>2022-07-06</td>\n",
       "      <td>St. Cloud</td>\n",
       "      <td>Minnesota</td>\n",
       "      <td>0</td>\n",
       "      <td>4</td>\n",
       "      <td>4</td>\n",
       "      <td>An argument in an alleyway escalated into a sh...</td>\n",
       "    </tr>\n",
       "    <tr>\n",
       "      <th>4</th>\n",
       "      <td>2022-07-05</td>\n",
       "      <td>Youngstown</td>\n",
       "      <td>Ohio</td>\n",
       "      <td>1</td>\n",
       "      <td>3</td>\n",
       "      <td>4</td>\n",
       "      <td>Four people were shot, one fatally, in the par...</td>\n",
       "    </tr>\n",
       "    <tr>\n",
       "      <th>...</th>\n",
       "      <td>...</td>\n",
       "      <td>...</td>\n",
       "      <td>...</td>\n",
       "      <td>...</td>\n",
       "      <td>...</td>\n",
       "      <td>...</td>\n",
       "      <td>...</td>\n",
       "    </tr>\n",
       "    <tr>\n",
       "      <th>2642</th>\n",
       "      <td>1933-06-17</td>\n",
       "      <td>Kansas City</td>\n",
       "      <td>Missouri</td>\n",
       "      <td>5</td>\n",
       "      <td>3</td>\n",
       "      <td>8</td>\n",
       "      <td>Kansas City Massacre: Four law enforcement off...</td>\n",
       "    </tr>\n",
       "    <tr>\n",
       "      <th>2643</th>\n",
       "      <td>1929-12-25</td>\n",
       "      <td>Germanton</td>\n",
       "      <td>North Carolina</td>\n",
       "      <td>7</td>\n",
       "      <td>0</td>\n",
       "      <td>7</td>\n",
       "      <td>Murder of the Lawson family: Charles Lawson sh...</td>\n",
       "    </tr>\n",
       "    <tr>\n",
       "      <th>2644</th>\n",
       "      <td>1929-02-14</td>\n",
       "      <td>Chicago</td>\n",
       "      <td>Illinois</td>\n",
       "      <td>7</td>\n",
       "      <td>0</td>\n",
       "      <td>7</td>\n",
       "      <td>Saint Valentine's Day Massacre: Seven members ...</td>\n",
       "    </tr>\n",
       "    <tr>\n",
       "      <th>2645</th>\n",
       "      <td>1927-11-21</td>\n",
       "      <td>Serene</td>\n",
       "      <td>Colorado</td>\n",
       "      <td>6</td>\n",
       "      <td>0</td>\n",
       "      <td>6</td>\n",
       "      <td>Columbine Mine Massacre: A fight broke out bet...</td>\n",
       "    </tr>\n",
       "    <tr>\n",
       "      <th>2646</th>\n",
       "      <td>1924-09-09</td>\n",
       "      <td>Hanapepe</td>\n",
       "      <td>Hawaii</td>\n",
       "      <td>20</td>\n",
       "      <td>0</td>\n",
       "      <td>20</td>\n",
       "      <td>Hanapepe Massacre: During a strike of Filipino...</td>\n",
       "    </tr>\n",
       "  </tbody>\n",
       "</table>\n",
       "<p>2647 rows × 7 columns</p>\n",
       "</div>"
      ],
      "text/plain": [
       "            Date         City           State  Dead  Injured  Total  \\\n",
       "0     2022-07-07      Chicago        Illinois     0        4      4   \n",
       "1     2022-07-06        Tampa         Florida     0        4      4   \n",
       "2     2022-07-06      Chicago        Illinois     0        4      4   \n",
       "3     2022-07-06    St. Cloud       Minnesota     0        4      4   \n",
       "4     2022-07-05   Youngstown            Ohio     1        3      4   \n",
       "...          ...          ...             ...   ...      ...    ...   \n",
       "2642  1933-06-17  Kansas City        Missouri     5        3      8   \n",
       "2643  1929-12-25    Germanton  North Carolina     7        0      7   \n",
       "2644  1929-02-14      Chicago        Illinois     7        0      7   \n",
       "2645  1927-11-21       Serene        Colorado     6        0      6   \n",
       "2646  1924-09-09     Hanapepe          Hawaii    20        0     20   \n",
       "\n",
       "                                            Description  \n",
       "0     Four people were wounded in a drive-by shootin...  \n",
       "1     Four people were shot at an intersection in th...  \n",
       "2     Four people were shot after three men got out ...  \n",
       "3     An argument in an alleyway escalated into a sh...  \n",
       "4     Four people were shot, one fatally, in the par...  \n",
       "...                                                 ...  \n",
       "2642  Kansas City Massacre: Four law enforcement off...  \n",
       "2643  Murder of the Lawson family: Charles Lawson sh...  \n",
       "2644  Saint Valentine's Day Massacre: Seven members ...  \n",
       "2645  Columbine Mine Massacre: A fight broke out bet...  \n",
       "2646  Hanapepe Massacre: During a strike of Filipino...  \n",
       "\n",
       "[2647 rows x 7 columns]"
      ]
     },
     "execution_count": 60,
     "metadata": {},
     "output_type": "execute_result"
    }
   ],
   "source": [
    "ms"
   ]
  },
  {
   "cell_type": "code",
   "execution_count": 61,
   "id": "2af10080",
   "metadata": {},
   "outputs": [
    {
     "data": {
      "text/plain": [
       "Date           0\n",
       "City           0\n",
       "State          5\n",
       "Dead           0\n",
       "Injured        0\n",
       "Total          0\n",
       "Description    0\n",
       "dtype: int64"
      ]
     },
     "execution_count": 61,
     "metadata": {},
     "output_type": "execute_result"
    }
   ],
   "source": [
    "ms.isna().sum()"
   ]
  },
  {
   "cell_type": "code",
   "execution_count": 62,
   "id": "098b8805",
   "metadata": {},
   "outputs": [],
   "source": [
    "ms = ms[ms['State'].notna()]"
   ]
  },
  {
   "cell_type": "code",
   "execution_count": 63,
   "id": "7369e03a",
   "metadata": {},
   "outputs": [
    {
     "data": {
      "text/plain": [
       "Date           0\n",
       "City           0\n",
       "State          0\n",
       "Dead           0\n",
       "Injured        0\n",
       "Total          0\n",
       "Description    0\n",
       "dtype: int64"
      ]
     },
     "execution_count": 63,
     "metadata": {},
     "output_type": "execute_result"
    }
   ],
   "source": [
    "ms.isna().sum()"
   ]
  },
  {
   "cell_type": "code",
   "execution_count": 64,
   "id": "c021df60",
   "metadata": {},
   "outputs": [],
   "source": [
    "state_incidents = ms.groupby('State').State.count().sort_values(ascending=False)"
   ]
  },
  {
   "cell_type": "code",
   "execution_count": 65,
   "id": "fcfd5772",
   "metadata": {},
   "outputs": [],
   "source": [
    "city_incidents = ms.groupby('City').City.count().sort_values(ascending=False)"
   ]
  },
  {
   "cell_type": "code",
   "execution_count": 66,
   "id": "1480f26f",
   "metadata": {},
   "outputs": [],
   "source": [
    "state_casualties = ms.groupby('State').Total.sum().sort_values(ascending=False)"
   ]
  },
  {
   "cell_type": "code",
   "execution_count": 67,
   "id": "c4048c49",
   "metadata": {},
   "outputs": [
    {
     "data": {
      "text/plain": [
       "State\n",
       "California                        1441\n",
       "Illinois                          1396\n",
       "Texas                             1377\n",
       "Florida                            826\n",
       "New York                           677\n",
       "Pennsylvania                       628\n",
       "Louisiana                          596\n",
       "Nevada                             589\n",
       "Ohio                               548\n",
       "South Carolina                     444\n",
       "North Carolina                     433\n",
       "Georgia                            427\n",
       "Michigan                           415\n",
       "Missouri                           392\n",
       "Colorado                           376\n",
       "Tennessee                          375\n",
       "Maryl                              359\n",
       "Alabama                            335\n",
       "Virginia                           335\n",
       "New Jersey                         301\n",
       "Mississippi                        288\n",
       "Indiana                            263\n",
       "Wisconsin                          238\n",
       "Washington                         223\n",
       "Arkansas                           214\n",
       "Kentucky                           188\n",
       "Arizona                            188\n",
       "Washington D.C.                    180\n",
       "Minnesota                          176\n",
       "Oregon                             160\n",
       "Connecticut                        111\n",
       "Oklahoma                           111\n",
       "Massachusetts                      102\n",
       "Iowa                                94\n",
       "New Mexico                          86\n",
       "Kansas                              82\n",
       "Utah                                66\n",
       "Nebraska                            58\n",
       "Delaware                            58\n",
       "United States Virgin Isls           43\n",
       "Hawaii                              35\n",
       "Alaska                              26\n",
       "West Virginia                       25\n",
       "Puerto Rico                         23\n",
       "District of Columbia                21\n",
       "Montana                             20\n",
       "Rhode Isl                           18\n",
       "Samson                              17\n",
       "Northern Mariana Isls               14\n",
       "Pennsylvania  Jenkins Township      14\n",
       "Peoria                              13\n",
       "Idaho                               12\n",
       "Lancaster County                    11\n",
       "Colorado Springs                    10\n",
       "South Dakota                         9\n",
       "Robinson Township                    6\n",
       "Maine                                4\n",
       "New Hampshire                        4\n",
       "Wyoming                              4\n",
       "Name: Total, dtype: int64"
      ]
     },
     "execution_count": 67,
     "metadata": {},
     "output_type": "execute_result"
    }
   ],
   "source": [
    "state_casualties"
   ]
  },
  {
   "cell_type": "code",
   "execution_count": 68,
   "id": "f5f6f3f6",
   "metadata": {},
   "outputs": [],
   "source": [
    "import datetime"
   ]
  },
  {
   "cell_type": "code",
   "execution_count": 69,
   "id": "97f2a6a1",
   "metadata": {},
   "outputs": [
    {
     "data": {
      "text/plain": [
       "dtype('O')"
      ]
     },
     "execution_count": 69,
     "metadata": {},
     "output_type": "execute_result"
    }
   ],
   "source": [
    "ms['Date'].dtype"
   ]
  },
  {
   "cell_type": "code",
   "execution_count": 70,
   "id": "7d14b2c2",
   "metadata": {},
   "outputs": [],
   "source": [
    "ms['Date'] = pd.to_datetime(ms['Date'])"
   ]
  },
  {
   "cell_type": "code",
   "execution_count": 71,
   "id": "151ffb46",
   "metadata": {},
   "outputs": [
    {
     "data": {
      "text/plain": [
       "dtype('<M8[ns]')"
      ]
     },
     "execution_count": 71,
     "metadata": {},
     "output_type": "execute_result"
    }
   ],
   "source": [
    "ms['Date'].dtype"
   ]
  },
  {
   "cell_type": "code",
   "execution_count": 72,
   "id": "becb605f",
   "metadata": {},
   "outputs": [
    {
     "data": {
      "text/plain": [
       "0       2022\n",
       "1       2022\n",
       "2       2022\n",
       "3       2022\n",
       "4       2022\n",
       "        ... \n",
       "2642    1933\n",
       "2643    1929\n",
       "2644    1929\n",
       "2645    1927\n",
       "2646    1924\n",
       "Name: Date, Length: 2642, dtype: int64"
      ]
     },
     "execution_count": 72,
     "metadata": {},
     "output_type": "execute_result"
    }
   ],
   "source": [
    "ms['Date'].dt.year"
   ]
  },
  {
   "cell_type": "code",
   "execution_count": 73,
   "id": "8103fce7",
   "metadata": {},
   "outputs": [],
   "source": [
    "ms['Year'] = ms['Date'].dt.year"
   ]
  },
  {
   "cell_type": "code",
   "execution_count": 74,
   "id": "1cf4ea99",
   "metadata": {},
   "outputs": [
    {
     "data": {
      "text/html": [
       "<div>\n",
       "<style scoped>\n",
       "    .dataframe tbody tr th:only-of-type {\n",
       "        vertical-align: middle;\n",
       "    }\n",
       "\n",
       "    .dataframe tbody tr th {\n",
       "        vertical-align: top;\n",
       "    }\n",
       "\n",
       "    .dataframe thead th {\n",
       "        text-align: right;\n",
       "    }\n",
       "</style>\n",
       "<table border=\"1\" class=\"dataframe\">\n",
       "  <thead>\n",
       "    <tr style=\"text-align: right;\">\n",
       "      <th></th>\n",
       "      <th>Date</th>\n",
       "      <th>City</th>\n",
       "      <th>State</th>\n",
       "      <th>Dead</th>\n",
       "      <th>Injured</th>\n",
       "      <th>Total</th>\n",
       "      <th>Description</th>\n",
       "      <th>Year</th>\n",
       "    </tr>\n",
       "  </thead>\n",
       "  <tbody>\n",
       "    <tr>\n",
       "      <th>0</th>\n",
       "      <td>2022-07-07</td>\n",
       "      <td>Chicago</td>\n",
       "      <td>Illinois</td>\n",
       "      <td>0</td>\n",
       "      <td>4</td>\n",
       "      <td>4</td>\n",
       "      <td>Four people were wounded in a drive-by shootin...</td>\n",
       "      <td>2022</td>\n",
       "    </tr>\n",
       "    <tr>\n",
       "      <th>1</th>\n",
       "      <td>2022-07-06</td>\n",
       "      <td>Tampa</td>\n",
       "      <td>Florida</td>\n",
       "      <td>0</td>\n",
       "      <td>4</td>\n",
       "      <td>4</td>\n",
       "      <td>Four people were shot at an intersection in th...</td>\n",
       "      <td>2022</td>\n",
       "    </tr>\n",
       "    <tr>\n",
       "      <th>2</th>\n",
       "      <td>2022-07-06</td>\n",
       "      <td>Chicago</td>\n",
       "      <td>Illinois</td>\n",
       "      <td>0</td>\n",
       "      <td>4</td>\n",
       "      <td>4</td>\n",
       "      <td>Four people were shot after three men got out ...</td>\n",
       "      <td>2022</td>\n",
       "    </tr>\n",
       "    <tr>\n",
       "      <th>3</th>\n",
       "      <td>2022-07-06</td>\n",
       "      <td>St. Cloud</td>\n",
       "      <td>Minnesota</td>\n",
       "      <td>0</td>\n",
       "      <td>4</td>\n",
       "      <td>4</td>\n",
       "      <td>An argument in an alleyway escalated into a sh...</td>\n",
       "      <td>2022</td>\n",
       "    </tr>\n",
       "    <tr>\n",
       "      <th>4</th>\n",
       "      <td>2022-07-05</td>\n",
       "      <td>Youngstown</td>\n",
       "      <td>Ohio</td>\n",
       "      <td>1</td>\n",
       "      <td>3</td>\n",
       "      <td>4</td>\n",
       "      <td>Four people were shot, one fatally, in the par...</td>\n",
       "      <td>2022</td>\n",
       "    </tr>\n",
       "    <tr>\n",
       "      <th>...</th>\n",
       "      <td>...</td>\n",
       "      <td>...</td>\n",
       "      <td>...</td>\n",
       "      <td>...</td>\n",
       "      <td>...</td>\n",
       "      <td>...</td>\n",
       "      <td>...</td>\n",
       "      <td>...</td>\n",
       "    </tr>\n",
       "    <tr>\n",
       "      <th>2642</th>\n",
       "      <td>1933-06-17</td>\n",
       "      <td>Kansas City</td>\n",
       "      <td>Missouri</td>\n",
       "      <td>5</td>\n",
       "      <td>3</td>\n",
       "      <td>8</td>\n",
       "      <td>Kansas City Massacre: Four law enforcement off...</td>\n",
       "      <td>1933</td>\n",
       "    </tr>\n",
       "    <tr>\n",
       "      <th>2643</th>\n",
       "      <td>1929-12-25</td>\n",
       "      <td>Germanton</td>\n",
       "      <td>North Carolina</td>\n",
       "      <td>7</td>\n",
       "      <td>0</td>\n",
       "      <td>7</td>\n",
       "      <td>Murder of the Lawson family: Charles Lawson sh...</td>\n",
       "      <td>1929</td>\n",
       "    </tr>\n",
       "    <tr>\n",
       "      <th>2644</th>\n",
       "      <td>1929-02-14</td>\n",
       "      <td>Chicago</td>\n",
       "      <td>Illinois</td>\n",
       "      <td>7</td>\n",
       "      <td>0</td>\n",
       "      <td>7</td>\n",
       "      <td>Saint Valentine's Day Massacre: Seven members ...</td>\n",
       "      <td>1929</td>\n",
       "    </tr>\n",
       "    <tr>\n",
       "      <th>2645</th>\n",
       "      <td>1927-11-21</td>\n",
       "      <td>Serene</td>\n",
       "      <td>Colorado</td>\n",
       "      <td>6</td>\n",
       "      <td>0</td>\n",
       "      <td>6</td>\n",
       "      <td>Columbine Mine Massacre: A fight broke out bet...</td>\n",
       "      <td>1927</td>\n",
       "    </tr>\n",
       "    <tr>\n",
       "      <th>2646</th>\n",
       "      <td>1924-09-09</td>\n",
       "      <td>Hanapepe</td>\n",
       "      <td>Hawaii</td>\n",
       "      <td>20</td>\n",
       "      <td>0</td>\n",
       "      <td>20</td>\n",
       "      <td>Hanapepe Massacre: During a strike of Filipino...</td>\n",
       "      <td>1924</td>\n",
       "    </tr>\n",
       "  </tbody>\n",
       "</table>\n",
       "<p>2642 rows × 8 columns</p>\n",
       "</div>"
      ],
      "text/plain": [
       "           Date         City           State  Dead  Injured  Total  \\\n",
       "0    2022-07-07      Chicago        Illinois     0        4      4   \n",
       "1    2022-07-06        Tampa         Florida     0        4      4   \n",
       "2    2022-07-06      Chicago        Illinois     0        4      4   \n",
       "3    2022-07-06    St. Cloud       Minnesota     0        4      4   \n",
       "4    2022-07-05   Youngstown            Ohio     1        3      4   \n",
       "...         ...          ...             ...   ...      ...    ...   \n",
       "2642 1933-06-17  Kansas City        Missouri     5        3      8   \n",
       "2643 1929-12-25    Germanton  North Carolina     7        0      7   \n",
       "2644 1929-02-14      Chicago        Illinois     7        0      7   \n",
       "2645 1927-11-21       Serene        Colorado     6        0      6   \n",
       "2646 1924-09-09     Hanapepe          Hawaii    20        0     20   \n",
       "\n",
       "                                            Description  Year  \n",
       "0     Four people were wounded in a drive-by shootin...  2022  \n",
       "1     Four people were shot at an intersection in th...  2022  \n",
       "2     Four people were shot after three men got out ...  2022  \n",
       "3     An argument in an alleyway escalated into a sh...  2022  \n",
       "4     Four people were shot, one fatally, in the par...  2022  \n",
       "...                                                 ...   ...  \n",
       "2642  Kansas City Massacre: Four law enforcement off...  1933  \n",
       "2643  Murder of the Lawson family: Charles Lawson sh...  1929  \n",
       "2644  Saint Valentine's Day Massacre: Seven members ...  1929  \n",
       "2645  Columbine Mine Massacre: A fight broke out bet...  1927  \n",
       "2646  Hanapepe Massacre: During a strike of Filipino...  1924  \n",
       "\n",
       "[2642 rows x 8 columns]"
      ]
     },
     "execution_count": 74,
     "metadata": {},
     "output_type": "execute_result"
    }
   ],
   "source": [
    "ms"
   ]
  },
  {
   "cell_type": "code",
   "execution_count": 75,
   "id": "4dfed047",
   "metadata": {},
   "outputs": [],
   "source": [
    "last_10 = ms.groupby('Year').Year.count().sort_values(ascending=False)[:10]"
   ]
  },
  {
   "cell_type": "code",
   "execution_count": 76,
   "id": "f1493ff6",
   "metadata": {},
   "outputs": [
    {
     "data": {
      "text/plain": [
       "Year\n",
       "2021    696\n",
       "2020    616\n",
       "2019    442\n",
       "2022    371\n",
       "2018    322\n",
       "2017     21\n",
       "2015     13\n",
       "2012     12\n",
       "2016     11\n",
       "2009      7\n",
       "Name: Year, dtype: int64"
      ]
     },
     "execution_count": 76,
     "metadata": {},
     "output_type": "execute_result"
    }
   ],
   "source": [
    "last_10"
   ]
  },
  {
   "cell_type": "code",
   "execution_count": 77,
   "id": "c89e9e43",
   "metadata": {},
   "outputs": [
    {
     "data": {
      "text/plain": [
       "Int64Index([2021, 2020, 2019, 2022, 2018, 2017, 2015, 2012, 2016, 2009], dtype='int64', name='Year')"
      ]
     },
     "execution_count": 77,
     "metadata": {},
     "output_type": "execute_result"
    }
   ],
   "source": [
    "last_10.index"
   ]
  },
  {
   "cell_type": "code",
   "execution_count": 78,
   "id": "3258db71",
   "metadata": {},
   "outputs": [
    {
     "data": {
      "text/plain": [
       "array([696, 616, 442, 371, 322,  21,  13,  12,  11,   7], dtype=int64)"
      ]
     },
     "execution_count": 78,
     "metadata": {},
     "output_type": "execute_result"
    }
   ],
   "source": [
    "last_10.values"
   ]
  },
  {
   "cell_type": "code",
   "execution_count": 79,
   "id": "6331fc23",
   "metadata": {},
   "outputs": [
    {
     "data": {
      "image/png": "[encoded data removed]",
      "text/plain": [
       "<Figure size 432x288 with 1 Axes>"
      ]
     },
     "metadata": {
      "needs_background": "light"
     },
     "output_type": "display_data"
    }
   ],
   "source": [
    "sns.lineplot(x=last_10.index, y=last_10.values);"
   ]
  },
  {
   "cell_type": "code",
   "execution_count": 80,
   "id": "a7c80ba4",
   "metadata": {},
   "outputs": [],
   "source": [
    "ms['Month'] = ms['Date'].dt.month"
   ]
  },
  {
   "cell_type": "code",
   "execution_count": 81,
   "id": "b63b70f4",
   "metadata": {},
   "outputs": [
    {
     "data": {
      "text/html": [
       "<div>\n",
       "<style scoped>\n",
       "    .dataframe tbody tr th:only-of-type {\n",
       "        vertical-align: middle;\n",
       "    }\n",
       "\n",
       "    .dataframe tbody tr th {\n",
       "        vertical-align: top;\n",
       "    }\n",
       "\n",
       "    .dataframe thead th {\n",
       "        text-align: right;\n",
       "    }\n",
       "</style>\n",
       "<table border=\"1\" class=\"dataframe\">\n",
       "  <thead>\n",
       "    <tr style=\"text-align: right;\">\n",
       "      <th></th>\n",
       "      <th>Date</th>\n",
       "      <th>City</th>\n",
       "      <th>State</th>\n",
       "      <th>Dead</th>\n",
       "      <th>Injured</th>\n",
       "      <th>Total</th>\n",
       "      <th>Description</th>\n",
       "      <th>Year</th>\n",
       "      <th>Month</th>\n",
       "    </tr>\n",
       "  </thead>\n",
       "  <tbody>\n",
       "    <tr>\n",
       "      <th>0</th>\n",
       "      <td>2022-07-07</td>\n",
       "      <td>Chicago</td>\n",
       "      <td>Illinois</td>\n",
       "      <td>0</td>\n",
       "      <td>4</td>\n",
       "      <td>4</td>\n",
       "      <td>Four people were wounded in a drive-by shootin...</td>\n",
       "      <td>2022</td>\n",
       "      <td>7</td>\n",
       "    </tr>\n",
       "    <tr>\n",
       "      <th>1</th>\n",
       "      <td>2022-07-06</td>\n",
       "      <td>Tampa</td>\n",
       "      <td>Florida</td>\n",
       "      <td>0</td>\n",
       "      <td>4</td>\n",
       "      <td>4</td>\n",
       "      <td>Four people were shot at an intersection in th...</td>\n",
       "      <td>2022</td>\n",
       "      <td>7</td>\n",
       "    </tr>\n",
       "    <tr>\n",
       "      <th>2</th>\n",
       "      <td>2022-07-06</td>\n",
       "      <td>Chicago</td>\n",
       "      <td>Illinois</td>\n",
       "      <td>0</td>\n",
       "      <td>4</td>\n",
       "      <td>4</td>\n",
       "      <td>Four people were shot after three men got out ...</td>\n",
       "      <td>2022</td>\n",
       "      <td>7</td>\n",
       "    </tr>\n",
       "    <tr>\n",
       "      <th>3</th>\n",
       "      <td>2022-07-06</td>\n",
       "      <td>St. Cloud</td>\n",
       "      <td>Minnesota</td>\n",
       "      <td>0</td>\n",
       "      <td>4</td>\n",
       "      <td>4</td>\n",
       "      <td>An argument in an alleyway escalated into a sh...</td>\n",
       "      <td>2022</td>\n",
       "      <td>7</td>\n",
       "    </tr>\n",
       "    <tr>\n",
       "      <th>4</th>\n",
       "      <td>2022-07-05</td>\n",
       "      <td>Youngstown</td>\n",
       "      <td>Ohio</td>\n",
       "      <td>1</td>\n",
       "      <td>3</td>\n",
       "      <td>4</td>\n",
       "      <td>Four people were shot, one fatally, in the par...</td>\n",
       "      <td>2022</td>\n",
       "      <td>7</td>\n",
       "    </tr>\n",
       "    <tr>\n",
       "      <th>...</th>\n",
       "      <td>...</td>\n",
       "      <td>...</td>\n",
       "      <td>...</td>\n",
       "      <td>...</td>\n",
       "      <td>...</td>\n",
       "      <td>...</td>\n",
       "      <td>...</td>\n",
       "      <td>...</td>\n",
       "      <td>...</td>\n",
       "    </tr>\n",
       "    <tr>\n",
       "      <th>2642</th>\n",
       "      <td>1933-06-17</td>\n",
       "      <td>Kansas City</td>\n",
       "      <td>Missouri</td>\n",
       "      <td>5</td>\n",
       "      <td>3</td>\n",
       "      <td>8</td>\n",
       "      <td>Kansas City Massacre: Four law enforcement off...</td>\n",
       "      <td>1933</td>\n",
       "      <td>6</td>\n",
       "    </tr>\n",
       "    <tr>\n",
       "      <th>2643</th>\n",
       "      <td>1929-12-25</td>\n",
       "      <td>Germanton</td>\n",
       "      <td>North Carolina</td>\n",
       "      <td>7</td>\n",
       "      <td>0</td>\n",
       "      <td>7</td>\n",
       "      <td>Murder of the Lawson family: Charles Lawson sh...</td>\n",
       "      <td>1929</td>\n",
       "      <td>12</td>\n",
       "    </tr>\n",
       "    <tr>\n",
       "      <th>2644</th>\n",
       "      <td>1929-02-14</td>\n",
       "      <td>Chicago</td>\n",
       "      <td>Illinois</td>\n",
       "      <td>7</td>\n",
       "      <td>0</td>\n",
       "      <td>7</td>\n",
       "      <td>Saint Valentine's Day Massacre: Seven members ...</td>\n",
       "      <td>1929</td>\n",
       "      <td>2</td>\n",
       "    </tr>\n",
       "    <tr>\n",
       "      <th>2645</th>\n",
       "      <td>1927-11-21</td>\n",
       "      <td>Serene</td>\n",
       "      <td>Colorado</td>\n",
       "      <td>6</td>\n",
       "      <td>0</td>\n",
       "      <td>6</td>\n",
       "      <td>Columbine Mine Massacre: A fight broke out bet...</td>\n",
       "      <td>1927</td>\n",
       "      <td>11</td>\n",
       "    </tr>\n",
       "    <tr>\n",
       "      <th>2646</th>\n",
       "      <td>1924-09-09</td>\n",
       "      <td>Hanapepe</td>\n",
       "      <td>Hawaii</td>\n",
       "      <td>20</td>\n",
       "      <td>0</td>\n",
       "      <td>20</td>\n",
       "      <td>Hanapepe Massacre: During a strike of Filipino...</td>\n",
       "      <td>1924</td>\n",
       "      <td>9</td>\n",
       "    </tr>\n",
       "  </tbody>\n",
       "</table>\n",
       "<p>2642 rows × 9 columns</p>\n",
       "</div>"
      ],
      "text/plain": [
       "           Date         City           State  Dead  Injured  Total  \\\n",
       "0    2022-07-07      Chicago        Illinois     0        4      4   \n",
       "1    2022-07-06        Tampa         Florida     0        4      4   \n",
       "2    2022-07-06      Chicago        Illinois     0        4      4   \n",
       "3    2022-07-06    St. Cloud       Minnesota     0        4      4   \n",
       "4    2022-07-05   Youngstown            Ohio     1        3      4   \n",
       "...         ...          ...             ...   ...      ...    ...   \n",
       "2642 1933-06-17  Kansas City        Missouri     5        3      8   \n",
       "2643 1929-12-25    Germanton  North Carolina     7        0      7   \n",
       "2644 1929-02-14      Chicago        Illinois     7        0      7   \n",
       "2645 1927-11-21       Serene        Colorado     6        0      6   \n",
       "2646 1924-09-09     Hanapepe          Hawaii    20        0     20   \n",
       "\n",
       "                                            Description  Year  Month  \n",
       "0     Four people were wounded in a drive-by shootin...  2022      7  \n",
       "1     Four people were shot at an intersection in th...  2022      7  \n",
       "2     Four people were shot after three men got out ...  2022      7  \n",
       "3     An argument in an alleyway escalated into a sh...  2022      7  \n",
       "4     Four people were shot, one fatally, in the par...  2022      7  \n",
       "...                                                 ...   ...    ...  \n",
       "2642  Kansas City Massacre: Four law enforcement off...  1933      6  \n",
       "2643  Murder of the Lawson family: Charles Lawson sh...  1929     12  \n",
       "2644  Saint Valentine's Day Massacre: Seven members ...  1929      2  \n",
       "2645  Columbine Mine Massacre: A fight broke out bet...  1927     11  \n",
       "2646  Hanapepe Massacre: During a strike of Filipino...  1924      9  \n",
       "\n",
       "[2642 rows x 9 columns]"
      ]
     },
     "execution_count": 81,
     "metadata": {},
     "output_type": "execute_result"
    }
   ],
   "source": [
    "ms"
   ]
  },
  {
   "cell_type": "code",
   "execution_count": 82,
   "id": "729cf98c",
   "metadata": {},
   "outputs": [],
   "source": [
    "months = ms.groupby('Month').Month.count()"
   ]
  },
  {
   "cell_type": "code",
   "execution_count": 83,
   "id": "9f1171bd",
   "metadata": {},
   "outputs": [
    {
     "data": {
      "image/png": "[encoded data removed]",
      "text/plain": [
       "<Figure size 432x288 with 1 Axes>"
      ]
     },
     "metadata": {
      "needs_background": "light"
     },
     "output_type": "display_data"
    }
   ],
   "source": [
    "sns.barplot(x=months.index, y=months.values);"
   ]
  },
  {
   "cell_type": "code",
   "execution_count": 84,
   "id": "d02550ba",
   "metadata": {},
   "outputs": [],
   "source": [
    "ms_heat = ms.loc[:, ['Month', 'State', 'Total']]"
   ]
  },
  {
   "cell_type": "code",
   "execution_count": 85,
   "id": "84b25c88",
   "metadata": {},
   "outputs": [],
   "source": [
    "ms_heat.to_csv('Datasets/ms_heat.csv')"
   ]
  },
  {
   "cell_type": "markdown",
   "id": "deeed894",
   "metadata": {},
   "source": [
    "created a heat map using Tableau"
   ]
  },
  {
   "attachments": {
    "ms_heatmap.JPG": {
     "image/jpeg": "[encoded data removed]"
    }
   },
   "cell_type": "markdown",
   "id": "a3af512b",
   "metadata": {},
   "source": [
    "![ms_heatmap.JPG](attachment:ms_heatmap.JPG)"
   ]
  },
  {
   "cell_type": "code",
   "execution_count": null,
   "id": "bbfb47a2",
   "metadata": {},
   "outputs": [],
   "source": []
  }
 ],
 "metadata": {
  "kernelspec": {
   "display_name": "Python 3 (ipykernel)",
   "language": "python",
   "name": "python3"
  },
  "language_info": {
   "codemirror_mode": {
    "name": "ipython",
    "version": 3
   },
   "file_extension": ".py",
   "mimetype": "text/x-python",
   "name": "python",
   "nbconvert_exporter": "python",
   "pygments_lexer": "ipython3",
   "version": "3.10.5"
  }
 },
 "nbformat": 4,
 "nbformat_minor": 5
}
