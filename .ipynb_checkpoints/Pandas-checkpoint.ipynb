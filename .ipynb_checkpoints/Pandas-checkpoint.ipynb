{
 "cells": [
  {
   "cell_type": "code",
   "execution_count": 1,
   "id": "f41c503d",
   "metadata": {},
   "outputs": [],
   "source": [
    "import pandas as pd"
   ]
  },
  {
   "cell_type": "markdown",
   "id": "1af2cf47",
   "metadata": {},
   "source": [
    "Pandas have 2 basic data types, series & DataFrames. series can be considered a column & DataFrame a table\n",
    "\n",
    "\n",
    "- standard way of creating a series is using a list\n",
    "- standard way of creating a DataFrame is using a dictionary"
   ]
  },
  {
   "cell_type": "code",
   "execution_count": 5,
   "id": "f7aa9fe9",
   "metadata": {},
   "outputs": [
    {
     "data": {
      "text/plain": [
       "0    221\n",
       "1    222\n",
       "2    223\n",
       "3    224\n",
       "Name: Roll numbers, dtype: int64"
      ]
     },
     "execution_count": 5,
     "metadata": {},
     "output_type": "execute_result"
    }
   ],
   "source": [
    "roll_num = [221,222,223,224]\n",
    "roll_series = pd.Series(roll_num, name='Roll numbers')\n",
    "roll_series"
   ]
  },
  {
   "cell_type": "code",
   "execution_count": 6,
   "id": "c7e85719",
   "metadata": {},
   "outputs": [
    {
     "data": {
      "text/plain": [
       "0    Himanshu\n",
       "1         Jay\n",
       "2         Ken\n",
       "3         Ron\n",
       "Name: Names, dtype: object"
      ]
     },
     "execution_count": 6,
     "metadata": {},
     "output_type": "execute_result"
    }
   ],
   "source": [
    "names = ['Himanshu', 'Jay', 'Ken', 'Ron']\n",
    "name_series = pd.Series(names, name='Names')\n",
    "name_series"
   ]
  },
  {
   "cell_type": "markdown",
   "id": "cbd50791",
   "metadata": {},
   "source": [
    "creating DataFrames"
   ]
  },
  {
   "cell_type": "code",
   "execution_count": 12,
   "id": "2e3c8803",
   "metadata": {},
   "outputs": [
    {
     "data": {
      "text/html": [
       "<div>\n",
       "<style scoped>\n",
       "    .dataframe tbody tr th:only-of-type {\n",
       "        vertical-align: middle;\n",
       "    }\n",
       "\n",
       "    .dataframe tbody tr th {\n",
       "        vertical-align: top;\n",
       "    }\n",
       "\n",
       "    .dataframe thead th {\n",
       "        text-align: right;\n",
       "    }\n",
       "</style>\n",
       "<table border=\"1\" class=\"dataframe\">\n",
       "  <thead>\n",
       "    <tr style=\"text-align: right;\">\n",
       "      <th></th>\n",
       "      <th>Student Name</th>\n",
       "      <th>Roll number</th>\n",
       "    </tr>\n",
       "  </thead>\n",
       "  <tbody>\n",
       "    <tr>\n",
       "      <th>0</th>\n",
       "      <td>Himanshu</td>\n",
       "      <td>221</td>\n",
       "    </tr>\n",
       "    <tr>\n",
       "      <th>1</th>\n",
       "      <td>Jay</td>\n",
       "      <td>222</td>\n",
       "    </tr>\n",
       "    <tr>\n",
       "      <th>2</th>\n",
       "      <td>Ken</td>\n",
       "      <td>223</td>\n",
       "    </tr>\n",
       "    <tr>\n",
       "      <th>3</th>\n",
       "      <td>Ron</td>\n",
       "      <td>224</td>\n",
       "    </tr>\n",
       "  </tbody>\n",
       "</table>\n",
       "</div>"
      ],
      "text/plain": [
       "  Student Name  Roll number\n",
       "0     Himanshu          221\n",
       "1          Jay          222\n",
       "2          Ken          223\n",
       "3          Ron          224"
      ]
     },
     "execution_count": 12,
     "metadata": {},
     "output_type": "execute_result"
    }
   ],
   "source": [
    "student_df = pd.DataFrame({'Student Name':['Himanshu', 'Jay', 'Ken', 'Ron'], 'Roll number':[221,222,223,224]})\n",
    "student_df"
   ]
  },
  {
   "cell_type": "code",
   "execution_count": 13,
   "id": "9257bc8b",
   "metadata": {},
   "outputs": [
    {
     "data": {
      "text/html": [
       "<div>\n",
       "<style scoped>\n",
       "    .dataframe tbody tr th:only-of-type {\n",
       "        vertical-align: middle;\n",
       "    }\n",
       "\n",
       "    .dataframe tbody tr th {\n",
       "        vertical-align: top;\n",
       "    }\n",
       "\n",
       "    .dataframe thead th {\n",
       "        text-align: right;\n",
       "    }\n",
       "</style>\n",
       "<table border=\"1\" class=\"dataframe\">\n",
       "  <thead>\n",
       "    <tr style=\"text-align: right;\">\n",
       "      <th></th>\n",
       "      <th>Student Name</th>\n",
       "      <th>Roll number</th>\n",
       "    </tr>\n",
       "  </thead>\n",
       "  <tbody>\n",
       "    <tr>\n",
       "      <th>0</th>\n",
       "      <td>Himanshu</td>\n",
       "      <td>221</td>\n",
       "    </tr>\n",
       "    <tr>\n",
       "      <th>1</th>\n",
       "      <td>Jay</td>\n",
       "      <td>222</td>\n",
       "    </tr>\n",
       "    <tr>\n",
       "      <th>2</th>\n",
       "      <td>Ken</td>\n",
       "      <td>223</td>\n",
       "    </tr>\n",
       "    <tr>\n",
       "      <th>3</th>\n",
       "      <td>Ron</td>\n",
       "      <td>224</td>\n",
       "    </tr>\n",
       "  </tbody>\n",
       "</table>\n",
       "</div>"
      ],
      "text/plain": [
       "  Student Name  Roll number\n",
       "0     Himanshu          221\n",
       "1          Jay          222\n",
       "2          Ken          223\n",
       "3          Ron          224"
      ]
     },
     "execution_count": 13,
     "metadata": {},
     "output_type": "execute_result"
    }
   ],
   "source": [
    "student_df1 = pd.DataFrame({'Student Name':names, 'Roll number':roll_num})\n",
    "student_df1"
   ]
  },
  {
   "cell_type": "code",
   "execution_count": null,
   "id": "a3e9dae6",
   "metadata": {},
   "outputs": [],
   "source": []
  }
 ],
 "metadata": {
  "kernelspec": {
   "display_name": "Python 3 (ipykernel)",
   "language": "python",
   "name": "python3"
  },
  "language_info": {
   "codemirror_mode": {
    "name": "ipython",
    "version": 3
   },
   "file_extension": ".py",
   "mimetype": "text/x-python",
   "name": "python",
   "nbconvert_exporter": "python",
   "pygments_lexer": "ipython3",
   "version": "3.9.12"
  }
 },
 "nbformat": 4,
 "nbformat_minor": 5
}
