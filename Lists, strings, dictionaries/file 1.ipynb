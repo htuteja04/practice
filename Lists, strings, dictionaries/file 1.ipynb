{
 "cells": [
  {
   "cell_type": "code",
   "execution_count": 1,
   "id": "59463a66",
   "metadata": {},
   "outputs": [],
   "source": [
    "my_list = ['a', 'b', 'c']"
   ]
  },
  {
   "cell_type": "markdown",
   "id": "b61c51a7",
   "metadata": {},
   "source": [
    "Often, when dealing with iterators, we also get need to keep a count of iterations. Python eases the programmers’ task by providing a built-in function enumerate() for this task. Enumerate() method adds a counter to an iterable and returns it in a form of enumerating object. This enumerated object can then be used directly for loops or converted into a list of tuples using the list() method"
   ]
  },
  {
   "cell_type": "code",
   "execution_count": 2,
   "id": "377f45f2",
   "metadata": {},
   "outputs": [
    {
     "data": {
      "text/plain": [
       "[(0, 'a'), (1, 'b'), (2, 'c')]"
      ]
     },
     "execution_count": 2,
     "metadata": {},
     "output_type": "execute_result"
    }
   ],
   "source": [
    "enum_list = list(enumerate(my_list))\n",
    "enum_list"
   ]
  },
  {
   "cell_type": "code",
   "execution_count": 3,
   "id": "773b380c",
   "metadata": {},
   "outputs": [
    {
     "name": "stdout",
     "output_type": "stream",
     "text": [
      "0 a\n",
      "1 b\n",
      "2 c\n"
     ]
    }
   ],
   "source": [
    "for i,a in enum_list:\n",
    "    print(i,a)"
   ]
  },
  {
   "cell_type": "markdown",
   "id": "b181094b",
   "metadata": {},
   "source": [
    "Definition & methods"
   ]
  },
  {
   "cell_type": "code",
   "execution_count": 4,
   "id": "ca1ea132",
   "metadata": {},
   "outputs": [
    {
     "name": "stdout",
     "output_type": "stream",
     "text": [
      "Help on class list in module builtins:\n",
      "\n",
      "class list(object)\n",
      " |  list(iterable=(), /)\n",
      " |  \n",
      " |  Built-in mutable sequence.\n",
      " |  \n",
      " |  If no argument is given, the constructor creates a new empty list.\n",
      " |  The argument must be an iterable if specified.\n",
      " |  \n",
      " |  Methods defined here:\n",
      " |  \n",
      " |  __add__(self, value, /)\n",
      " |      Return self+value.\n",
      " |  \n",
      " |  __contains__(self, key, /)\n",
      " |      Return key in self.\n",
      " |  \n",
      " |  __delitem__(self, key, /)\n",
      " |      Delete self[key].\n",
      " |  \n",
      " |  __eq__(self, value, /)\n",
      " |      Return self==value.\n",
      " |  \n",
      " |  __ge__(self, value, /)\n",
      " |      Return self>=value.\n",
      " |  \n",
      " |  __getattribute__(self, name, /)\n",
      " |      Return getattr(self, name).\n",
      " |  \n",
      " |  __getitem__(...)\n",
      " |      x.__getitem__(y) <==> x[y]\n",
      " |  \n",
      " |  __gt__(self, value, /)\n",
      " |      Return self>value.\n",
      " |  \n",
      " |  __iadd__(self, value, /)\n",
      " |      Implement self+=value.\n",
      " |  \n",
      " |  __imul__(self, value, /)\n",
      " |      Implement self*=value.\n",
      " |  \n",
      " |  __init__(self, /, *args, **kwargs)\n",
      " |      Initialize self.  See help(type(self)) for accurate signature.\n",
      " |  \n",
      " |  __iter__(self, /)\n",
      " |      Implement iter(self).\n",
      " |  \n",
      " |  __le__(self, value, /)\n",
      " |      Return self<=value.\n",
      " |  \n",
      " |  __len__(self, /)\n",
      " |      Return len(self).\n",
      " |  \n",
      " |  __lt__(self, value, /)\n",
      " |      Return self<value.\n",
      " |  \n",
      " |  __mul__(self, value, /)\n",
      " |      Return self*value.\n",
      " |  \n",
      " |  __ne__(self, value, /)\n",
      " |      Return self!=value.\n",
      " |  \n",
      " |  __repr__(self, /)\n",
      " |      Return repr(self).\n",
      " |  \n",
      " |  __reversed__(self, /)\n",
      " |      Return a reverse iterator over the list.\n",
      " |  \n",
      " |  __rmul__(self, value, /)\n",
      " |      Return value*self.\n",
      " |  \n",
      " |  __setitem__(self, key, value, /)\n",
      " |      Set self[key] to value.\n",
      " |  \n",
      " |  __sizeof__(self, /)\n",
      " |      Return the size of the list in memory, in bytes.\n",
      " |  \n",
      " |  append(self, object, /)\n",
      " |      Append object to the end of the list.\n",
      " |  \n",
      " |  clear(self, /)\n",
      " |      Remove all items from list.\n",
      " |  \n",
      " |  copy(self, /)\n",
      " |      Return a shallow copy of the list.\n",
      " |  \n",
      " |  count(self, value, /)\n",
      " |      Return number of occurrences of value.\n",
      " |  \n",
      " |  extend(self, iterable, /)\n",
      " |      Extend list by appending elements from the iterable.\n",
      " |  \n",
      " |  index(self, value, start=0, stop=9223372036854775807, /)\n",
      " |      Return first index of value.\n",
      " |      \n",
      " |      Raises ValueError if the value is not present.\n",
      " |  \n",
      " |  insert(self, index, object, /)\n",
      " |      Insert object before index.\n",
      " |  \n",
      " |  pop(self, index=-1, /)\n",
      " |      Remove and return item at index (default last).\n",
      " |      \n",
      " |      Raises IndexError if list is empty or index is out of range.\n",
      " |  \n",
      " |  remove(self, value, /)\n",
      " |      Remove first occurrence of value.\n",
      " |      \n",
      " |      Raises ValueError if the value is not present.\n",
      " |  \n",
      " |  reverse(self, /)\n",
      " |      Reverse *IN PLACE*.\n",
      " |  \n",
      " |  sort(self, /, *, key=None, reverse=False)\n",
      " |      Sort the list in ascending order and return None.\n",
      " |      \n",
      " |      The sort is in-place (i.e. the list itself is modified) and stable (i.e. the\n",
      " |      order of two equal elements is maintained).\n",
      " |      \n",
      " |      If a key function is given, apply it once to each list item and sort them,\n",
      " |      ascending or descending, according to their function values.\n",
      " |      \n",
      " |      The reverse flag can be set to sort in descending order.\n",
      " |  \n",
      " |  ----------------------------------------------------------------------\n",
      " |  Class methods defined here:\n",
      " |  \n",
      " |  __class_getitem__(...) from builtins.type\n",
      " |      See PEP 585\n",
      " |  \n",
      " |  ----------------------------------------------------------------------\n",
      " |  Static methods defined here:\n",
      " |  \n",
      " |  __new__(*args, **kwargs) from builtins.type\n",
      " |      Create and return a new object.  See help(type) for accurate signature.\n",
      " |  \n",
      " |  ----------------------------------------------------------------------\n",
      " |  Data and other attributes defined here:\n",
      " |  \n",
      " |  __hash__ = None\n",
      "\n"
     ]
    }
   ],
   "source": [
    "help(list)"
   ]
  },
  {
   "cell_type": "code",
   "execution_count": 5,
   "id": "8b29d43d",
   "metadata": {},
   "outputs": [],
   "source": [
    "integs = [1,2,4,53,56,3,56,367,74,67,457,35,7784,67]"
   ]
  },
  {
   "cell_type": "code",
   "execution_count": 6,
   "id": "b24a495a",
   "metadata": {},
   "outputs": [
    {
     "data": {
      "text/plain": [
       "False"
      ]
     },
     "execution_count": 6,
     "metadata": {},
     "output_type": "execute_result"
    }
   ],
   "source": [
    "34 in integs"
   ]
  },
  {
   "cell_type": "code",
   "execution_count": 7,
   "id": "9163bccc",
   "metadata": {},
   "outputs": [
    {
     "data": {
      "text/plain": [
       "4"
      ]
     },
     "execution_count": 7,
     "metadata": {},
     "output_type": "execute_result"
    }
   ],
   "source": [
    "integs.index(56)"
   ]
  },
  {
   "cell_type": "code",
   "execution_count": 8,
   "id": "0efc7326",
   "metadata": {},
   "outputs": [
    {
     "data": {
      "text/plain": [
       "14"
      ]
     },
     "execution_count": 8,
     "metadata": {},
     "output_type": "execute_result"
    }
   ],
   "source": [
    "len(integs)"
   ]
  },
  {
   "cell_type": "code",
   "execution_count": 9,
   "id": "74b62a75",
   "metadata": {},
   "outputs": [
    {
     "data": {
      "text/plain": [
       "9026"
      ]
     },
     "execution_count": 9,
     "metadata": {},
     "output_type": "execute_result"
    }
   ],
   "source": [
    "sum(integs)"
   ]
  },
  {
   "cell_type": "code",
   "execution_count": 10,
   "id": "2cdf678e",
   "metadata": {},
   "outputs": [
    {
     "data": {
      "text/plain": [
       "1"
      ]
     },
     "execution_count": 10,
     "metadata": {},
     "output_type": "execute_result"
    }
   ],
   "source": [
    "min(integs)"
   ]
  },
  {
   "cell_type": "code",
   "execution_count": 11,
   "id": "fd496697",
   "metadata": {},
   "outputs": [
    {
     "data": {
      "text/plain": [
       "7784"
      ]
     },
     "execution_count": 11,
     "metadata": {},
     "output_type": "execute_result"
    }
   ],
   "source": [
    "max(integs)"
   ]
  },
  {
   "cell_type": "code",
   "execution_count": 12,
   "id": "7e1e1bc7",
   "metadata": {},
   "outputs": [
    {
     "data": {
      "text/plain": [
       "644.7142857142857"
      ]
     },
     "execution_count": 12,
     "metadata": {},
     "output_type": "execute_result"
    }
   ],
   "source": [
    "sum(integs)/len(integs)"
   ]
  },
  {
   "cell_type": "code",
   "execution_count": 13,
   "id": "527f0ef4",
   "metadata": {},
   "outputs": [
    {
     "data": {
      "text/plain": [
       "67"
      ]
     },
     "execution_count": 13,
     "metadata": {},
     "output_type": "execute_result"
    }
   ],
   "source": [
    "integs[-1]"
   ]
  },
  {
   "cell_type": "code",
   "execution_count": 14,
   "id": "a6348e73",
   "metadata": {},
   "outputs": [
    {
     "data": {
      "text/plain": [
       "[1, 2, 4, 53, 56]"
      ]
     },
     "execution_count": 14,
     "metadata": {},
     "output_type": "execute_result"
    }
   ],
   "source": [
    "integs[:5]"
   ]
  },
  {
   "cell_type": "code",
   "execution_count": 15,
   "id": "59ba79aa",
   "metadata": {},
   "outputs": [
    {
     "data": {
      "text/plain": [
       "[1, 2, 4, 53, 56, 3, 56]"
      ]
     },
     "execution_count": 15,
     "metadata": {},
     "output_type": "execute_result"
    }
   ],
   "source": [
    "integs[:7]"
   ]
  },
  {
   "cell_type": "code",
   "execution_count": 16,
   "id": "3ffa7228",
   "metadata": {},
   "outputs": [
    {
     "data": {
      "text/plain": [
       "(4, 56)"
      ]
     },
     "execution_count": 16,
     "metadata": {},
     "output_type": "execute_result"
    }
   ],
   "source": [
    "integs[2], integs[6]"
   ]
  },
  {
   "cell_type": "code",
   "execution_count": 17,
   "id": "a056639c",
   "metadata": {},
   "outputs": [
    {
     "data": {
      "text/plain": [
       "[4, 53, 56, 3]"
      ]
     },
     "execution_count": 17,
     "metadata": {},
     "output_type": "execute_result"
    }
   ],
   "source": [
    "integs[2:6]"
   ]
  },
  {
   "cell_type": "code",
   "execution_count": 18,
   "id": "050130f7",
   "metadata": {},
   "outputs": [
    {
     "data": {
      "text/plain": [
       "[2, 4, 53, 56, 3, 56, 367, 74, 67, 457, 35, 7784]"
      ]
     },
     "execution_count": 18,
     "metadata": {},
     "output_type": "execute_result"
    }
   ],
   "source": [
    "integs[1:-1] # index 1 onwards & excluding last item"
   ]
  },
  {
   "cell_type": "code",
   "execution_count": 19,
   "id": "4ffeeb6b",
   "metadata": {},
   "outputs": [
    {
     "data": {
      "text/plain": [
       "[457, 35, 7784, 67]"
      ]
     },
     "execution_count": 19,
     "metadata": {},
     "output_type": "execute_result"
    }
   ],
   "source": [
    "integs[-4:] #last 4 items"
   ]
  },
  {
   "cell_type": "code",
   "execution_count": 20,
   "id": "94a99e1f",
   "metadata": {},
   "outputs": [
    {
     "data": {
      "text/plain": [
       "[1, 2, 4, 53, 56, 3, 56, 367, 74, 67, 457, 35, 7784, 67]"
      ]
     },
     "execution_count": 20,
     "metadata": {},
     "output_type": "execute_result"
    }
   ],
   "source": [
    "integs"
   ]
  },
  {
   "cell_type": "code",
   "execution_count": 21,
   "id": "d35b3bbe",
   "metadata": {},
   "outputs": [
    {
     "data": {
      "text/plain": [
       "[1, 2, 4, 53, 56, 3, 56, 367, 74, 67]"
      ]
     },
     "execution_count": 21,
     "metadata": {},
     "output_type": "execute_result"
    }
   ],
   "source": [
    "integs[:-4] #start from 0 & ignore last 4 items"
   ]
  },
  {
   "cell_type": "code",
   "execution_count": 22,
   "id": "25ea683d",
   "metadata": {},
   "outputs": [
    {
     "data": {
      "text/plain": [
       "[1]"
      ]
     },
     "execution_count": 22,
     "metadata": {},
     "output_type": "execute_result"
    }
   ],
   "source": [
    "integs[:1] #number right to the : is always excluded \":1\" indicates start from 0th index & exclude 1st index item"
   ]
  },
  {
   "cell_type": "code",
   "execution_count": 23,
   "id": "c3b796ec",
   "metadata": {},
   "outputs": [
    {
     "data": {
      "text/plain": [
       "[1, 2, 4, 53, 56, 3, 56, 367, 74, 67, 457, 35, 7784, 67]"
      ]
     },
     "execution_count": 23,
     "metadata": {},
     "output_type": "execute_result"
    }
   ],
   "source": [
    "integs[:]"
   ]
  },
  {
   "cell_type": "markdown",
   "id": "65988fee",
   "metadata": {},
   "source": [
    "List comprehension & loops"
   ]
  },
  {
   "cell_type": "code",
   "execution_count": 24,
   "id": "9ce3a4fc",
   "metadata": {},
   "outputs": [
    {
     "data": {
      "text/plain": [
       "[0, 1, 4, 9, 16, 25, 36, 49, 64, 81]"
      ]
     },
     "execution_count": 24,
     "metadata": {},
     "output_type": "execute_result"
    }
   ],
   "source": [
    "[num ** 2 for num in range(10)]"
   ]
  },
  {
   "cell_type": "code",
   "execution_count": 25,
   "id": "6a3f8cd3",
   "metadata": {},
   "outputs": [
    {
     "data": {
      "text/plain": [
       "[0, 4, 16, 36, 64]"
      ]
     },
     "execution_count": 25,
     "metadata": {},
     "output_type": "execute_result"
    }
   ],
   "source": [
    "[num ** 2 for num in range(10) if num % 2 == 0] #list comprehension with a condition"
   ]
  },
  {
   "cell_type": "code",
   "execution_count": 26,
   "id": "2ff2d90d",
   "metadata": {},
   "outputs": [],
   "source": [
    "planets = ['Mercury', 'Venus', 'Earth', 'Mars', 'Jupiter', 'Saturn', 'Uranus', 'Neptune']"
   ]
  },
  {
   "cell_type": "code",
   "execution_count": 27,
   "id": "b2c6e97b",
   "metadata": {},
   "outputs": [
    {
     "name": "stdout",
     "output_type": "stream",
     "text": [
      "Mercury\n",
      "Venus\n",
      "Earth\n",
      "Mars\n",
      "Jupiter\n",
      "Saturn\n",
      "Uranus\n",
      "Neptune\n"
     ]
    }
   ],
   "source": [
    "for planet in planets:\n",
    "    print(planet)"
   ]
  },
  {
   "cell_type": "markdown",
   "id": "ad15bc42",
   "metadata": {},
   "source": [
    "while loop"
   ]
  },
  {
   "cell_type": "code",
   "execution_count": 28,
   "id": "774faa87",
   "metadata": {},
   "outputs": [
    {
     "name": "stdout",
     "output_type": "stream",
     "text": [
      "Mercury Venus Earth Mars Jupiter Saturn Uranus Neptune "
     ]
    }
   ],
   "source": [
    "i = 0\n",
    "while i < len(planets):\n",
    "    print(planets[i], end=\" \")\n",
    "    i+=1"
   ]
  },
  {
   "cell_type": "code",
   "execution_count": 29,
   "id": "cc51725f",
   "metadata": {},
   "outputs": [
    {
     "data": {
      "text/plain": [
       "['Venus', 'Earth', 'Mars', 'Saturn', 'Uranus']"
      ]
     },
     "execution_count": 29,
     "metadata": {},
     "output_type": "execute_result"
    }
   ],
   "source": [
    "[planet for planet in planets if len(planet) < 7] #similar to SQL SELECT, FROM, WHERE"
   ]
  },
  {
   "cell_type": "markdown",
   "id": "d31dc354",
   "metadata": {},
   "source": [
    "in the above cell we are returning just planet name, but we can customize what we return using string methods"
   ]
  },
  {
   "cell_type": "code",
   "execution_count": 30,
   "id": "88077a69",
   "metadata": {},
   "outputs": [
    {
     "data": {
      "text/plain": [
       "['VENUS', 'EARTH', 'MARS', 'SATURN', 'URANUS']"
      ]
     },
     "execution_count": 30,
     "metadata": {},
     "output_type": "execute_result"
    }
   ],
   "source": [
    "[planet.upper() for planet in planets if len(planet) < 7]"
   ]
  },
  {
   "cell_type": "code",
   "execution_count": 31,
   "id": "b6433f57",
   "metadata": {},
   "outputs": [
    {
     "data": {
      "text/plain": [
       "['Mercury!',\n",
       " 'Venus!',\n",
       " 'Earth!',\n",
       " 'Mars!',\n",
       " 'Jupiter!',\n",
       " 'Saturn!',\n",
       " 'Uranus!',\n",
       " 'Neptune!']"
      ]
     },
     "execution_count": 31,
     "metadata": {},
     "output_type": "execute_result"
    }
   ],
   "source": [
    "[planet+ \"!\" for planet in planets]"
   ]
  },
  {
   "cell_type": "code",
   "execution_count": 32,
   "id": "0abe3017",
   "metadata": {},
   "outputs": [
    {
     "data": {
      "text/plain": [
       "[44, 16, 78, 90, 10, 42]"
      ]
     },
     "execution_count": 32,
     "metadata": {},
     "output_type": "execute_result"
    }
   ],
   "source": [
    "nums = [23,45,44,16,78,90,10,42,31,37,89]\n",
    "[num for num in nums if num % 2 == 0]"
   ]
  },
  {
   "cell_type": "code",
   "execution_count": 33,
   "id": "19eaaf0c",
   "metadata": {},
   "outputs": [
    {
     "data": {
      "text/plain": [
       "6"
      ]
     },
     "execution_count": 33,
     "metadata": {},
     "output_type": "execute_result"
    }
   ],
   "source": [
    "len([num for num in nums if num % 2 == 0]) #count of even numbers"
   ]
  },
  {
   "cell_type": "markdown",
   "id": "ee98df9a",
   "metadata": {},
   "source": [
    "list comprehension always returns a new list"
   ]
  },
  {
   "cell_type": "markdown",
   "id": "b352c63e",
   "metadata": {},
   "source": [
    "since we can create a list of elements, modified elements, we can also create a list of bools"
   ]
  },
  {
   "cell_type": "code",
   "execution_count": 34,
   "id": "554db12d",
   "metadata": {},
   "outputs": [
    {
     "data": {
      "text/plain": [
       "[False, True, True, True, False, False, False, False]"
      ]
     },
     "execution_count": 34,
     "metadata": {},
     "output_type": "execute_result"
    }
   ],
   "source": [
    "[len(planet) < 6 for planet in planets]"
   ]
  },
  {
   "cell_type": "markdown",
   "id": "0c643a58",
   "metadata": {},
   "source": [
    "list of bools is created by providing the condition itself in element part of list comprehension"
   ]
  },
  {
   "cell_type": "markdown",
   "id": "ed925fd5",
   "metadata": {},
   "source": [
    "list comprehension syntax consists of 3 parts, analogical to SQL SELECT, FROM, WHERE statement\n",
    "1. element/modified element - return number/squared number, string/capitalized string\n",
    "2. for element in list -  specifies which list to iterate over\n",
    "3. condition - optional, if condition is not specified all items will be considered "
   ]
  },
  {
   "cell_type": "markdown",
   "id": "3050f3c1",
   "metadata": {},
   "source": [
    "example:"
   ]
  },
  {
   "cell_type": "code",
   "execution_count": 35,
   "id": "e1e3461e",
   "metadata": {},
   "outputs": [],
   "source": [
    "list_a = [1,2,3,4,5]"
   ]
  },
  {
   "cell_type": "code",
   "execution_count": 36,
   "id": "3e58fe59",
   "metadata": {},
   "outputs": [
    {
     "data": {
      "text/plain": [
       "[1, 8, 27, 64, 125]"
      ]
     },
     "execution_count": 36,
     "metadata": {},
     "output_type": "execute_result"
    }
   ],
   "source": [
    "[i ** 3 for i in list_a]"
   ]
  },
  {
   "cell_type": "code",
   "execution_count": 37,
   "id": "653dbf08",
   "metadata": {},
   "outputs": [
    {
     "data": {
      "text/plain": [
       "['PASTA!',\n",
       " 'CHEESE!',\n",
       " 'SAUCE!',\n",
       " 'SALAD!',\n",
       " 'FRUITS!',\n",
       " 'OREGANO!',\n",
       " 'CAKE!',\n",
       " 'TISSUES!',\n",
       " 'GLOVES!']"
      ]
     },
     "execution_count": 37,
     "metadata": {},
     "output_type": "execute_result"
    }
   ],
   "source": [
    "list_b = ['pasta', 'cheese', 'sauce', 'salad', 'fruits', 'oregano', 'cake', 'tissues', 'gloves']\n",
    "[b.upper()+\"!\" for b in list_b]"
   ]
  },
  {
   "cell_type": "code",
   "execution_count": 38,
   "id": "bed1ff73",
   "metadata": {},
   "outputs": [
    {
     "data": {
      "text/plain": [
       "['cheese', 'fruits', 'oregano', 'tissues', 'gloves']"
      ]
     },
     "execution_count": 38,
     "metadata": {},
     "output_type": "execute_result"
    }
   ],
   "source": [
    "[b for b in list_b if len(b) > 5]"
   ]
  },
  {
   "cell_type": "code",
   "execution_count": 39,
   "id": "6ed380de",
   "metadata": {},
   "outputs": [
    {
     "data": {
      "text/plain": [
       "[True, False, False, True, False]"
      ]
     },
     "execution_count": 39,
     "metadata": {},
     "output_type": "execute_result"
    }
   ],
   "source": [
    "list_c = [[1,2,3],[4,5,6,7,8],[9,8,6,5],[1,2],[0,0,0,0]]\n",
    "[len(item) < 4 for item in list_c ]"
   ]
  },
  {
   "cell_type": "code",
   "execution_count": 40,
   "id": "229b0f54",
   "metadata": {},
   "outputs": [],
   "source": [
    "c = [len(item) < 4 for item in list_c ]\n",
    "true_c = [i for i in c if i==True]"
   ]
  },
  {
   "cell_type": "code",
   "execution_count": 41,
   "id": "90f8a6bd",
   "metadata": {},
   "outputs": [
    {
     "data": {
      "text/plain": [
       "2"
      ]
     },
     "execution_count": 41,
     "metadata": {},
     "output_type": "execute_result"
    }
   ],
   "source": [
    "len(true_c)"
   ]
  },
  {
   "cell_type": "markdown",
   "id": "dea14cd4",
   "metadata": {},
   "source": [
    "list comprehension can be applied on a list of bools too. "
   ]
  },
  {
   "cell_type": "markdown",
   "id": "3a3909d3",
   "metadata": {},
   "source": [
    "strings"
   ]
  },
  {
   "cell_type": "markdown",
   "id": "5f1d0e61",
   "metadata": {},
   "source": [
    "strings are sequence of characters"
   ]
  },
  {
   "cell_type": "code",
   "execution_count": 42,
   "id": "f2124daa",
   "metadata": {},
   "outputs": [],
   "source": [
    "my_string = \"Dreams are messages from deep\""
   ]
  },
  {
   "cell_type": "markdown",
   "id": "82c5ed09",
   "metadata": {},
   "source": [
    "use split method to make a list"
   ]
  },
  {
   "cell_type": "code",
   "execution_count": 43,
   "id": "acb551e1",
   "metadata": {},
   "outputs": [
    {
     "data": {
      "text/plain": [
       "['Dreams', 'are', 'messages', 'from', 'deep']"
      ]
     },
     "execution_count": 43,
     "metadata": {},
     "output_type": "execute_result"
    }
   ],
   "source": [
    "my_string.split()"
   ]
  },
  {
   "cell_type": "markdown",
   "id": "f442e11b",
   "metadata": {},
   "source": [
    "similar to lists, strings can be sliced/iterated"
   ]
  },
  {
   "cell_type": "code",
   "execution_count": 44,
   "id": "76b3da84",
   "metadata": {},
   "outputs": [
    {
     "data": {
      "text/plain": [
       "['G', 'e', 'r', 'm', 'a', 'n', 'y']"
      ]
     },
     "execution_count": 44,
     "metadata": {},
     "output_type": "execute_result"
    }
   ],
   "source": [
    "string_a = 'Germany'\n",
    "[a for a in string_a]"
   ]
  },
  {
   "cell_type": "code",
   "execution_count": 45,
   "id": "0ee5b1fa",
   "metadata": {},
   "outputs": [
    {
     "data": {
      "text/plain": [
       "'e'"
      ]
     },
     "execution_count": 45,
     "metadata": {},
     "output_type": "execute_result"
    }
   ],
   "source": [
    "a = string_a\n",
    "a[1]"
   ]
  },
  {
   "cell_type": "code",
   "execution_count": 46,
   "id": "531bfdac",
   "metadata": {},
   "outputs": [
    {
     "data": {
      "text/plain": [
       "'Germ'"
      ]
     },
     "execution_count": 46,
     "metadata": {},
     "output_type": "execute_result"
    }
   ],
   "source": [
    "a[:4]"
   ]
  },
  {
   "cell_type": "code",
   "execution_count": 47,
   "id": "bd463f17",
   "metadata": {},
   "outputs": [
    {
     "data": {
      "text/plain": [
       "'n'"
      ]
     },
     "execution_count": 47,
     "metadata": {},
     "output_type": "execute_result"
    }
   ],
   "source": [
    "a[-2]"
   ]
  },
  {
   "cell_type": "code",
   "execution_count": 48,
   "id": "ba404cf2",
   "metadata": {},
   "outputs": [
    {
     "data": {
      "text/plain": [
       "'any'"
      ]
     },
     "execution_count": 48,
     "metadata": {},
     "output_type": "execute_result"
    }
   ],
   "source": [
    "a[-3:]"
   ]
  },
  {
   "cell_type": "markdown",
   "id": "0dc03440",
   "metadata": {},
   "source": [
    "unlike lists, strings are immutable, cannot be modified & updated"
   ]
  },
  {
   "cell_type": "code",
   "execution_count": 49,
   "id": "bc885224",
   "metadata": {},
   "outputs": [
    {
     "data": {
      "text/plain": [
       "['G', 'E', 'R', 'M', 'A', 'N', 'Y']"
      ]
     },
     "execution_count": 49,
     "metadata": {},
     "output_type": "execute_result"
    }
   ],
   "source": [
    "[a.upper() for a in string_a]"
   ]
  },
  {
   "cell_type": "code",
   "execution_count": 56,
   "id": "04403729",
   "metadata": {},
   "outputs": [
    {
     "data": {
      "text/plain": [
       "'Dreams are messages from deep'"
      ]
     },
     "execution_count": 56,
     "metadata": {},
     "output_type": "execute_result"
    }
   ],
   "source": [
    "my_string"
   ]
  },
  {
   "cell_type": "code",
   "execution_count": 57,
   "id": "d645d54e",
   "metadata": {},
   "outputs": [
    {
     "data": {
      "text/plain": [
       "'dreams are messages from deep'"
      ]
     },
     "execution_count": 57,
     "metadata": {},
     "output_type": "execute_result"
    }
   ],
   "source": [
    "my_string.lower()"
   ]
  },
  {
   "cell_type": "code",
   "execution_count": 58,
   "id": "1211cf00",
   "metadata": {},
   "outputs": [
    {
     "data": {
      "text/plain": [
       "True"
      ]
     },
     "execution_count": 58,
     "metadata": {},
     "output_type": "execute_result"
    }
   ],
   "source": [
    "my_string.startswith('Dreams')"
   ]
  },
  {
   "cell_type": "code",
   "execution_count": 59,
   "id": "e8c12dc5",
   "metadata": {},
   "outputs": [
    {
     "data": {
      "text/plain": [
       "True"
      ]
     },
     "execution_count": 59,
     "metadata": {},
     "output_type": "execute_result"
    }
   ],
   "source": [
    "my_string.endswith('deep')"
   ]
  },
  {
   "cell_type": "markdown",
   "id": "bec5e353",
   "metadata": {},
   "source": [
    "substrings can be searched within a string"
   ]
  },
  {
   "cell_type": "code",
   "execution_count": 60,
   "id": "1b81fb24",
   "metadata": {},
   "outputs": [
    {
     "data": {
      "text/plain": [
       "20"
      ]
     },
     "execution_count": 60,
     "metadata": {},
     "output_type": "execute_result"
    }
   ],
   "source": [
    "my_string.index('from')"
   ]
  },
  {
   "cell_type": "markdown",
   "id": "5fe54425",
   "metadata": {},
   "source": [
    "split creates lists from strings & join does the opposite"
   ]
  },
  {
   "cell_type": "code",
   "execution_count": 62,
   "id": "baa9a42b",
   "metadata": {},
   "outputs": [
    {
     "data": {
      "text/plain": [
       "['Dreams', 'are', 'messages', 'from', 'deep']"
      ]
     },
     "execution_count": 62,
     "metadata": {},
     "output_type": "execute_result"
    }
   ],
   "source": [
    "my_string.split()"
   ]
  },
  {
   "cell_type": "code",
   "execution_count": 64,
   "id": "7043210c",
   "metadata": {},
   "outputs": [
    {
     "data": {
      "text/plain": [
       "'I like pancakes'"
      ]
     },
     "execution_count": 64,
     "metadata": {},
     "output_type": "execute_result"
    }
   ],
   "source": [
    "a_list = ['I', 'like', 'pancakes']\n",
    "' '.join(a_list)"
   ]
  },
  {
   "cell_type": "markdown",
   "id": "b3ba47e5",
   "metadata": {},
   "source": [
    "both split & join use delimeters. delimeters specify how to break/connect parts of a string"
   ]
  },
  {
   "cell_type": "markdown",
   "id": "bceecedc",
   "metadata": {},
   "source": [
    "using ',' comma as a delimeter"
   ]
  },
  {
   "cell_type": "code",
   "execution_count": 66,
   "id": "cf66514b",
   "metadata": {},
   "outputs": [
    {
     "data": {
      "text/plain": [
       "['everyday', ' it gets', ' a little', ' easier']"
      ]
     },
     "execution_count": 66,
     "metadata": {},
     "output_type": "execute_result"
    }
   ],
   "source": [
    "string_b = 'everyday, it gets, a little, easier'\n",
    "string_b.split(',')"
   ]
  },
  {
   "cell_type": "code",
   "execution_count": 67,
   "id": "9c521ab0",
   "metadata": {},
   "outputs": [
    {
     "data": {
      "text/plain": [
       "['19', '11', '1997']"
      ]
     },
     "execution_count": 67,
     "metadata": {},
     "output_type": "execute_result"
    }
   ],
   "source": [
    "datestr = '19-11-1997'\n",
    "datestr.split('-')"
   ]
  },
  {
   "cell_type": "code",
   "execution_count": 69,
   "id": "97821b55",
   "metadata": {},
   "outputs": [],
   "source": [
    "d,m,y = datestr.split('-')"
   ]
  },
  {
   "cell_type": "code",
   "execution_count": 70,
   "id": "a151e4c3",
   "metadata": {},
   "outputs": [
    {
     "data": {
      "text/plain": [
       "('19', '11', '1997')"
      ]
     },
     "execution_count": 70,
     "metadata": {},
     "output_type": "execute_result"
    }
   ],
   "source": [
    "d,m,y"
   ]
  },
  {
   "cell_type": "code",
   "execution_count": 71,
   "id": "c5c4d44b",
   "metadata": {},
   "outputs": [
    {
     "data": {
      "text/plain": [
       "'11/19/1997'"
      ]
     },
     "execution_count": 71,
     "metadata": {},
     "output_type": "execute_result"
    }
   ],
   "source": [
    "'/'.join([m,d,y])"
   ]
  },
  {
   "cell_type": "markdown",
   "id": "a7d2c0ee",
   "metadata": {},
   "source": [
    "split & join have 2 parts, \n",
    "\n",
    "split:\n",
    "\n",
    "\n",
    "    1. string which we want to split\n",
    "    2. delimeter, character based on which strings will get split & create a list\n"
   ]
  },
  {
   "cell_type": "code",
   "execution_count": 79,
   "id": "ae61ab6e",
   "metadata": {},
   "outputs": [],
   "source": [
    "greeting = 'good-morning-Mr-Singh'"
   ]
  },
  {
   "cell_type": "code",
   "execution_count": 80,
   "id": "c6d76659",
   "metadata": {},
   "outputs": [
    {
     "data": {
      "text/plain": [
       "['good', 'morning', 'Mr', 'Singh']"
      ]
     },
     "execution_count": 80,
     "metadata": {},
     "output_type": "execute_result"
    }
   ],
   "source": [
    "greeting.split('-')"
   ]
  },
  {
   "cell_type": "markdown",
   "id": "ccf66729",
   "metadata": {},
   "source": [
    "here greeting is string & '-' is delimter"
   ]
  },
  {
   "cell_type": "markdown",
   "id": "c3c37005",
   "metadata": {},
   "source": [
    "join:\n",
    "    \n",
    "    1. character seperator which will connect the elements of a list\n",
    "    2. list whose elements we want to join to create a string"
   ]
  },
  {
   "cell_type": "code",
   "execution_count": 81,
   "id": "900728d8",
   "metadata": {},
   "outputs": [
    {
     "data": {
      "text/plain": [
       "('11', '19', '1997')"
      ]
     },
     "execution_count": 81,
     "metadata": {},
     "output_type": "execute_result"
    }
   ],
   "source": [
    "m,d,y"
   ]
  },
  {
   "cell_type": "markdown",
   "id": "754aa617",
   "metadata": {},
   "source": [
    "we can use m,d,y in a list & join them together to create a string"
   ]
  },
  {
   "cell_type": "code",
   "execution_count": 87,
   "id": "9d772161",
   "metadata": {},
   "outputs": [
    {
     "data": {
      "text/plain": [
       "'19--11--1997'"
      ]
     },
     "execution_count": 87,
     "metadata": {},
     "output_type": "execute_result"
    }
   ],
   "source": [
    "('--').join([d,m,y])"
   ]
  },
  {
   "cell_type": "markdown",
   "id": "9dc21335",
   "metadata": {},
   "source": [
    "in the above example '--' is the character seperator that joins list elements together & creates a string"
   ]
  },
  {
   "cell_type": "markdown",
   "id": "ad250e3c",
   "metadata": {},
   "source": [
    "Dictionaries"
   ]
  },
  {
   "cell_type": "markdown",
   "id": "f0ed2ed7",
   "metadata": {},
   "source": [
    "Dictionaries are a built-in Python data structure for mapping keys to values. They use a key-value pairing system to store items. Items can be accessed using their keys"
   ]
  },
  {
   "cell_type": "code",
   "execution_count": 88,
   "id": "fdadefcb",
   "metadata": {},
   "outputs": [],
   "source": [
    "person_1 = {'name':'Himanshu', 'age':24, 'occupation':'analyst', 'eye-color':'brown'}"
   ]
  },
  {
   "cell_type": "code",
   "execution_count": 89,
   "id": "bdf3433d",
   "metadata": {},
   "outputs": [
    {
     "data": {
      "text/plain": [
       "{'name': 'Himanshu', 'age': 24, 'occupation': 'analyst', 'eye-color': 'brown'}"
      ]
     },
     "execution_count": 89,
     "metadata": {},
     "output_type": "execute_result"
    }
   ],
   "source": [
    "person_1"
   ]
  },
  {
   "cell_type": "code",
   "execution_count": 90,
   "id": "87853815",
   "metadata": {},
   "outputs": [
    {
     "data": {
      "text/plain": [
       "dict"
      ]
     },
     "execution_count": 90,
     "metadata": {},
     "output_type": "execute_result"
    }
   ],
   "source": [
    "type(person_1)"
   ]
  },
  {
   "cell_type": "code",
   "execution_count": 91,
   "id": "f7cbeec9",
   "metadata": {},
   "outputs": [
    {
     "data": {
      "text/plain": [
       "24"
      ]
     },
     "execution_count": 91,
     "metadata": {},
     "output_type": "execute_result"
    }
   ],
   "source": [
    "person_1['age']"
   ]
  },
  {
   "cell_type": "code",
   "execution_count": 92,
   "id": "028f8f69",
   "metadata": {},
   "outputs": [
    {
     "data": {
      "text/plain": [
       "'brown'"
      ]
     },
     "execution_count": 92,
     "metadata": {},
     "output_type": "execute_result"
    }
   ],
   "source": [
    "person_1['eye-color']"
   ]
  },
  {
   "cell_type": "markdown",
   "id": "3bba2364",
   "metadata": {},
   "source": [
    "dictionaries are not immutable, values can be updated using keys"
   ]
  },
  {
   "cell_type": "code",
   "execution_count": 93,
   "id": "dbd5508a",
   "metadata": {},
   "outputs": [],
   "source": [
    "person_1['age'] = 25"
   ]
  },
  {
   "cell_type": "code",
   "execution_count": 94,
   "id": "8beae645",
   "metadata": {},
   "outputs": [
    {
     "data": {
      "text/plain": [
       "{'name': 'Himanshu', 'age': 25, 'occupation': 'analyst', 'eye-color': 'brown'}"
      ]
     },
     "execution_count": 94,
     "metadata": {},
     "output_type": "execute_result"
    }
   ],
   "source": [
    "person_1"
   ]
  },
  {
   "cell_type": "markdown",
   "id": "946132ad",
   "metadata": {},
   "source": [
    "similar to strings & lists, dictionaries also support list comprehension"
   ]
  },
  {
   "cell_type": "code",
   "execution_count": null,
   "id": "2d5f0b9a",
   "metadata": {},
   "outputs": [],
   "source": []
  }
 ],
 "metadata": {
  "kernelspec": {
   "display_name": "Python 3 (ipykernel)",
   "language": "python",
   "name": "python3"
  },
  "language_info": {
   "codemirror_mode": {
    "name": "ipython",
    "version": 3
   },
   "file_extension": ".py",
   "mimetype": "text/x-python",
   "name": "python",
   "nbconvert_exporter": "python",
   "pygments_lexer": "ipython3",
   "version": "3.9.12"
  }
 },
 "nbformat": 4,
 "nbformat_minor": 5
}
