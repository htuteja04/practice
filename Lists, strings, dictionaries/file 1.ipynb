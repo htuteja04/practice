{
 "cells": [
  {
   "cell_type": "code",
   "execution_count": 1,
   "id": "59463a66",
   "metadata": {},
   "outputs": [],
   "source": [
    "my_list = ['a', 'b', 'c']"
   ]
  },
  {
   "cell_type": "markdown",
   "id": "b61c51a7",
   "metadata": {},
   "source": [
    "Often, when dealing with iterators, we also get need to keep a count of iterations. Python eases the programmers’ task by providing a built-in function enumerate() for this task. Enumerate() method adds a counter to an iterable and returns it in a form of enumerating object. This enumerated object can then be used directly for loops or converted into a list of tuples using the list() method"
   ]
  },
  {
   "cell_type": "code",
   "execution_count": 2,
   "id": "377f45f2",
   "metadata": {},
   "outputs": [
    {
     "data": {
      "text/plain": [
       "[(0, 'a'), (1, 'b'), (2, 'c')]"
      ]
     },
     "execution_count": 2,
     "metadata": {},
     "output_type": "execute_result"
    }
   ],
   "source": [
    "enum_list = list(enumerate(my_list))\n",
    "enum_list"
   ]
  },
  {
   "cell_type": "code",
   "execution_count": 3,
   "id": "773b380c",
   "metadata": {},
   "outputs": [
    {
     "name": "stdout",
     "output_type": "stream",
     "text": [
      "0 a\n",
      "1 b\n",
      "2 c\n"
     ]
    }
   ],
   "source": [
    "for i,a in enum_list:\n",
    "    print(i,a)"
   ]
  },
  {
   "cell_type": "markdown",
   "id": "b181094b",
   "metadata": {},
   "source": [
    "Definition & methods"
   ]
  },
  {
   "cell_type": "code",
   "execution_count": 4,
   "id": "ca1ea132",
   "metadata": {},
   "outputs": [
    {
     "name": "stdout",
     "output_type": "stream",
     "text": [
      "Help on class list in module builtins:\n",
      "\n",
      "class list(object)\n",
      " |  list(iterable=(), /)\n",
      " |  \n",
      " |  Built-in mutable sequence.\n",
      " |  \n",
      " |  If no argument is given, the constructor creates a new empty list.\n",
      " |  The argument must be an iterable if specified.\n",
      " |  \n",
      " |  Methods defined here:\n",
      " |  \n",
      " |  __add__(self, value, /)\n",
      " |      Return self+value.\n",
      " |  \n",
      " |  __contains__(self, key, /)\n",
      " |      Return key in self.\n",
      " |  \n",
      " |  __delitem__(self, key, /)\n",
      " |      Delete self[key].\n",
      " |  \n",
      " |  __eq__(self, value, /)\n",
      " |      Return self==value.\n",
      " |  \n",
      " |  __ge__(self, value, /)\n",
      " |      Return self>=value.\n",
      " |  \n",
      " |  __getattribute__(self, name, /)\n",
      " |      Return getattr(self, name).\n",
      " |  \n",
      " |  __getitem__(...)\n",
      " |      x.__getitem__(y) <==> x[y]\n",
      " |  \n",
      " |  __gt__(self, value, /)\n",
      " |      Return self>value.\n",
      " |  \n",
      " |  __iadd__(self, value, /)\n",
      " |      Implement self+=value.\n",
      " |  \n",
      " |  __imul__(self, value, /)\n",
      " |      Implement self*=value.\n",
      " |  \n",
      " |  __init__(self, /, *args, **kwargs)\n",
      " |      Initialize self.  See help(type(self)) for accurate signature.\n",
      " |  \n",
      " |  __iter__(self, /)\n",
      " |      Implement iter(self).\n",
      " |  \n",
      " |  __le__(self, value, /)\n",
      " |      Return self<=value.\n",
      " |  \n",
      " |  __len__(self, /)\n",
      " |      Return len(self).\n",
      " |  \n",
      " |  __lt__(self, value, /)\n",
      " |      Return self<value.\n",
      " |  \n",
      " |  __mul__(self, value, /)\n",
      " |      Return self*value.\n",
      " |  \n",
      " |  __ne__(self, value, /)\n",
      " |      Return self!=value.\n",
      " |  \n",
      " |  __repr__(self, /)\n",
      " |      Return repr(self).\n",
      " |  \n",
      " |  __reversed__(self, /)\n",
      " |      Return a reverse iterator over the list.\n",
      " |  \n",
      " |  __rmul__(self, value, /)\n",
      " |      Return value*self.\n",
      " |  \n",
      " |  __setitem__(self, key, value, /)\n",
      " |      Set self[key] to value.\n",
      " |  \n",
      " |  __sizeof__(self, /)\n",
      " |      Return the size of the list in memory, in bytes.\n",
      " |  \n",
      " |  append(self, object, /)\n",
      " |      Append object to the end of the list.\n",
      " |  \n",
      " |  clear(self, /)\n",
      " |      Remove all items from list.\n",
      " |  \n",
      " |  copy(self, /)\n",
      " |      Return a shallow copy of the list.\n",
      " |  \n",
      " |  count(self, value, /)\n",
      " |      Return number of occurrences of value.\n",
      " |  \n",
      " |  extend(self, iterable, /)\n",
      " |      Extend list by appending elements from the iterable.\n",
      " |  \n",
      " |  index(self, value, start=0, stop=9223372036854775807, /)\n",
      " |      Return first index of value.\n",
      " |      \n",
      " |      Raises ValueError if the value is not present.\n",
      " |  \n",
      " |  insert(self, index, object, /)\n",
      " |      Insert object before index.\n",
      " |  \n",
      " |  pop(self, index=-1, /)\n",
      " |      Remove and return item at index (default last).\n",
      " |      \n",
      " |      Raises IndexError if list is empty or index is out of range.\n",
      " |  \n",
      " |  remove(self, value, /)\n",
      " |      Remove first occurrence of value.\n",
      " |      \n",
      " |      Raises ValueError if the value is not present.\n",
      " |  \n",
      " |  reverse(self, /)\n",
      " |      Reverse *IN PLACE*.\n",
      " |  \n",
      " |  sort(self, /, *, key=None, reverse=False)\n",
      " |      Sort the list in ascending order and return None.\n",
      " |      \n",
      " |      The sort is in-place (i.e. the list itself is modified) and stable (i.e. the\n",
      " |      order of two equal elements is maintained).\n",
      " |      \n",
      " |      If a key function is given, apply it once to each list item and sort them,\n",
      " |      ascending or descending, according to their function values.\n",
      " |      \n",
      " |      The reverse flag can be set to sort in descending order.\n",
      " |  \n",
      " |  ----------------------------------------------------------------------\n",
      " |  Class methods defined here:\n",
      " |  \n",
      " |  __class_getitem__(...) from builtins.type\n",
      " |      See PEP 585\n",
      " |  \n",
      " |  ----------------------------------------------------------------------\n",
      " |  Static methods defined here:\n",
      " |  \n",
      " |  __new__(*args, **kwargs) from builtins.type\n",
      " |      Create and return a new object.  See help(type) for accurate signature.\n",
      " |  \n",
      " |  ----------------------------------------------------------------------\n",
      " |  Data and other attributes defined here:\n",
      " |  \n",
      " |  __hash__ = None\n",
      "\n"
     ]
    }
   ],
   "source": [
    "help(list)"
   ]
  },
  {
   "cell_type": "code",
   "execution_count": 5,
   "id": "8b29d43d",
   "metadata": {},
   "outputs": [],
   "source": [
    "integs = [1,2,4,53,56,3,56,367,74,67,457,35,7784,67]"
   ]
  },
  {
   "cell_type": "code",
   "execution_count": 6,
   "id": "b24a495a",
   "metadata": {},
   "outputs": [
    {
     "data": {
      "text/plain": [
       "False"
      ]
     },
     "execution_count": 6,
     "metadata": {},
     "output_type": "execute_result"
    }
   ],
   "source": [
    "34 in integs"
   ]
  },
  {
   "cell_type": "code",
   "execution_count": 7,
   "id": "9163bccc",
   "metadata": {},
   "outputs": [
    {
     "data": {
      "text/plain": [
       "4"
      ]
     },
     "execution_count": 7,
     "metadata": {},
     "output_type": "execute_result"
    }
   ],
   "source": [
    "integs.index(56)"
   ]
  },
  {
   "cell_type": "code",
   "execution_count": 8,
   "id": "0efc7326",
   "metadata": {},
   "outputs": [
    {
     "data": {
      "text/plain": [
       "14"
      ]
     },
     "execution_count": 8,
     "metadata": {},
     "output_type": "execute_result"
    }
   ],
   "source": [
    "len(integs)"
   ]
  },
  {
   "cell_type": "code",
   "execution_count": 9,
   "id": "74b62a75",
   "metadata": {},
   "outputs": [
    {
     "data": {
      "text/plain": [
       "9026"
      ]
     },
     "execution_count": 9,
     "metadata": {},
     "output_type": "execute_result"
    }
   ],
   "source": [
    "sum(integs)"
   ]
  },
  {
   "cell_type": "code",
   "execution_count": 10,
   "id": "2cdf678e",
   "metadata": {},
   "outputs": [
    {
     "data": {
      "text/plain": [
       "1"
      ]
     },
     "execution_count": 10,
     "metadata": {},
     "output_type": "execute_result"
    }
   ],
   "source": [
    "min(integs)"
   ]
  },
  {
   "cell_type": "code",
   "execution_count": 11,
   "id": "fd496697",
   "metadata": {},
   "outputs": [
    {
     "data": {
      "text/plain": [
       "7784"
      ]
     },
     "execution_count": 11,
     "metadata": {},
     "output_type": "execute_result"
    }
   ],
   "source": [
    "max(integs)"
   ]
  },
  {
   "cell_type": "code",
   "execution_count": 12,
   "id": "7e1e1bc7",
   "metadata": {},
   "outputs": [
    {
     "data": {
      "text/plain": [
       "644.7142857142857"
      ]
     },
     "execution_count": 12,
     "metadata": {},
     "output_type": "execute_result"
    }
   ],
   "source": [
    "sum(integs)/len(integs)"
   ]
  },
  {
   "cell_type": "code",
   "execution_count": 13,
   "id": "527f0ef4",
   "metadata": {},
   "outputs": [
    {
     "data": {
      "text/plain": [
       "67"
      ]
     },
     "execution_count": 13,
     "metadata": {},
     "output_type": "execute_result"
    }
   ],
   "source": [
    "integs[-1]"
   ]
  },
  {
   "cell_type": "code",
   "execution_count": 14,
   "id": "a6348e73",
   "metadata": {},
   "outputs": [
    {
     "data": {
      "text/plain": [
       "[1, 2, 4, 53, 56]"
      ]
     },
     "execution_count": 14,
     "metadata": {},
     "output_type": "execute_result"
    }
   ],
   "source": [
    "integs[:5]"
   ]
  },
  {
   "cell_type": "code",
   "execution_count": 15,
   "id": "59ba79aa",
   "metadata": {},
   "outputs": [
    {
     "data": {
      "text/plain": [
       "[1, 2, 4, 53, 56, 3, 56]"
      ]
     },
     "execution_count": 15,
     "metadata": {},
     "output_type": "execute_result"
    }
   ],
   "source": [
    "integs[:7]"
   ]
  },
  {
   "cell_type": "code",
   "execution_count": 16,
   "id": "3ffa7228",
   "metadata": {},
   "outputs": [
    {
     "data": {
      "text/plain": [
       "(4, 56)"
      ]
     },
     "execution_count": 16,
     "metadata": {},
     "output_type": "execute_result"
    }
   ],
   "source": [
    "integs[2], integs[6]"
   ]
  },
  {
   "cell_type": "code",
   "execution_count": 17,
   "id": "a056639c",
   "metadata": {},
   "outputs": [
    {
     "data": {
      "text/plain": [
       "[4, 53, 56, 3]"
      ]
     },
     "execution_count": 17,
     "metadata": {},
     "output_type": "execute_result"
    }
   ],
   "source": [
    "integs[2:6]"
   ]
  },
  {
   "cell_type": "code",
   "execution_count": 18,
   "id": "050130f7",
   "metadata": {},
   "outputs": [
    {
     "data": {
      "text/plain": [
       "[2, 4, 53, 56, 3, 56, 367, 74, 67, 457, 35, 7784]"
      ]
     },
     "execution_count": 18,
     "metadata": {},
     "output_type": "execute_result"
    }
   ],
   "source": [
    "integs[1:-1] # index 1 onwards & excluding last item"
   ]
  },
  {
   "cell_type": "code",
   "execution_count": 19,
   "id": "4ffeeb6b",
   "metadata": {},
   "outputs": [
    {
     "data": {
      "text/plain": [
       "[457, 35, 7784, 67]"
      ]
     },
     "execution_count": 19,
     "metadata": {},
     "output_type": "execute_result"
    }
   ],
   "source": [
    "integs[-4:] #last 4 items"
   ]
  },
  {
   "cell_type": "code",
   "execution_count": 20,
   "id": "94a99e1f",
   "metadata": {},
   "outputs": [
    {
     "data": {
      "text/plain": [
       "[1, 2, 4, 53, 56, 3, 56, 367, 74, 67, 457, 35, 7784, 67]"
      ]
     },
     "execution_count": 20,
     "metadata": {},
     "output_type": "execute_result"
    }
   ],
   "source": [
    "integs"
   ]
  },
  {
   "cell_type": "code",
   "execution_count": 21,
   "id": "d35b3bbe",
   "metadata": {},
   "outputs": [
    {
     "data": {
      "text/plain": [
       "[1, 2, 4, 53, 56, 3, 56, 367, 74, 67]"
      ]
     },
     "execution_count": 21,
     "metadata": {},
     "output_type": "execute_result"
    }
   ],
   "source": [
    "integs[:-4] #start from 0 & ignore last 4 items"
   ]
  },
  {
   "cell_type": "code",
   "execution_count": 22,
   "id": "25ea683d",
   "metadata": {},
   "outputs": [
    {
     "data": {
      "text/plain": [
       "[1]"
      ]
     },
     "execution_count": 22,
     "metadata": {},
     "output_type": "execute_result"
    }
   ],
   "source": [
    "integs[:1] #number right to the : is always excluded \":1\" indicates start from 0th index & exclude 1st index item"
   ]
  },
  {
   "cell_type": "code",
   "execution_count": 23,
   "id": "c3b796ec",
   "metadata": {},
   "outputs": [
    {
     "data": {
      "text/plain": [
       "[1, 2, 4, 53, 56, 3, 56, 367, 74, 67, 457, 35, 7784, 67]"
      ]
     },
     "execution_count": 23,
     "metadata": {},
     "output_type": "execute_result"
    }
   ],
   "source": [
    "integs[:]"
   ]
  },
  {
   "cell_type": "markdown",
   "id": "65988fee",
   "metadata": {},
   "source": [
    "List comprehension & loops"
   ]
  },
  {
   "cell_type": "code",
   "execution_count": 24,
   "id": "9ce3a4fc",
   "metadata": {},
   "outputs": [
    {
     "data": {
      "text/plain": [
       "[0, 1, 4, 9, 16, 25, 36, 49, 64, 81]"
      ]
     },
     "execution_count": 24,
     "metadata": {},
     "output_type": "execute_result"
    }
   ],
   "source": [
    "[num ** 2 for num in range(10)]"
   ]
  },
  {
   "cell_type": "code",
   "execution_count": 25,
   "id": "6a3f8cd3",
   "metadata": {},
   "outputs": [
    {
     "data": {
      "text/plain": [
       "[0, 4, 16, 36, 64]"
      ]
     },
     "execution_count": 25,
     "metadata": {},
     "output_type": "execute_result"
    }
   ],
   "source": [
    "[num ** 2 for num in range(10) if num % 2 == 0] #list comprehension with a condition"
   ]
  },
  {
   "cell_type": "code",
   "execution_count": 26,
   "id": "2ff2d90d",
   "metadata": {},
   "outputs": [],
   "source": [
    "planets = ['Mercury', 'Venus', 'Earth', 'Mars', 'Jupiter', 'Saturn', 'Uranus', 'Neptune']"
   ]
  },
  {
   "cell_type": "code",
   "execution_count": 27,
   "id": "b2c6e97b",
   "metadata": {},
   "outputs": [
    {
     "name": "stdout",
     "output_type": "stream",
     "text": [
      "Mercury\n",
      "Venus\n",
      "Earth\n",
      "Mars\n",
      "Jupiter\n",
      "Saturn\n",
      "Uranus\n",
      "Neptune\n"
     ]
    }
   ],
   "source": [
    "for planet in planets:\n",
    "    print(planet)"
   ]
  },
  {
   "cell_type": "markdown",
   "id": "ad15bc42",
   "metadata": {},
   "source": [
    "while loop"
   ]
  },
  {
   "cell_type": "code",
   "execution_count": 28,
   "id": "774faa87",
   "metadata": {},
   "outputs": [
    {
     "name": "stdout",
     "output_type": "stream",
     "text": [
      "Mercury Venus Earth Mars Jupiter Saturn Uranus Neptune "
     ]
    }
   ],
   "source": [
    "i = 0\n",
    "while i < len(planets):\n",
    "    print(planets[i], end=\" \")\n",
    "    i+=1"
   ]
  },
  {
   "cell_type": "code",
   "execution_count": 29,
   "id": "cc51725f",
   "metadata": {},
   "outputs": [
    {
     "data": {
      "text/plain": [
       "['Venus', 'Earth', 'Mars', 'Saturn', 'Uranus']"
      ]
     },
     "execution_count": 29,
     "metadata": {},
     "output_type": "execute_result"
    }
   ],
   "source": [
    "[planet for planet in planets if len(planet) < 7] #similar to SQL SELECT, FROM, WHERE"
   ]
  },
  {
   "cell_type": "markdown",
   "id": "d31dc354",
   "metadata": {},
   "source": [
    "in the above cell we are returning just planet name, but we can customize what we return using string methods"
   ]
  },
  {
   "cell_type": "code",
   "execution_count": 30,
   "id": "88077a69",
   "metadata": {},
   "outputs": [
    {
     "data": {
      "text/plain": [
       "['VENUS', 'EARTH', 'MARS', 'SATURN', 'URANUS']"
      ]
     },
     "execution_count": 30,
     "metadata": {},
     "output_type": "execute_result"
    }
   ],
   "source": [
    "[planet.upper() for planet in planets if len(planet) < 7]"
   ]
  },
  {
   "cell_type": "code",
   "execution_count": 34,
   "id": "b6433f57",
   "metadata": {},
   "outputs": [
    {
     "data": {
      "text/plain": [
       "['Mercury!',\n",
       " 'Venus!',\n",
       " 'Earth!',\n",
       " 'Mars!',\n",
       " 'Jupiter!',\n",
       " 'Saturn!',\n",
       " 'Uranus!',\n",
       " 'Neptune!']"
      ]
     },
     "execution_count": 34,
     "metadata": {},
     "output_type": "execute_result"
    }
   ],
   "source": [
    "[planet+ \"!\" for planet in planets]"
   ]
  },
  {
   "cell_type": "code",
   "execution_count": 32,
   "id": "0abe3017",
   "metadata": {},
   "outputs": [
    {
     "data": {
      "text/plain": [
       "[44, 16, 78, 90, 10, 42]"
      ]
     },
     "execution_count": 32,
     "metadata": {},
     "output_type": "execute_result"
    }
   ],
   "source": [
    "nums = [23,45,44,16,78,90,10,42,31,37,89]\n",
    "[num for num in nums if num % 2 == 0]"
   ]
  },
  {
   "cell_type": "code",
   "execution_count": 33,
   "id": "19eaaf0c",
   "metadata": {},
   "outputs": [
    {
     "data": {
      "text/plain": [
       "6"
      ]
     },
     "execution_count": 33,
     "metadata": {},
     "output_type": "execute_result"
    }
   ],
   "source": [
    "len([num for num in nums if num % 2 == 0]) #count of even numbers"
   ]
  },
  {
   "cell_type": "markdown",
   "id": "3c37f477",
   "metadata": {},
   "source": [
    "list comprehension always returns a new list"
   ]
  },
  {
   "cell_type": "markdown",
   "id": "323d1ac9",
   "metadata": {},
   "source": [
    "since we can create a list of elements, modified elements, we can also create a list of bools"
   ]
  },
  {
   "cell_type": "code",
   "execution_count": 36,
   "id": "e6b090fd",
   "metadata": {},
   "outputs": [
    {
     "data": {
      "text/plain": [
       "[False, True, True, True, False, False, False, False]"
      ]
     },
     "execution_count": 36,
     "metadata": {},
     "output_type": "execute_result"
    }
   ],
   "source": [
    "[len(planet) < 6 for planet in planets]"
   ]
  },
  {
   "cell_type": "markdown",
   "id": "022ce48b",
   "metadata": {},
   "source": [
    "list of bools is created by providing the condition itself in element part of list comprehension"
   ]
  },
  {
   "cell_type": "markdown",
   "id": "4c9d275c",
   "metadata": {},
   "source": [
    "list comprehension syntax consists of 3 parts, analogical to SQL SELECT, FROM, WHERE statement\n",
    "1. element/modified element - return number/squared number, string/capitalized string\n",
    "2. for element in list -  specifies which list to iterate over\n",
    "3. condition - optional, if condition is not specified all items will be considered "
   ]
  },
  {
   "cell_type": "markdown",
   "id": "eef38ca6",
   "metadata": {},
   "source": [
    "example:"
   ]
  },
  {
   "cell_type": "code",
   "execution_count": 42,
   "id": "6460a649",
   "metadata": {},
   "outputs": [],
   "source": [
    "list_a = [1,2,3,4,5]"
   ]
  },
  {
   "cell_type": "code",
   "execution_count": 46,
   "id": "bdef9809",
   "metadata": {},
   "outputs": [
    {
     "data": {
      "text/plain": [
       "[1, 8, 27, 64, 125]"
      ]
     },
     "execution_count": 46,
     "metadata": {},
     "output_type": "execute_result"
    }
   ],
   "source": [
    "[i ** 3 for i in list_a]"
   ]
  },
  {
   "cell_type": "code",
   "execution_count": 48,
   "id": "fbfd7ac6",
   "metadata": {},
   "outputs": [
    {
     "data": {
      "text/plain": [
       "['PASTA!',\n",
       " 'CHEESE!',\n",
       " 'SAUCE!',\n",
       " 'SALAD!',\n",
       " 'FRUITS!',\n",
       " 'OREGANO!',\n",
       " 'CAKE!',\n",
       " 'TISSUES!',\n",
       " 'GLOVES!']"
      ]
     },
     "execution_count": 48,
     "metadata": {},
     "output_type": "execute_result"
    }
   ],
   "source": [
    "list_b = ['pasta', 'cheese', 'sauce', 'salad', 'fruits', 'oregano', 'cake', 'tissues', 'gloves']\n",
    "[b.upper()+\"!\" for b in list_b]"
   ]
  },
  {
   "cell_type": "code",
   "execution_count": 50,
   "id": "333d492c",
   "metadata": {},
   "outputs": [
    {
     "data": {
      "text/plain": [
       "['cheese', 'fruits', 'oregano', 'tissues', 'gloves']"
      ]
     },
     "execution_count": 50,
     "metadata": {},
     "output_type": "execute_result"
    }
   ],
   "source": [
    "[b for b in list_b if len(b) > 5]"
   ]
  },
  {
   "cell_type": "code",
   "execution_count": 52,
   "id": "09dc276a",
   "metadata": {},
   "outputs": [
    {
     "data": {
      "text/plain": [
       "[True, False, False, True, False]"
      ]
     },
     "execution_count": 52,
     "metadata": {},
     "output_type": "execute_result"
    }
   ],
   "source": [
    "list_c = [[1,2,3],[4,5,6,7,8],[9,8,6,5],[1,2],[0,0,0,0]]\n",
    "[len(item) < 4 for item in list_c ]"
   ]
  },
  {
   "cell_type": "code",
   "execution_count": null,
   "id": "595c3526",
   "metadata": {},
   "outputs": [],
   "source": []
  }
 ],
 "metadata": {
  "kernelspec": {
   "display_name": "Python 3 (ipykernel)",
   "language": "python",
   "name": "python3"
  },
  "language_info": {
   "codemirror_mode": {
    "name": "ipython",
    "version": 3
   },
   "file_extension": ".py",
   "mimetype": "text/x-python",
   "name": "python",
   "nbconvert_exporter": "python",
   "pygments_lexer": "ipython3",
   "version": "3.9.12"
  }
 },
 "nbformat": 4,
 "nbformat_minor": 5
}
